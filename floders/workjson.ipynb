{
 "cells": [
  {
   "cell_type": "markdown",
   "id": "d09952cc-50a8-4764-a51d-4774c340934f",
   "metadata": {},
   "source": [
    "# Можете ли вы предсказать цену на основе полученных данных? Классифицируйте по городу, провинции, цвету, типу кузова, производителю, модели, дате выпуска, мощности двигателя, регистрационному номеру и т.д."
   ]
  },
  {
   "cell_type": "markdown",
   "id": "9b3d31bd-1300-44a9-a963-c72c063ff772",
   "metadata": {},
   "source": [
    "# Модуль 1"
   ]
  },
  {
   "cell_type": "code",
   "execution_count": 1,
   "id": "b1a0288e-4bd5-4f8a-8f53-7f88ad676241",
   "metadata": {
    "tags": []
   },
   "outputs": [],
   "source": [
    "# базовые библиотеки\n",
    "import numpy as np \n",
    "import pandas as pd\n",
    "\n",
    "# графические библиотеки\n",
    "import matplotlib.pyplot as plt \n",
    "import seaborn as sns\n",
    "\n",
    "# дополнительная библиотека чтобы игнорировать предупреждения при выполнении кода (необязательно к применению)\n",
    "import warnings\n",
    "warnings.filterwarnings('ignore')"
   ]
  },
  {
   "cell_type": "code",
   "execution_count": 2,
   "id": "1fed70fa-5279-4bec-9baf-3c116913cbe7",
   "metadata": {
    "tags": []
   },
   "outputs": [],
   "source": [
    "df = pd.read_json('usedCars.json') # стандартная выгрузка json"
   ]
  },
  {
   "cell_type": "code",
   "execution_count": 3,
   "id": "c8cdc78a-93e0-4a8c-a42d-f69748935f8a",
   "metadata": {
    "tags": []
   },
   "outputs": [
    {
     "data": {
      "text/html": [
       "<div>\n",
       "<style scoped>\n",
       "    .dataframe tbody tr th:only-of-type {\n",
       "        vertical-align: middle;\n",
       "    }\n",
       "\n",
       "    .dataframe tbody tr th {\n",
       "        vertical-align: top;\n",
       "    }\n",
       "\n",
       "    .dataframe thead th {\n",
       "        text-align: right;\n",
       "    }\n",
       "</style>\n",
       "<table border=\"1\" class=\"dataframe\">\n",
       "  <thead>\n",
       "    <tr style=\"text-align: right;\">\n",
       "      <th></th>\n",
       "      <th>usedCars</th>\n",
       "    </tr>\n",
       "  </thead>\n",
       "  <tbody>\n",
       "    <tr>\n",
       "      <th>0</th>\n",
       "      <td>{'@type': 'Car', 'brand': {'@type': 'Brand', '...</td>\n",
       "    </tr>\n",
       "    <tr>\n",
       "      <th>1</th>\n",
       "      <td>{'@type': 'Car', 'brand': {'@type': 'Brand', '...</td>\n",
       "    </tr>\n",
       "    <tr>\n",
       "      <th>2</th>\n",
       "      <td>{'@type': 'Car', 'brand': {'@type': 'Brand', '...</td>\n",
       "    </tr>\n",
       "    <tr>\n",
       "      <th>3</th>\n",
       "      <td>{'@type': 'Car', 'brand': {'@type': 'Brand', '...</td>\n",
       "    </tr>\n",
       "    <tr>\n",
       "      <th>4</th>\n",
       "      <td>{'@type': 'Car', 'brand': {'@type': 'Brand', '...</td>\n",
       "    </tr>\n",
       "  </tbody>\n",
       "</table>\n",
       "</div>"
      ],
      "text/plain": [
       "                                            usedCars\n",
       "0  {'@type': 'Car', 'brand': {'@type': 'Brand', '...\n",
       "1  {'@type': 'Car', 'brand': {'@type': 'Brand', '...\n",
       "2  {'@type': 'Car', 'brand': {'@type': 'Brand', '...\n",
       "3  {'@type': 'Car', 'brand': {'@type': 'Brand', '...\n",
       "4  {'@type': 'Car', 'brand': {'@type': 'Brand', '..."
      ]
     },
     "execution_count": 3,
     "metadata": {},
     "output_type": "execute_result"
    }
   ],
   "source": [
    "df.head() # смотрим"
   ]
  },
  {
   "cell_type": "code",
   "execution_count": 4,
   "id": "52554dac-5584-46a4-b769-51e263535c23",
   "metadata": {
    "tags": []
   },
   "outputs": [],
   "source": [
    "from pandas import json_normalize\n",
    "import json\n",
    "\n",
    "# Загрузка данных из JSON файла в отдельную переменную\n",
    "with open('usedCars.json') as f:\n",
    "    data = json.load(f)\n",
    "\n",
    "# Применение через json_normalize ко всему датафрейму \n",
    "df = json_normalize(data, 'usedCars')"
   ]
  },
  {
   "cell_type": "markdown",
   "id": "90d420b3-13c5-4503-ad76-8752f22854c3",
   "metadata": {},
   "source": [
    "from pandas import json_normalize: Импорт функции json_normalize из библиотеки pandas. Эта функция используется для нормализации данных JSON в формат DataFrame.\n",
    "\n",
    "import json: Импорт модуля json, который предоставляет методы для работы с данными в формате JSON.\n",
    "\n",
    "with open('usedCars.json') as f: Открывает файл 'usedCars.json' в режиме чтения.\n",
    "json.load(f): Считывает данные из файла с использованием модуля json и сохраняет их в переменной data. Теперь data представляет собой структуру данных в формате JSON.\n",
    "\n",
    "json_normalize(data, 'usedCars'): Применение функции json_normalize к столбцу 'usedCars' из структуры данных data. Результат сохраняется в переменной df. Теперь df представляет собой DataFrame, где каждая строка соответствует объекту из столбца 'usedCars' и его атрибутам."
   ]
  },
  {
   "cell_type": "code",
   "execution_count": 5,
   "id": "4aabbef1-f1ba-4d40-bd98-cffbf6f3bec2",
   "metadata": {
    "tags": []
   },
   "outputs": [
    {
     "data": {
      "text/html": [
       "<div>\n",
       "<style scoped>\n",
       "    .dataframe tbody tr th:only-of-type {\n",
       "        vertical-align: middle;\n",
       "    }\n",
       "\n",
       "    .dataframe tbody tr th {\n",
       "        vertical-align: top;\n",
       "    }\n",
       "\n",
       "    .dataframe thead th {\n",
       "        text-align: right;\n",
       "    }\n",
       "</style>\n",
       "<table border=\"1\" class=\"dataframe\">\n",
       "  <thead>\n",
       "    <tr style=\"text-align: right;\">\n",
       "      <th></th>\n",
       "      <th>0</th>\n",
       "      <th>1</th>\n",
       "      <th>2</th>\n",
       "      <th>3</th>\n",
       "      <th>4</th>\n",
       "    </tr>\n",
       "  </thead>\n",
       "  <tbody>\n",
       "    <tr>\n",
       "      <th>@type</th>\n",
       "      <td>Car</td>\n",
       "      <td>Car</td>\n",
       "      <td>Car</td>\n",
       "      <td>Car</td>\n",
       "      <td>Car</td>\n",
       "    </tr>\n",
       "    <tr>\n",
       "      <th>model</th>\n",
       "      <td>Mehran</td>\n",
       "      <td>Pajero</td>\n",
       "      <td>Cultus</td>\n",
       "      <td>Corolla</td>\n",
       "      <td>City</td>\n",
       "    </tr>\n",
       "    <tr>\n",
       "      <th>description</th>\n",
       "      <td>I m  100% original. Alloy Rims. New tires inst...</td>\n",
       "      <td>Read Full Discription First\\n\\nIts Super Selec...</td>\n",
       "      <td>1 piece touch first owner new tyre urgent sale...</td>\n",
       "      <td>Axio luxel alfa 2007 model full option sensor ...</td>\n",
       "      <td>100% original.</td>\n",
       "    </tr>\n",
       "    <tr>\n",
       "      <th>itemCondition</th>\n",
       "      <td>used</td>\n",
       "      <td>used</td>\n",
       "      <td>used</td>\n",
       "      <td>used</td>\n",
       "      <td>used</td>\n",
       "    </tr>\n",
       "    <tr>\n",
       "      <th>modelDate</th>\n",
       "      <td>2013</td>\n",
       "      <td>1992</td>\n",
       "      <td>2016</td>\n",
       "      <td>2007</td>\n",
       "      <td>2013</td>\n",
       "    </tr>\n",
       "    <tr>\n",
       "      <th>manufacturer</th>\n",
       "      <td>Suzuki</td>\n",
       "      <td>Mitsubishi</td>\n",
       "      <td>Suzuki</td>\n",
       "      <td>Toyota</td>\n",
       "      <td>Honda</td>\n",
       "    </tr>\n",
       "    <tr>\n",
       "      <th>fuelType</th>\n",
       "      <td>Petrol</td>\n",
       "      <td>Petrol</td>\n",
       "      <td>Petrol</td>\n",
       "      <td>Petrol</td>\n",
       "      <td>Petrol</td>\n",
       "    </tr>\n",
       "    <tr>\n",
       "      <th>name</th>\n",
       "      <td>Suzuki Mehran 2013 for sale in Rawalpindi</td>\n",
       "      <td>Mitsubishi Pajero 1992 for sale in Islamabad</td>\n",
       "      <td>Suzuki Cultus 2016 for sale in Lahore</td>\n",
       "      <td>Toyota Corolla 2007 for sale in Peshawar</td>\n",
       "      <td>Honda City 2013 for sale in Lahore</td>\n",
       "    </tr>\n",
       "    <tr>\n",
       "      <th>image</th>\n",
       "      <td>https://cache1.pakwheels.com/ad_pictures/5534/...</td>\n",
       "      <td>https://cache2.pakwheels.com/ad_pictures/5543/...</td>\n",
       "      <td>https://cache3.pakwheels.com/ad_pictures/5533/...</td>\n",
       "      <td>https://cache1.pakwheels.com/ad_pictures/5533/...</td>\n",
       "      <td>None</td>\n",
       "    </tr>\n",
       "    <tr>\n",
       "      <th>vehicleTransmission</th>\n",
       "      <td>Manual</td>\n",
       "      <td>Automatic</td>\n",
       "      <td>Manual</td>\n",
       "      <td>Automatic</td>\n",
       "      <td>Manual</td>\n",
       "    </tr>\n",
       "    <tr>\n",
       "      <th>color</th>\n",
       "      <td>White</td>\n",
       "      <td>Silver</td>\n",
       "      <td>Grey</td>\n",
       "      <td>White</td>\n",
       "      <td>Grey</td>\n",
       "    </tr>\n",
       "    <tr>\n",
       "      <th>bodyType</th>\n",
       "      <td>Hatchback</td>\n",
       "      <td>SUV</td>\n",
       "      <td>Hatchback</td>\n",
       "      <td>NaN</td>\n",
       "      <td>Sedan</td>\n",
       "    </tr>\n",
       "    <tr>\n",
       "      <th>mileageFromOdometer</th>\n",
       "      <td>42,000 km</td>\n",
       "      <td>82,400 km</td>\n",
       "      <td>123,456 km</td>\n",
       "      <td>71,000 km</td>\n",
       "      <td>11 km</td>\n",
       "    </tr>\n",
       "    <tr>\n",
       "      <th>sellerLocation</th>\n",
       "      <td>Rawalpindi Punjab</td>\n",
       "      <td>Airport Enclave, Islamabad Islamabad</td>\n",
       "      <td>Lahore Punjab</td>\n",
       "      <td>Ring Road, Peshawar KPK</td>\n",
       "      <td>Lahore Punjab</td>\n",
       "    </tr>\n",
       "    <tr>\n",
       "      <th>postedFrom</th>\n",
       "      <td>Added via Website</td>\n",
       "      <td>Added via Phone</td>\n",
       "      <td>Added via Phone</td>\n",
       "      <td>Added via Phone</td>\n",
       "      <td>Added via Phone</td>\n",
       "    </tr>\n",
       "    <tr>\n",
       "      <th>keywords</th>\n",
       "      <td>suzuki mehran 2013 for sale, suzuki mehran 201...</td>\n",
       "      <td>mitsubishi pajero 1992 for sale, mitsubishi pa...</td>\n",
       "      <td>suzuki cultus 2016 for sale, suzuki cultus 201...</td>\n",
       "      <td>toyota corolla 2007 for sale, toyota corolla 2...</td>\n",
       "      <td>honda city 2013 for sale, honda city 2013, hon...</td>\n",
       "    </tr>\n",
       "    <tr>\n",
       "      <th>features</th>\n",
       "      <td>[AM/FM Radio, Alloy Rims, Cassette Player, Imm...</td>\n",
       "      <td>[AM/FM Radio, Air Bags, Air Conditioning, Allo...</td>\n",
       "      <td>[AM/FM Radio, Air Conditioning, Alloy Rims, CD...</td>\n",
       "      <td>[ABS, AM/FM Radio, Air Bags, Air Conditioning,...</td>\n",
       "      <td>[ABS, AM/FM Radio, Air Conditioning, Alloy Rim...</td>\n",
       "    </tr>\n",
       "    <tr>\n",
       "      <th>adLastUpdated</th>\n",
       "      <td>Aug 27, 2021</td>\n",
       "      <td>Aug 27, 2021</td>\n",
       "      <td>Aug 27, 2021</td>\n",
       "      <td>Aug 27, 2021</td>\n",
       "      <td>Aug 27, 2021</td>\n",
       "    </tr>\n",
       "    <tr>\n",
       "      <th>price</th>\n",
       "      <td>790000</td>\n",
       "      <td>2000000</td>\n",
       "      <td>1265000</td>\n",
       "      <td>3500000</td>\n",
       "      <td>2075000</td>\n",
       "    </tr>\n",
       "    <tr>\n",
       "      <th>priceCurrency</th>\n",
       "      <td>PKR</td>\n",
       "      <td>PKR</td>\n",
       "      <td>PKR</td>\n",
       "      <td>PKR</td>\n",
       "      <td>PKR</td>\n",
       "    </tr>\n",
       "    <tr>\n",
       "      <th>brand.@type</th>\n",
       "      <td>Brand</td>\n",
       "      <td>Brand</td>\n",
       "      <td>Brand</td>\n",
       "      <td>Brand</td>\n",
       "      <td>Brand</td>\n",
       "    </tr>\n",
       "    <tr>\n",
       "      <th>brand.name</th>\n",
       "      <td>Suzuki</td>\n",
       "      <td>Mitsubishi</td>\n",
       "      <td>Suzuki</td>\n",
       "      <td>Toyota</td>\n",
       "      <td>Honda</td>\n",
       "    </tr>\n",
       "    <tr>\n",
       "      <th>vehicleEngine.@type</th>\n",
       "      <td>EngineSpecification</td>\n",
       "      <td>EngineSpecification</td>\n",
       "      <td>EngineSpecification</td>\n",
       "      <td>EngineSpecification</td>\n",
       "      <td>EngineSpecification</td>\n",
       "    </tr>\n",
       "    <tr>\n",
       "      <th>vehicleEngine.engineDisplacement</th>\n",
       "      <td>800cc</td>\n",
       "      <td>3500cc</td>\n",
       "      <td>1000cc</td>\n",
       "      <td>1800cc</td>\n",
       "      <td>1500cc</td>\n",
       "    </tr>\n",
       "    <tr>\n",
       "      <th>extraFeatures.RegisteredIn</th>\n",
       "      <td>Islamabad</td>\n",
       "      <td>Karachi</td>\n",
       "      <td>Lahore</td>\n",
       "      <td>Un-Registered</td>\n",
       "      <td>Lahore</td>\n",
       "    </tr>\n",
       "    <tr>\n",
       "      <th>extraFeatures.Color</th>\n",
       "      <td>White</td>\n",
       "      <td>Silver</td>\n",
       "      <td>Grey</td>\n",
       "      <td>White</td>\n",
       "      <td>Grey</td>\n",
       "    </tr>\n",
       "    <tr>\n",
       "      <th>extraFeatures.Assembly</th>\n",
       "      <td>Local</td>\n",
       "      <td>Imported</td>\n",
       "      <td>Local</td>\n",
       "      <td>Imported</td>\n",
       "      <td>Local</td>\n",
       "    </tr>\n",
       "    <tr>\n",
       "      <th>extraFeatures.EngineCapacity</th>\n",
       "      <td>800 cc</td>\n",
       "      <td>3500 cc</td>\n",
       "      <td>1000 cc</td>\n",
       "      <td>1800 cc</td>\n",
       "      <td>1500 cc</td>\n",
       "    </tr>\n",
       "    <tr>\n",
       "      <th>extraFeatures.BodyType</th>\n",
       "      <td>Hatchback</td>\n",
       "      <td>SUV</td>\n",
       "      <td>Hatchback</td>\n",
       "      <td>N/A</td>\n",
       "      <td>Sedan</td>\n",
       "    </tr>\n",
       "    <tr>\n",
       "      <th>extraFeatures.LastUpdated:</th>\n",
       "      <td>Aug 27, 2021</td>\n",
       "      <td>Aug 27, 2021</td>\n",
       "      <td>Aug 27, 2021</td>\n",
       "      <td>Aug 27, 2021</td>\n",
       "      <td>Aug 27, 2021</td>\n",
       "    </tr>\n",
       "    <tr>\n",
       "      <th>extraFeatures.AdRef#</th>\n",
       "      <td>5364013</td>\n",
       "      <td>5363177</td>\n",
       "      <td>5363246</td>\n",
       "      <td>5363267</td>\n",
       "      <td>5363299</td>\n",
       "    </tr>\n",
       "    <tr>\n",
       "      <th>extraFeatures.AuctionGrade</th>\n",
       "      <td>NaN</td>\n",
       "      <td>NaN</td>\n",
       "      <td>NaN</td>\n",
       "      <td>NaN</td>\n",
       "      <td>NaN</td>\n",
       "    </tr>\n",
       "    <tr>\n",
       "      <th>extraFeatures.ChassisNo.</th>\n",
       "      <td>NaN</td>\n",
       "      <td>NaN</td>\n",
       "      <td>NaN</td>\n",
       "      <td>NaN</td>\n",
       "      <td>NaN</td>\n",
       "    </tr>\n",
       "    <tr>\n",
       "      <th>extraFeatures.ImportDate</th>\n",
       "      <td>NaN</td>\n",
       "      <td>NaN</td>\n",
       "      <td>NaN</td>\n",
       "      <td>NaN</td>\n",
       "      <td>NaN</td>\n",
       "    </tr>\n",
       "    <tr>\n",
       "      <th>extraFeatures.BatteryCapacity</th>\n",
       "      <td>NaN</td>\n",
       "      <td>NaN</td>\n",
       "      <td>NaN</td>\n",
       "      <td>NaN</td>\n",
       "      <td>NaN</td>\n",
       "    </tr>\n",
       "    <tr>\n",
       "      <th>extraFeatures.Warranty</th>\n",
       "      <td>NaN</td>\n",
       "      <td>NaN</td>\n",
       "      <td>NaN</td>\n",
       "      <td>NaN</td>\n",
       "      <td>NaN</td>\n",
       "    </tr>\n",
       "    <tr>\n",
       "      <th>extraFeatures</th>\n",
       "      <td>NaN</td>\n",
       "      <td>NaN</td>\n",
       "      <td>NaN</td>\n",
       "      <td>NaN</td>\n",
       "      <td>NaN</td>\n",
       "    </tr>\n",
       "  </tbody>\n",
       "</table>\n",
       "</div>"
      ],
      "text/plain": [
       "                                                                                  0  \\\n",
       "@type                                                                           Car   \n",
       "model                                                                        Mehran   \n",
       "description                       I m  100% original. Alloy Rims. New tires inst...   \n",
       "itemCondition                                                                  used   \n",
       "modelDate                                                                      2013   \n",
       "manufacturer                                                                 Suzuki   \n",
       "fuelType                                                                     Petrol   \n",
       "name                                      Suzuki Mehran 2013 for sale in Rawalpindi   \n",
       "image                             https://cache1.pakwheels.com/ad_pictures/5534/...   \n",
       "vehicleTransmission                                                          Manual   \n",
       "color                                                                         White   \n",
       "bodyType                                                                  Hatchback   \n",
       "mileageFromOdometer                                                       42,000 km   \n",
       "sellerLocation                                                    Rawalpindi Punjab   \n",
       "postedFrom                                                        Added via Website   \n",
       "keywords                          suzuki mehran 2013 for sale, suzuki mehran 201...   \n",
       "features                          [AM/FM Radio, Alloy Rims, Cassette Player, Imm...   \n",
       "adLastUpdated                                                          Aug 27, 2021   \n",
       "price                                                                        790000   \n",
       "priceCurrency                                                                   PKR   \n",
       "brand.@type                                                                   Brand   \n",
       "brand.name                                                                   Suzuki   \n",
       "vehicleEngine.@type                                             EngineSpecification   \n",
       "vehicleEngine.engineDisplacement                                              800cc   \n",
       "extraFeatures.RegisteredIn                                                Islamabad   \n",
       "extraFeatures.Color                                                           White   \n",
       "extraFeatures.Assembly                                                        Local   \n",
       "extraFeatures.EngineCapacity                                                 800 cc   \n",
       "extraFeatures.BodyType                                                    Hatchback   \n",
       "extraFeatures.LastUpdated:                                             Aug 27, 2021   \n",
       "extraFeatures.AdRef#                                                        5364013   \n",
       "extraFeatures.AuctionGrade                                                      NaN   \n",
       "extraFeatures.ChassisNo.                                                        NaN   \n",
       "extraFeatures.ImportDate                                                        NaN   \n",
       "extraFeatures.BatteryCapacity                                                   NaN   \n",
       "extraFeatures.Warranty                                                          NaN   \n",
       "extraFeatures                                                                   NaN   \n",
       "\n",
       "                                                                                  1  \\\n",
       "@type                                                                           Car   \n",
       "model                                                                        Pajero   \n",
       "description                       Read Full Discription First\\n\\nIts Super Selec...   \n",
       "itemCondition                                                                  used   \n",
       "modelDate                                                                      1992   \n",
       "manufacturer                                                             Mitsubishi   \n",
       "fuelType                                                                     Petrol   \n",
       "name                                   Mitsubishi Pajero 1992 for sale in Islamabad   \n",
       "image                             https://cache2.pakwheels.com/ad_pictures/5543/...   \n",
       "vehicleTransmission                                                       Automatic   \n",
       "color                                                                        Silver   \n",
       "bodyType                                                                        SUV   \n",
       "mileageFromOdometer                                                       82,400 km   \n",
       "sellerLocation                                 Airport Enclave, Islamabad Islamabad   \n",
       "postedFrom                                                          Added via Phone   \n",
       "keywords                          mitsubishi pajero 1992 for sale, mitsubishi pa...   \n",
       "features                          [AM/FM Radio, Air Bags, Air Conditioning, Allo...   \n",
       "adLastUpdated                                                          Aug 27, 2021   \n",
       "price                                                                       2000000   \n",
       "priceCurrency                                                                   PKR   \n",
       "brand.@type                                                                   Brand   \n",
       "brand.name                                                               Mitsubishi   \n",
       "vehicleEngine.@type                                             EngineSpecification   \n",
       "vehicleEngine.engineDisplacement                                             3500cc   \n",
       "extraFeatures.RegisteredIn                                                  Karachi   \n",
       "extraFeatures.Color                                                          Silver   \n",
       "extraFeatures.Assembly                                                     Imported   \n",
       "extraFeatures.EngineCapacity                                                3500 cc   \n",
       "extraFeatures.BodyType                                                          SUV   \n",
       "extraFeatures.LastUpdated:                                             Aug 27, 2021   \n",
       "extraFeatures.AdRef#                                                        5363177   \n",
       "extraFeatures.AuctionGrade                                                      NaN   \n",
       "extraFeatures.ChassisNo.                                                        NaN   \n",
       "extraFeatures.ImportDate                                                        NaN   \n",
       "extraFeatures.BatteryCapacity                                                   NaN   \n",
       "extraFeatures.Warranty                                                          NaN   \n",
       "extraFeatures                                                                   NaN   \n",
       "\n",
       "                                                                                  2  \\\n",
       "@type                                                                           Car   \n",
       "model                                                                        Cultus   \n",
       "description                       1 piece touch first owner new tyre urgent sale...   \n",
       "itemCondition                                                                  used   \n",
       "modelDate                                                                      2016   \n",
       "manufacturer                                                                 Suzuki   \n",
       "fuelType                                                                     Petrol   \n",
       "name                                          Suzuki Cultus 2016 for sale in Lahore   \n",
       "image                             https://cache3.pakwheels.com/ad_pictures/5533/...   \n",
       "vehicleTransmission                                                          Manual   \n",
       "color                                                                          Grey   \n",
       "bodyType                                                                  Hatchback   \n",
       "mileageFromOdometer                                                      123,456 km   \n",
       "sellerLocation                                                        Lahore Punjab   \n",
       "postedFrom                                                          Added via Phone   \n",
       "keywords                          suzuki cultus 2016 for sale, suzuki cultus 201...   \n",
       "features                          [AM/FM Radio, Air Conditioning, Alloy Rims, CD...   \n",
       "adLastUpdated                                                          Aug 27, 2021   \n",
       "price                                                                       1265000   \n",
       "priceCurrency                                                                   PKR   \n",
       "brand.@type                                                                   Brand   \n",
       "brand.name                                                                   Suzuki   \n",
       "vehicleEngine.@type                                             EngineSpecification   \n",
       "vehicleEngine.engineDisplacement                                             1000cc   \n",
       "extraFeatures.RegisteredIn                                                   Lahore   \n",
       "extraFeatures.Color                                                            Grey   \n",
       "extraFeatures.Assembly                                                        Local   \n",
       "extraFeatures.EngineCapacity                                                1000 cc   \n",
       "extraFeatures.BodyType                                                    Hatchback   \n",
       "extraFeatures.LastUpdated:                                             Aug 27, 2021   \n",
       "extraFeatures.AdRef#                                                        5363246   \n",
       "extraFeatures.AuctionGrade                                                      NaN   \n",
       "extraFeatures.ChassisNo.                                                        NaN   \n",
       "extraFeatures.ImportDate                                                        NaN   \n",
       "extraFeatures.BatteryCapacity                                                   NaN   \n",
       "extraFeatures.Warranty                                                          NaN   \n",
       "extraFeatures                                                                   NaN   \n",
       "\n",
       "                                                                                  3  \\\n",
       "@type                                                                           Car   \n",
       "model                                                                       Corolla   \n",
       "description                       Axio luxel alfa 2007 model full option sensor ...   \n",
       "itemCondition                                                                  used   \n",
       "modelDate                                                                      2007   \n",
       "manufacturer                                                                 Toyota   \n",
       "fuelType                                                                     Petrol   \n",
       "name                                       Toyota Corolla 2007 for sale in Peshawar   \n",
       "image                             https://cache1.pakwheels.com/ad_pictures/5533/...   \n",
       "vehicleTransmission                                                       Automatic   \n",
       "color                                                                         White   \n",
       "bodyType                                                                        NaN   \n",
       "mileageFromOdometer                                                       71,000 km   \n",
       "sellerLocation                                              Ring Road, Peshawar KPK   \n",
       "postedFrom                                                          Added via Phone   \n",
       "keywords                          toyota corolla 2007 for sale, toyota corolla 2...   \n",
       "features                          [ABS, AM/FM Radio, Air Bags, Air Conditioning,...   \n",
       "adLastUpdated                                                          Aug 27, 2021   \n",
       "price                                                                       3500000   \n",
       "priceCurrency                                                                   PKR   \n",
       "brand.@type                                                                   Brand   \n",
       "brand.name                                                                   Toyota   \n",
       "vehicleEngine.@type                                             EngineSpecification   \n",
       "vehicleEngine.engineDisplacement                                             1800cc   \n",
       "extraFeatures.RegisteredIn                                            Un-Registered   \n",
       "extraFeatures.Color                                                           White   \n",
       "extraFeatures.Assembly                                                     Imported   \n",
       "extraFeatures.EngineCapacity                                                1800 cc   \n",
       "extraFeatures.BodyType                                                          N/A   \n",
       "extraFeatures.LastUpdated:                                             Aug 27, 2021   \n",
       "extraFeatures.AdRef#                                                        5363267   \n",
       "extraFeatures.AuctionGrade                                                      NaN   \n",
       "extraFeatures.ChassisNo.                                                        NaN   \n",
       "extraFeatures.ImportDate                                                        NaN   \n",
       "extraFeatures.BatteryCapacity                                                   NaN   \n",
       "extraFeatures.Warranty                                                          NaN   \n",
       "extraFeatures                                                                   NaN   \n",
       "\n",
       "                                                                                  4  \n",
       "@type                                                                           Car  \n",
       "model                                                                          City  \n",
       "description                                                          100% original.  \n",
       "itemCondition                                                                  used  \n",
       "modelDate                                                                      2013  \n",
       "manufacturer                                                                  Honda  \n",
       "fuelType                                                                     Petrol  \n",
       "name                                             Honda City 2013 for sale in Lahore  \n",
       "image                                                                          None  \n",
       "vehicleTransmission                                                          Manual  \n",
       "color                                                                          Grey  \n",
       "bodyType                                                                      Sedan  \n",
       "mileageFromOdometer                                                           11 km  \n",
       "sellerLocation                                                        Lahore Punjab  \n",
       "postedFrom                                                          Added via Phone  \n",
       "keywords                          honda city 2013 for sale, honda city 2013, hon...  \n",
       "features                          [ABS, AM/FM Radio, Air Conditioning, Alloy Rim...  \n",
       "adLastUpdated                                                          Aug 27, 2021  \n",
       "price                                                                       2075000  \n",
       "priceCurrency                                                                   PKR  \n",
       "brand.@type                                                                   Brand  \n",
       "brand.name                                                                    Honda  \n",
       "vehicleEngine.@type                                             EngineSpecification  \n",
       "vehicleEngine.engineDisplacement                                             1500cc  \n",
       "extraFeatures.RegisteredIn                                                   Lahore  \n",
       "extraFeatures.Color                                                            Grey  \n",
       "extraFeatures.Assembly                                                        Local  \n",
       "extraFeatures.EngineCapacity                                                1500 cc  \n",
       "extraFeatures.BodyType                                                        Sedan  \n",
       "extraFeatures.LastUpdated:                                             Aug 27, 2021  \n",
       "extraFeatures.AdRef#                                                        5363299  \n",
       "extraFeatures.AuctionGrade                                                      NaN  \n",
       "extraFeatures.ChassisNo.                                                        NaN  \n",
       "extraFeatures.ImportDate                                                        NaN  \n",
       "extraFeatures.BatteryCapacity                                                   NaN  \n",
       "extraFeatures.Warranty                                                          NaN  \n",
       "extraFeatures                                                                   NaN  "
      ]
     },
     "execution_count": 5,
     "metadata": {},
     "output_type": "execute_result"
    }
   ],
   "source": [
    "df.head().T"
   ]
  },
  {
   "cell_type": "code",
   "execution_count": 6,
   "id": "2e3e4819-9ab4-4378-99b4-2315c75df8d5",
   "metadata": {
    "tags": []
   },
   "outputs": [
    {
     "name": "stdout",
     "output_type": "stream",
     "text": [
      "Полностью: (55675, 37)\n",
      "Кол-во строк: 55675\n",
      "Кол-во столбцов: 37\n"
     ]
    }
   ],
   "source": [
    "print(f\"Полностью: {df.shape}\")\n",
    "print(f\"Кол-во строк: {df.shape[0]}\")\n",
    "print(f\"Кол-во столбцов: {df.shape[1]}\")"
   ]
  },
  {
   "cell_type": "code",
   "execution_count": 7,
   "id": "6887a77d-4d5a-428b-bcb2-e7974f4945b3",
   "metadata": {
    "tags": []
   },
   "outputs": [
    {
     "name": "stdout",
     "output_type": "stream",
     "text": [
      "<class 'pandas.core.frame.DataFrame'>\n",
      "RangeIndex: 55675 entries, 0 to 55674\n",
      "Data columns (total 37 columns):\n",
      " #   Column                            Non-Null Count  Dtype \n",
      "---  ------                            --------------  ----- \n",
      " 0   @type                             55675 non-null  object\n",
      " 1   model                             55675 non-null  object\n",
      " 2   description                       55675 non-null  object\n",
      " 3   itemCondition                     55675 non-null  object\n",
      " 4   modelDate                         55675 non-null  int64 \n",
      " 5   manufacturer                      55675 non-null  object\n",
      " 6   fuelType                          55675 non-null  object\n",
      " 7   name                              55675 non-null  object\n",
      " 8   image                             53600 non-null  object\n",
      " 9   vehicleTransmission               55675 non-null  object\n",
      " 10  color                             55675 non-null  object\n",
      " 11  bodyType                          48724 non-null  object\n",
      " 12  mileageFromOdometer               55675 non-null  object\n",
      " 13  sellerLocation                    55675 non-null  object\n",
      " 14  postedFrom                        55673 non-null  object\n",
      " 15  keywords                          55675 non-null  object\n",
      " 16  features                          55675 non-null  object\n",
      " 17  adLastUpdated                     55675 non-null  object\n",
      " 18  price                             55675 non-null  int64 \n",
      " 19  priceCurrency                     55675 non-null  object\n",
      " 20  brand.@type                       55675 non-null  object\n",
      " 21  brand.name                        55675 non-null  object\n",
      " 22  vehicleEngine.@type               55675 non-null  object\n",
      " 23  vehicleEngine.engineDisplacement  55675 non-null  object\n",
      " 24  extraFeatures.RegisteredIn        55673 non-null  object\n",
      " 25  extraFeatures.Color               55673 non-null  object\n",
      " 26  extraFeatures.Assembly            55673 non-null  object\n",
      " 27  extraFeatures.EngineCapacity      55662 non-null  object\n",
      " 28  extraFeatures.BodyType            55673 non-null  object\n",
      " 29  extraFeatures.LastUpdated:        55673 non-null  object\n",
      " 30  extraFeatures.AdRef#              55673 non-null  object\n",
      " 31  extraFeatures.AuctionGrade        13 non-null     object\n",
      " 32  extraFeatures.ChassisNo.          25 non-null     object\n",
      " 33  extraFeatures.ImportDate          63 non-null     object\n",
      " 34  extraFeatures.BatteryCapacity     11 non-null     object\n",
      " 35  extraFeatures.Warranty            16 non-null     object\n",
      " 36  extraFeatures                     2 non-null      object\n",
      "dtypes: int64(2), object(35)\n",
      "memory usage: 15.7+ MB\n"
     ]
    }
   ],
   "source": [
    "df.info()"
   ]
  },
  {
   "cell_type": "code",
   "execution_count": 8,
   "id": "f14e2c38-6570-4062-b2eb-7f5c56740ce0",
   "metadata": {
    "tags": []
   },
   "outputs": [],
   "source": [
    "df = df.drop(columns = ['@type', 'description', 'itemCondition', 'fuelType', 'name', 'image', 'color', 'bodyType', 'postedFrom', 'keywords', \n",
    "                        'adLastUpdated', 'priceCurrency', 'brand.@type', 'brand.name', 'vehicleEngine.@type', 'vehicleEngine.engineDisplacement',\n",
    "                        'extraFeatures.RegisteredIn', 'extraFeatures.Color', 'extraFeatures.Assembly', 'extraFeatures.EngineCapacity', 'extraFeatures.BodyType', \n",
    "                        'extraFeatures.LastUpdated:', 'extraFeatures.AdRef#', 'extraFeatures.AuctionGrade', 'extraFeatures.ChassisNo.', 'extraFeatures.ImportDate',\n",
    "                        'extraFeatures.BatteryCapacity', 'extraFeatures.Warranty', 'extraFeatures'])"
   ]
  },
  {
   "cell_type": "markdown",
   "id": "ccdce6a8-82f7-4634-a789-9474fe18dca5",
   "metadata": {
    "tags": []
   },
   "source": [
    "Удаляем не нужные признаки для обучения"
   ]
  },
  {
   "cell_type": "markdown",
   "id": "c49d25d5-4ffa-4f64-a679-2b4548af66c1",
   "metadata": {
    "tags": []
   },
   "source": [
    "@type: Vehicle type - @тип: Тип транспортного средства\n",
    "\n",
    "model: Vehicle model - модель: Модель транспортного средства\n",
    "\n",
    "description: Ad/vehicle description - описание: Объявление/описание транспортного средства\n",
    "\n",
    "itemCondition: vehicle condition - Состояние товара: состояние транспортного средства\n",
    "\n",
    "modelDate: vehicle model release date - Дата выпуска модели: дата выпуска модели транспортного средства\n",
    "\n",
    "manufacturer: vehicle manufacturer - производитель: производитель транспортных средств\n",
    "\n",
    "fuelType vehicle fuel type - тип топлива тип топлива транспортного средства\n",
    "\n",
    "name: Ad title - название: Заголовок объявления\n",
    "\n",
    "image: ad/vehicle cover image - изображение: реклама /изображение с обложки автомобиля\n",
    "\n",
    "vehicleTransmission: vehicle transmission type(manual, automatic) - Трансмиссия транспортного средства: тип коробки передач транспортного средства (механическая, автоматическая)\n",
    "\n",
    "color: vehicle color - цвет: цвет автомобиля\n",
    "\n",
    "bodyType: vehicle body type - Тип кузова: тип кузова транспортного средства\n",
    "\n",
    "mileageFromOdometer: km's the vehicle has driven - Измеритель пробега: километры, которые проехал автомобиль\n",
    "\n",
    "sellerLocation: seller location - Местоположение продавца: местоположение продавца\n",
    "\n",
    "postedFrom: platform ad posted from - Опубликовано с: объявление платформы, размещенное с\n",
    "\n",
    "keywords: ad search keywords - ключевые слова: ключевые слова для поиска рекламы\n",
    "\n",
    "features: list of features available in the car. e.g: AC, Power windows, etc. - особенности: список функций, доступных в автомобиле. например: кондиционер, электрические стеклоподъемники и т.д.\n",
    "\n",
    "adLastUpdated: Ad last updated date - adLastUpdated: Дата последнего обновления объявления\n",
    "\n",
    "price: Asking price - цена: Запрашиваемая цена\n",
    "\n",
    "priceCurrency: Currency. e.g: PKR, USD. - Валюта цены: Валюта. например: PKR, USD.\n",
    "\n",
    "---------------------------------------------\n",
    "\n",
    "brand:{ - марка\n",
    "    \n",
    "    @type: - тип\n",
    "    name: vehicle brand name - название: марка транспортного средства\n",
    "}\n",
    "\n",
    "vehicleEngine:{ - Двигатель транспортного средства\n",
    "    \n",
    "    @type:\n",
    "    \n",
    "    engineDisplacement: km's the vehicle has driven -  Расположение двигателя: км, пройденные транспортным средством\n",
    "}\n",
    "\n",
    "extraFeatures: { - Дополнительные характеристики\n",
    "    \n",
    "    RegisteredIn: city the vehicle is registered in.\n",
    "\n",
    "    Color: vehicle color\n",
    "    \n",
    "    Assembly: vehicle assembly location(local, imported\n",
    "    \n",
    "    EngineCapacity: engine capacity in cubic centimeters(cc)\n",
    "    \n",
    "    BodyType: vehicle body type\n",
    "    \n",
    "    LastUpdated: Ad last updated\n",
    "\n",
    "    AdRef#: Ad reference number\n",
    "    \n",
    "    AuctionGrade: a detailed explanation on auction grade\n",
    "    \n",
    "    ChassisNo.:\n",
    "    \n",
    "    ImportDate: vehicle import date\n",
    "    \n",
    "    BatteryCapacity: vehicle battery capacity\n",
    "    \n",
    "    Warranty: warranty in combination of time duration and distance traveled\n",
    "}\n",
    "\n",
    "Дополнительные характеристики\n",
    "\n",
    "\n",
    " Зарегистрирован в: город, в котором зарегистрировано транспортное средство.\n",
    "\n",
    " Цвет: цвет транспортного средства\n",
    " \n",
    " Сборка: место сборки транспортного средства (местное, импортное)\n",
    " \n",
    " Мощность двигателя: объем двигателя в кубических сантиметрах (куб.см)\n",
    " \n",
    " Тип кузова: тип кузова транспортного средства\n",
    " \n",
    " Последнее обновление: Последнее обновление объявления\n",
    "\n",
    " Адрес #: Ссылочный номер объявления\n",
    " \n",
    " Оценка аукциона: подробное объяснение оценки аукциона\n",
    " \n",
    " Шасси нет.:\n",
    " \n",
    " ImportDate: дата импорта транспортного средства\n",
    " \n",
    " Емкость аккумулятора: емкость аккумулятора транспортного средства\n",
    " \n",
    " Гарантия: гарантия в зависимости от продолжительности времени и пройденного расстояния\n"
   ]
  },
  {
   "cell_type": "code",
   "execution_count": 9,
   "id": "5739e47b-922b-4b82-9cbf-ccf57c4e2560",
   "metadata": {
    "tags": []
   },
   "outputs": [
    {
     "data": {
      "text/html": [
       "<div>\n",
       "<style scoped>\n",
       "    .dataframe tbody tr th:only-of-type {\n",
       "        vertical-align: middle;\n",
       "    }\n",
       "\n",
       "    .dataframe tbody tr th {\n",
       "        vertical-align: top;\n",
       "    }\n",
       "\n",
       "    .dataframe thead th {\n",
       "        text-align: right;\n",
       "    }\n",
       "</style>\n",
       "<table border=\"1\" class=\"dataframe\">\n",
       "  <thead>\n",
       "    <tr style=\"text-align: right;\">\n",
       "      <th></th>\n",
       "      <th>model</th>\n",
       "      <th>modelDate</th>\n",
       "      <th>manufacturer</th>\n",
       "      <th>vehicleTransmission</th>\n",
       "      <th>mileageFromOdometer</th>\n",
       "      <th>sellerLocation</th>\n",
       "      <th>features</th>\n",
       "      <th>price</th>\n",
       "    </tr>\n",
       "  </thead>\n",
       "  <tbody>\n",
       "    <tr>\n",
       "      <th>0</th>\n",
       "      <td>Mehran</td>\n",
       "      <td>2013</td>\n",
       "      <td>Suzuki</td>\n",
       "      <td>Manual</td>\n",
       "      <td>42,000 km</td>\n",
       "      <td>Rawalpindi Punjab</td>\n",
       "      <td>[AM/FM Radio, Alloy Rims, Cassette Player, Imm...</td>\n",
       "      <td>790000</td>\n",
       "    </tr>\n",
       "    <tr>\n",
       "      <th>1</th>\n",
       "      <td>Pajero</td>\n",
       "      <td>1992</td>\n",
       "      <td>Mitsubishi</td>\n",
       "      <td>Automatic</td>\n",
       "      <td>82,400 km</td>\n",
       "      <td>Airport Enclave, Islamabad Islamabad</td>\n",
       "      <td>[AM/FM Radio, Air Bags, Air Conditioning, Allo...</td>\n",
       "      <td>2000000</td>\n",
       "    </tr>\n",
       "    <tr>\n",
       "      <th>2</th>\n",
       "      <td>Cultus</td>\n",
       "      <td>2016</td>\n",
       "      <td>Suzuki</td>\n",
       "      <td>Manual</td>\n",
       "      <td>123,456 km</td>\n",
       "      <td>Lahore Punjab</td>\n",
       "      <td>[AM/FM Radio, Air Conditioning, Alloy Rims, CD...</td>\n",
       "      <td>1265000</td>\n",
       "    </tr>\n",
       "    <tr>\n",
       "      <th>3</th>\n",
       "      <td>Corolla</td>\n",
       "      <td>2007</td>\n",
       "      <td>Toyota</td>\n",
       "      <td>Automatic</td>\n",
       "      <td>71,000 km</td>\n",
       "      <td>Ring Road, Peshawar KPK</td>\n",
       "      <td>[ABS, AM/FM Radio, Air Bags, Air Conditioning,...</td>\n",
       "      <td>3500000</td>\n",
       "    </tr>\n",
       "    <tr>\n",
       "      <th>4</th>\n",
       "      <td>City</td>\n",
       "      <td>2013</td>\n",
       "      <td>Honda</td>\n",
       "      <td>Manual</td>\n",
       "      <td>11 km</td>\n",
       "      <td>Lahore Punjab</td>\n",
       "      <td>[ABS, AM/FM Radio, Air Conditioning, Alloy Rim...</td>\n",
       "      <td>2075000</td>\n",
       "    </tr>\n",
       "  </tbody>\n",
       "</table>\n",
       "</div>"
      ],
      "text/plain": [
       "     model  modelDate manufacturer vehicleTransmission mileageFromOdometer  \\\n",
       "0   Mehran       2013       Suzuki              Manual           42,000 km   \n",
       "1   Pajero       1992   Mitsubishi           Automatic           82,400 km   \n",
       "2   Cultus       2016       Suzuki              Manual          123,456 km   \n",
       "3  Corolla       2007       Toyota           Automatic           71,000 km   \n",
       "4     City       2013        Honda              Manual               11 km   \n",
       "\n",
       "                          sellerLocation  \\\n",
       "0                      Rawalpindi Punjab   \n",
       "1   Airport Enclave, Islamabad Islamabad   \n",
       "2                          Lahore Punjab   \n",
       "3                Ring Road, Peshawar KPK   \n",
       "4                          Lahore Punjab   \n",
       "\n",
       "                                            features    price  \n",
       "0  [AM/FM Radio, Alloy Rims, Cassette Player, Imm...   790000  \n",
       "1  [AM/FM Radio, Air Bags, Air Conditioning, Allo...  2000000  \n",
       "2  [AM/FM Radio, Air Conditioning, Alloy Rims, CD...  1265000  \n",
       "3  [ABS, AM/FM Radio, Air Bags, Air Conditioning,...  3500000  \n",
       "4  [ABS, AM/FM Radio, Air Conditioning, Alloy Rim...  2075000  "
      ]
     },
     "execution_count": 9,
     "metadata": {},
     "output_type": "execute_result"
    }
   ],
   "source": [
    "df.head()"
   ]
  },
  {
   "cell_type": "code",
   "execution_count": 10,
   "id": "4e67d072-05b3-432c-9c41-ecfb522bdf82",
   "metadata": {
    "tags": []
   },
   "outputs": [
    {
     "name": "stdout",
     "output_type": "stream",
     "text": [
      "<class 'pandas.core.frame.DataFrame'>\n",
      "RangeIndex: 55675 entries, 0 to 55674\n",
      "Data columns (total 8 columns):\n",
      " #   Column               Non-Null Count  Dtype \n",
      "---  ------               --------------  ----- \n",
      " 0   model                55675 non-null  object\n",
      " 1   modelDate            55675 non-null  int64 \n",
      " 2   manufacturer         55675 non-null  object\n",
      " 3   vehicleTransmission  55675 non-null  object\n",
      " 4   mileageFromOdometer  55675 non-null  object\n",
      " 5   sellerLocation       55675 non-null  object\n",
      " 6   features             55675 non-null  object\n",
      " 7   price                55675 non-null  int64 \n",
      "dtypes: int64(2), object(6)\n",
      "memory usage: 3.4+ MB\n"
     ]
    }
   ],
   "source": [
    "df.info()"
   ]
  },
  {
   "cell_type": "code",
   "execution_count": 11,
   "id": "34976242-2a88-4dae-9c55-413109030bbe",
   "metadata": {
    "tags": []
   },
   "outputs": [],
   "source": [
    "df['features'] = df['features'].apply(lambda x: ', '.join(map(str, x)))\n",
    "# перезапись = какой признак.применить(записать в х то что перечисленно через запятую в виде строки)"
   ]
  },
  {
   "cell_type": "markdown",
   "id": "a0d54a40-21d1-494d-8ec8-bae9c60082cd",
   "metadata": {},
   "source": [
    "df['features']: Это обращение к столбцу \"features\" в вашем DataFrame (df).\n",
    "\n",
    ".apply(...): Этот метод применяет функцию к каждому элементу в столбце \"features\".\n",
    "\n",
    "lambda x: ', '.join(map(str, x)): Это анонимная (безымянная) функция, которая принимает каждый элемент x в столбце \"features\" и выполняет следующее:\n",
    "\n",
    "map(str, x): Это применение функции str (преобразование в строку) ко всем элементам в списке x.\n",
    "', '.join(...): Это объединение элементов списка в строку, разделяя их запятой с пробелом.\n",
    "Таким образом, вся конструкция lambda x: ', '.join(map(str, x)) преобразует каждый список в столбце \"features\" в строку, объединяя его элементы запятыми с пробелом.\n",
    "\n",
    "\n",
    "lambda x - это анонимная (безымянная) функция в языке программирования Python, которая используется для создания кратких функций, которые могут быть переданы как аргументы в другие функции. В данном контексте, lambda x определяет функцию, принимающую аргумент x.\n",
    "\n",
    "Более подробно:\n",
    "\n",
    "lambda: Это ключевое слово, используемое для определения анонимной функции.\n",
    "x: Это параметр (аргумент) функции. В данном случае, функция принимает один аргумент, который обозначен как x.\n",
    "\n",
    "Здесь анонимная функция принимает аргумент x (каждый элемент списка) и выполняет операцию объединения элементов списка в строку с использованием запятых и пробелов. Это используется вместе с методом map, который применяет функцию str ко всем элементам списка x.\n"
   ]
  },
  {
   "cell_type": "code",
   "execution_count": 12,
   "id": "6b155429-0c4d-4265-984b-7872d4efd21c",
   "metadata": {
    "tags": []
   },
   "outputs": [
    {
     "data": {
      "text/plain": [
       "array(['AM/FM Radio, Alloy Rims, Cassette Player, Immobilizer Key',\n",
       "       'AM/FM Radio, Air Bags, Air Conditioning, Alloy Rims, Cassette Player, Keyless Entry, Power Locks, Power Mirrors, Power Steering, Power Windows, Sun Roof',\n",
       "       'AM/FM Radio, Air Conditioning, Alloy Rims, CD Player', ...,\n",
       "       'AM/FM Radio, Air Conditioning, Alloy Rims, CD Player, Cassette Player, Front Speakers, Keyless Entry, Power Locks, Power Steering, Rear Camera, Steering Switches, USB and Auxillary Cable',\n",
       "       'ABS, AM/FM Radio, Air Bags, Air Conditioning, CD Player, DVD Player, Front Speakers, Immobilizer Key, Keyless Entry, Navigation System, Power Locks, Power Mirrors, Power Steering, Power Windows, Rear Camera, Steering Switches, USB and Auxillary Cable',\n",
       "       'ABS, Air Bags, Air Conditioning, CD Player, Cruise Control, DVD Player, Navigation System, Power Locks, Power Mirrors, Power Steering, Power Windows'],\n",
       "      dtype=object)"
      ]
     },
     "execution_count": 12,
     "metadata": {},
     "output_type": "execute_result"
    }
   ],
   "source": [
    "df['features'].unique()"
   ]
  },
  {
   "cell_type": "code",
   "execution_count": 13,
   "id": "4153df6b-4e18-4e2a-8d5c-edc8b0924b71",
   "metadata": {},
   "outputs": [
    {
     "data": {
      "text/html": [
       "<div>\n",
       "<style scoped>\n",
       "    .dataframe tbody tr th:only-of-type {\n",
       "        vertical-align: middle;\n",
       "    }\n",
       "\n",
       "    .dataframe tbody tr th {\n",
       "        vertical-align: top;\n",
       "    }\n",
       "\n",
       "    .dataframe thead th {\n",
       "        text-align: right;\n",
       "    }\n",
       "</style>\n",
       "<table border=\"1\" class=\"dataframe\">\n",
       "  <thead>\n",
       "    <tr style=\"text-align: right;\">\n",
       "      <th></th>\n",
       "      <th>model</th>\n",
       "      <th>modelDate</th>\n",
       "      <th>manufacturer</th>\n",
       "      <th>vehicleTransmission</th>\n",
       "      <th>mileageFromOdometer</th>\n",
       "      <th>sellerLocation</th>\n",
       "      <th>features</th>\n",
       "      <th>price</th>\n",
       "    </tr>\n",
       "  </thead>\n",
       "  <tbody>\n",
       "    <tr>\n",
       "      <th>0</th>\n",
       "      <td>Mehran</td>\n",
       "      <td>2013</td>\n",
       "      <td>Suzuki</td>\n",
       "      <td>Manual</td>\n",
       "      <td>42,000 km</td>\n",
       "      <td>Rawalpindi Punjab</td>\n",
       "      <td>AM/FM Radio, Alloy Rims, Cassette Player, Immo...</td>\n",
       "      <td>790000</td>\n",
       "    </tr>\n",
       "    <tr>\n",
       "      <th>1</th>\n",
       "      <td>Pajero</td>\n",
       "      <td>1992</td>\n",
       "      <td>Mitsubishi</td>\n",
       "      <td>Automatic</td>\n",
       "      <td>82,400 km</td>\n",
       "      <td>Airport Enclave, Islamabad Islamabad</td>\n",
       "      <td>AM/FM Radio, Air Bags, Air Conditioning, Alloy...</td>\n",
       "      <td>2000000</td>\n",
       "    </tr>\n",
       "    <tr>\n",
       "      <th>2</th>\n",
       "      <td>Cultus</td>\n",
       "      <td>2016</td>\n",
       "      <td>Suzuki</td>\n",
       "      <td>Manual</td>\n",
       "      <td>123,456 km</td>\n",
       "      <td>Lahore Punjab</td>\n",
       "      <td>AM/FM Radio, Air Conditioning, Alloy Rims, CD ...</td>\n",
       "      <td>1265000</td>\n",
       "    </tr>\n",
       "    <tr>\n",
       "      <th>3</th>\n",
       "      <td>Corolla</td>\n",
       "      <td>2007</td>\n",
       "      <td>Toyota</td>\n",
       "      <td>Automatic</td>\n",
       "      <td>71,000 km</td>\n",
       "      <td>Ring Road, Peshawar KPK</td>\n",
       "      <td>ABS, AM/FM Radio, Air Bags, Air Conditioning, ...</td>\n",
       "      <td>3500000</td>\n",
       "    </tr>\n",
       "    <tr>\n",
       "      <th>4</th>\n",
       "      <td>City</td>\n",
       "      <td>2013</td>\n",
       "      <td>Honda</td>\n",
       "      <td>Manual</td>\n",
       "      <td>11 km</td>\n",
       "      <td>Lahore Punjab</td>\n",
       "      <td>ABS, AM/FM Radio, Air Conditioning, Alloy Rims...</td>\n",
       "      <td>2075000</td>\n",
       "    </tr>\n",
       "  </tbody>\n",
       "</table>\n",
       "</div>"
      ],
      "text/plain": [
       "     model  modelDate manufacturer vehicleTransmission mileageFromOdometer  \\\n",
       "0   Mehran       2013       Suzuki              Manual           42,000 km   \n",
       "1   Pajero       1992   Mitsubishi           Automatic           82,400 km   \n",
       "2   Cultus       2016       Suzuki              Manual          123,456 km   \n",
       "3  Corolla       2007       Toyota           Automatic           71,000 km   \n",
       "4     City       2013        Honda              Manual               11 km   \n",
       "\n",
       "                          sellerLocation  \\\n",
       "0                      Rawalpindi Punjab   \n",
       "1   Airport Enclave, Islamabad Islamabad   \n",
       "2                          Lahore Punjab   \n",
       "3                Ring Road, Peshawar KPK   \n",
       "4                          Lahore Punjab   \n",
       "\n",
       "                                            features    price  \n",
       "0  AM/FM Radio, Alloy Rims, Cassette Player, Immo...   790000  \n",
       "1  AM/FM Radio, Air Bags, Air Conditioning, Alloy...  2000000  \n",
       "2  AM/FM Radio, Air Conditioning, Alloy Rims, CD ...  1265000  \n",
       "3  ABS, AM/FM Radio, Air Bags, Air Conditioning, ...  3500000  \n",
       "4  ABS, AM/FM Radio, Air Conditioning, Alloy Rims...  2075000  "
      ]
     },
     "execution_count": 13,
     "metadata": {},
     "output_type": "execute_result"
    }
   ],
   "source": [
    "df.head()"
   ]
  },
  {
   "cell_type": "code",
   "execution_count": 14,
   "id": "5889f6d7-d377-456c-8425-66957ccf83d7",
   "metadata": {
    "tags": []
   },
   "outputs": [
    {
     "name": "stdout",
     "output_type": "stream",
     "text": [
      "<class 'pandas.core.frame.DataFrame'>\n",
      "RangeIndex: 55675 entries, 0 to 55674\n",
      "Data columns (total 8 columns):\n",
      " #   Column               Non-Null Count  Dtype \n",
      "---  ------               --------------  ----- \n",
      " 0   model                55675 non-null  object\n",
      " 1   modelDate            55675 non-null  int64 \n",
      " 2   manufacturer         55675 non-null  object\n",
      " 3   vehicleTransmission  55675 non-null  object\n",
      " 4   mileageFromOdometer  55675 non-null  object\n",
      " 5   sellerLocation       55675 non-null  object\n",
      " 6   features             55675 non-null  object\n",
      " 7   price                55675 non-null  int64 \n",
      "dtypes: int64(2), object(6)\n",
      "memory usage: 3.4+ MB\n"
     ]
    }
   ],
   "source": [
    "df.info()"
   ]
  },
  {
   "cell_type": "code",
   "execution_count": 15,
   "id": "25c985c8-c9d4-4d83-ad05-6dc5e6145229",
   "metadata": {
    "tags": []
   },
   "outputs": [],
   "source": [
    "from sklearn.preprocessing import LabelEncoder\n",
    "le = LabelEncoder() # экземпляр\n",
    "\n",
    "df['model'] = le.fit_transform(df['model']) # кодирование\n",
    "df['manufacturer'] = le.fit_transform(df['manufacturer'])\n",
    "df['vehicleTransmission'] = le.fit_transform(df['vehicleTransmission'])\n",
    "df['manufacturer'] = le.fit_transform(df['manufacturer'])\n",
    "df['mileageFromOdometer'] = le.fit_transform(df['mileageFromOdometer'])\n",
    "df['sellerLocation'] = le.fit_transform(df['sellerLocation'])\n",
    "df['features'] = le.fit_transform(df['features'])"
   ]
  },
  {
   "cell_type": "code",
   "execution_count": 16,
   "id": "178e1e73-0a3e-4c08-b101-887d82df14f3",
   "metadata": {
    "tags": []
   },
   "outputs": [
    {
     "name": "stdout",
     "output_type": "stream",
     "text": [
      "<class 'pandas.core.frame.DataFrame'>\n",
      "RangeIndex: 55675 entries, 0 to 55674\n",
      "Data columns (total 8 columns):\n",
      " #   Column               Non-Null Count  Dtype\n",
      "---  ------               --------------  -----\n",
      " 0   model                55675 non-null  int32\n",
      " 1   modelDate            55675 non-null  int64\n",
      " 2   manufacturer         55675 non-null  int64\n",
      " 3   vehicleTransmission  55675 non-null  int32\n",
      " 4   mileageFromOdometer  55675 non-null  int32\n",
      " 5   sellerLocation       55675 non-null  int32\n",
      " 6   features             55675 non-null  int32\n",
      " 7   price                55675 non-null  int64\n",
      "dtypes: int32(5), int64(3)\n",
      "memory usage: 2.3 MB\n"
     ]
    }
   ],
   "source": [
    "df.info()"
   ]
  },
  {
   "cell_type": "code",
   "execution_count": 17,
   "id": "17850680-3c27-4e02-915c-2541b159e81c",
   "metadata": {
    "tags": []
   },
   "outputs": [
    {
     "data": {
      "text/plain": [
       "model                  0\n",
       "modelDate              0\n",
       "manufacturer           0\n",
       "vehicleTransmission    0\n",
       "mileageFromOdometer    0\n",
       "sellerLocation         0\n",
       "features               0\n",
       "price                  0\n",
       "dtype: int64"
      ]
     },
     "execution_count": 17,
     "metadata": {},
     "output_type": "execute_result"
    }
   ],
   "source": [
    "df.isnull().sum()"
   ]
  },
  {
   "cell_type": "markdown",
   "id": "890e3153-94c6-41b2-b9f6-7bb117201ba2",
   "metadata": {},
   "source": [
    "Смотрим ящики с усами"
   ]
  },
  {
   "cell_type": "code",
   "execution_count": 18,
   "id": "95b3074f-5049-4c22-9c40-c9cb6e3d2289",
   "metadata": {
    "tags": []
   },
   "outputs": [
    {
     "data": {
      "image/png": "[encoded data removed]",
      "text/plain": [
       "<Figure size 640x480 with 1 Axes>"
      ]
     },
     "metadata": {},
     "output_type": "display_data"
    },
    {
     "data": {
      "image/png": "[encoded data removed]",
      "text/plain": [
       "<Figure size 640x480 with 1 Axes>"
      ]
     },
     "metadata": {},
     "output_type": "display_data"
    },
    {
     "data": {
      "image/png": "[encoded data removed]",
      "text/plain": [
       "<Figure size 640x480 with 1 Axes>"
      ]
     },
     "metadata": {},
     "output_type": "display_data"
    },
    {
     "data": {
      "image/png": "[encoded data removed]",
      "text/plain": [
       "<Figure size 640x480 with 1 Axes>"
      ]
     },
     "metadata": {},
     "output_type": "display_data"
    },
    {
     "data": {
      "image/png": "[encoded data removed]",
      "text/plain": [
       "<Figure size 640x480 with 1 Axes>"
      ]
     },
     "metadata": {},
     "output_type": "display_data"
    },
    {
     "data": {
      "image/png": "[encoded data removed]",
      "text/plain": [
       "<Figure size 640x480 with 1 Axes>"
      ]
     },
     "metadata": {},
     "output_type": "display_data"
    },
    {
     "data": {
      "image/png": "[encoded data removed]",
      "text/plain": [
       "<Figure size 640x480 with 1 Axes>"
      ]
     },
     "metadata": {},
     "output_type": "display_data"
    },
    {
     "data": {
      "image/png": "[encoded data removed]",
      "text/plain": [
       "<Figure size 640x480 with 1 Axes>"
      ]
     },
     "metadata": {},
     "output_type": "display_data"
    }
   ],
   "source": [
    "for i in df.describe().columns:\n",
    "    plt.boxplot(df[i])\n",
    "    plt.title(i)\n",
    "    plt.show()"
   ]
  },
  {
   "cell_type": "code",
   "execution_count": 19,
   "id": "2a353ac9-1c27-42a2-b409-814f7c92971f",
   "metadata": {
    "tags": []
   },
   "outputs": [
    {
     "data": {
      "image/png": "[encoded data removed]",
      "text/plain": [
       "<Figure size 640x480 with 1 Axes>"
      ]
     },
     "metadata": {},
     "output_type": "display_data"
    }
   ],
   "source": [
    "plt.boxplot(df['modelDate'])\n",
    "plt.title('modelDate')\n",
    "plt.show()"
   ]
  },
  {
   "cell_type": "code",
   "execution_count": 20,
   "id": "61086a4f-e758-4151-aefe-870a8fddb3da",
   "metadata": {
    "tags": []
   },
   "outputs": [
    {
     "name": "stdout",
     "output_type": "stream",
     "text": [
      "Количество записей 1940: 0\n",
      "Количество записей 1945: 3\n",
      "Количество записей 1950: 3\n",
      "Количество записей 1955: 5\n",
      "Количество записей 1960: 6\n",
      "Количество записей 1965: 26\n",
      "Количество записей 1970: 52\n",
      "Количество записей 1975: 116\n",
      "Количество записей 1980: 191\n",
      "Количество записей 1985: 607\n"
     ]
    }
   ],
   "source": [
    "for i in range(1940, 1990, 5):    \n",
    "    print(f\"Количество записей {i}: {len(df[df['modelDate'] < i])}\")"
   ]
  },
  {
   "cell_type": "code",
   "execution_count": 21,
   "id": "2167cb7c-99bb-44c3-bf66-ee52e9084ffa",
   "metadata": {
    "tags": []
   },
   "outputs": [],
   "source": [
    "df.drop(index=df[df['modelDate'] < 1975].index, inplace=True)"
   ]
  },
  {
   "cell_type": "code",
   "execution_count": 22,
   "id": "bb4681b5-4905-427c-87ff-a1b0b7b87903",
   "metadata": {
    "tags": []
   },
   "outputs": [
    {
     "data": {
      "image/png": "[encoded data removed]",
      "text/plain": [
       "<Figure size 640x480 with 1 Axes>"
      ]
     },
     "metadata": {},
     "output_type": "display_data"
    }
   ],
   "source": [
    "plt.boxplot(df['modelDate'])\n",
    "plt.title('modelDate')\n",
    "plt.show()"
   ]
  },
  {
   "cell_type": "markdown",
   "id": "cd0d2706-9380-402d-bd3a-814eab8bdad7",
   "metadata": {
    "tags": []
   },
   "source": [
    "Принято решение не удалять остальные выбросы так как мы можем потерять большое количество данных"
   ]
  },
  {
   "cell_type": "code",
   "execution_count": 23,
   "id": "c9569a9e-47bb-4d66-9d5e-11e8c03ee340",
   "metadata": {
    "tags": []
   },
   "outputs": [
    {
     "data": {
      "text/plain": [
       "<Axes: >"
      ]
     },
     "execution_count": 23,
     "metadata": {},
     "output_type": "execute_result"
    },
    {
     "data": {
      "image/png": "[encoded data removed]",
      "text/plain": [
       "<Figure size 640x480 with 1 Axes>"
      ]
     },
     "metadata": {},
     "output_type": "display_data"
    }
   ],
   "source": [
    "# Смотрим дисбаланс классов\n",
    "df['price'].hist(bins=10)"
   ]
  },
  {
   "cell_type": "code",
   "execution_count": 24,
   "id": "45a5671e-86b2-414a-bc5f-2f9be3fa5339",
   "metadata": {
    "tags": []
   },
   "outputs": [
    {
     "data": {
      "text/plain": [
       "<Axes: >"
      ]
     },
     "execution_count": 24,
     "metadata": {},
     "output_type": "execute_result"
    },
    {
     "data": {
      "image/png": "[encoded data removed]",
      "text/plain": [
       "<Figure size 640x480 with 2 Axes>"
      ]
     },
     "metadata": {},
     "output_type": "display_data"
    }
   ],
   "source": [
    "sns.heatmap(df.corr(), annot = True, vmin=-1, vmax=1, center= 0)"
   ]
  },
  {
   "cell_type": "code",
   "execution_count": 25,
   "id": "c6a54ed9-868e-44ef-8941-bd8800e4b823",
   "metadata": {},
   "outputs": [],
   "source": [
    "from sklearn import metrics\n",
    "def mean_absolute_percentage_error(y_true, y_pred):\n",
    "    y_true, y_pred = np.array(y_true), np.array(y_pred)\n",
    "    return np.mean(np.abs((y_true - y_pred) / y_true)) * 100\n",
    "\n",
    "def print_metrics(y_test, y_pred):\n",
    "    print('MAE:', metrics.mean_absolute_error(y_test, y_pred))\n",
    "    print('RMSE:', np.sqrt(metrics.mean_squared_error(y_test, y_pred)))\n",
    "    print('R2:',  metrics.r2_score(y_test, y_pred))\n",
    "    print('MAPE:', mean_absolute_percentage_error(y_test, y_pred))"
   ]
  },
  {
   "cell_type": "code",
   "execution_count": 26,
   "id": "d320c5ff-11e0-42b6-a013-7e2f97649e65",
   "metadata": {
    "tags": []
   },
   "outputs": [],
   "source": [
    "from sklearn.model_selection import train_test_split\n",
    "\n",
    "X = df.drop('price', axis=1)\n",
    "y = df['price']\n",
    "\n",
    "X_train, X_test, y_train, y_test = train_test_split(X, y, test_size=0.2, random_state=42)"
   ]
  },
  {
   "cell_type": "code",
   "execution_count": 27,
   "id": "75a7dc6f-8a85-460c-8d41-0076f76d6693",
   "metadata": {
    "tags": []
   },
   "outputs": [
    {
     "data": {
      "text/plain": [
       "price\n",
       "750000     0.010745\n",
       "1250000    0.010673\n",
       "650000     0.010097\n",
       "850000     0.009881\n",
       "1350000    0.009341\n",
       "             ...   \n",
       "3349000    0.000018\n",
       "4920000    0.000018\n",
       "939000     0.000018\n",
       "5999999    0.000018\n",
       "6899000    0.000018\n",
       "Name: proportion, Length: 1961, dtype: float64"
      ]
     },
     "execution_count": 27,
     "metadata": {},
     "output_type": "execute_result"
    }
   ],
   "source": [
    "y.value_counts(normalize=True)"
   ]
  },
  {
   "cell_type": "code",
   "execution_count": 28,
   "id": "c1d33451-c8e6-4fde-8dc5-9e4afea1c829",
   "metadata": {},
   "outputs": [
    {
     "data": {
      "text/plain": [
       "price\n",
       "750000      0.010889\n",
       "1250000     0.010844\n",
       "850000      0.010034\n",
       "650000      0.009922\n",
       "1350000     0.009179\n",
       "              ...   \n",
       "6899000     0.000022\n",
       "10575000    0.000022\n",
       "4165000     0.000022\n",
       "1355550     0.000022\n",
       "8220000     0.000022\n",
       "Name: proportion, Length: 1815, dtype: float64"
      ]
     },
     "execution_count": 28,
     "metadata": {},
     "output_type": "execute_result"
    }
   ],
   "source": [
    "y_train.value_counts(normalize=True)"
   ]
  },
  {
   "cell_type": "code",
   "execution_count": 29,
   "id": "08e66d9e-4676-4f3c-afca-ef62426040c9",
   "metadata": {},
   "outputs": [
    {
     "data": {
      "text/plain": [
       "price\n",
       "650000      0.010799\n",
       "750000      0.010169\n",
       "1250000     0.009989\n",
       "1350000     0.009989\n",
       "1750000     0.009989\n",
       "              ...   \n",
       "8399000     0.000090\n",
       "5270000     0.000090\n",
       "3630000     0.000090\n",
       "4390000     0.000090\n",
       "49000000    0.000090\n",
       "Name: proportion, Length: 1134, dtype: float64"
      ]
     },
     "execution_count": 29,
     "metadata": {},
     "output_type": "execute_result"
    }
   ],
   "source": [
    "y_test.value_counts(normalize=True)"
   ]
  },
  {
   "cell_type": "code",
   "execution_count": 30,
   "id": "855a774c-d5e0-485b-b105-cfcca36a0438",
   "metadata": {
    "tags": []
   },
   "outputs": [],
   "source": [
    "# Стандартизация данных - это процесс приведения данных к стандартному масштабу (улучшает модель)\n",
    "# from sklearn.preprocessing import StandardScaler\n",
    "\n",
    "# scaler = StandardScaler()\n",
    "\n",
    "# X_train = scaler.fit_transform(X_train)\n",
    "# X_test = scaler.fit_transform(X_test)"
   ]
  },
  {
   "cell_type": "code",
   "execution_count": 31,
   "id": "bfa3b998-74e9-478e-bea6-e3c879e81005",
   "metadata": {
    "tags": []
   },
   "outputs": [
    {
     "name": "stdout",
     "output_type": "stream",
     "text": [
      "MAE: 285596.1329759796\n",
      "RMSE: 1241751.8228965716\n",
      "R2: 0.8809763955783975\n",
      "MAPE: 12.272695643753824\n"
     ]
    }
   ],
   "source": [
    "from sklearn.ensemble import RandomForestRegressor\n",
    "\n",
    "model = RandomForestRegressor(n_estimators=500, random_state=42)\n",
    "model.fit(X_train, y_train)\n",
    "Ц\n",
    "# Делаем предсказания на тестовом наборе\n",
    "y_pred = model.predict(X_test)\n",
    "\n",
    "print_metrics(y_test, y_pred)"
   ]
  },
  {
   "cell_type": "code",
   "execution_count": 32,
   "id": "4e6916d9-6b04-4abd-a4d0-690f23c793ac",
   "metadata": {
    "tags": []
   },
   "outputs": [
    {
     "name": "stdout",
     "output_type": "stream",
     "text": [
      "MAE: 1070626.7169186464\n",
      "RMSE: 2967629.058414085\n",
      "R2: 0.32019756563570656\n",
      "MAPE: 54.06687551940418\n"
     ]
    }
   ],
   "source": [
    "from sklearn.neighbors import KNeighborsRegressor\n",
    "\n",
    "# Создаем модель KNN\n",
    "knn_model = KNeighborsRegressor(n_neighbors=5)\n",
    "\n",
    "# Обучаем модель на тренировочных данных\n",
    "knn_model.fit(X_train, y_train)\n",
    "\n",
    "y_pred = knn_model.predict(X_test)\n",
    "\n",
    "print_metrics(y_test, y_pred)"
   ]
  },
  {
   "cell_type": "code",
   "execution_count": 33,
   "id": "57ca7dbc-5571-439c-bc3a-111beb5613ff",
   "metadata": {},
   "outputs": [
    {
     "name": "stdout",
     "output_type": "stream",
     "text": [
      "MAE: 1327054.2425462683\n",
      "RMSE: 3255541.9303560704\n",
      "R2: 0.18189306877254263\n",
      "MAPE: 72.38193719806264\n"
     ]
    }
   ],
   "source": [
    "from sklearn.linear_model import LinearRegression\n",
    "\n",
    "# Объявили модель\n",
    "model_regression1 = LinearRegression()\n",
    "\n",
    "# Обучили модель на тренировочной выборке\n",
    "model_regression1.fit(X_train, y_train)\n",
    "\n",
    "# Сделали прогнозы на тестовой выборке\n",
    "y_pred = model_regression1.predict(X_test)\n",
    "\n",
    "print_metrics(y_test, y_pred)"
   ]
  },
  {
   "cell_type": "code",
   "execution_count": 34,
   "id": "034de35d-1ef6-45c4-80c0-23f2a060df70",
   "metadata": {},
   "outputs": [
    {
     "name": "stdout",
     "output_type": "stream",
     "text": [
      "Лучшее значение параметра: 1674081.9601691677\n",
      "MAE: 1327043.7279382572\n",
      "RMSE: 3329683.948168084\n",
      "R2: 0.14420546171682325\n",
      "MAPE: 82.86362876801216\n"
     ]
    }
   ],
   "source": [
    "from sklearn.linear_model import LassoCV\n",
    "\n",
    "lasso_cv = LassoCV(cv=5)\n",
    "lasso_cv.fit(X_train, y_train)\n",
    "print('Лучшее значение параметра:', lasso_cv.alpha_)\n",
    "\n",
    "# Сделали прогнозы\n",
    "y_pred = lasso_cv.predict(X_test)\n",
    "\n",
    "print_metrics(y_test,y_pred)"
   ]
  }
 ],
 "metadata": {
  "kernelspec": {
   "display_name": "Python 3 (ipykernel)",
   "language": "python",
   "name": "python3"
  },
  "language_info": {
   "codemirror_mode": {
    "name": "ipython",
    "version": 3
   },
   "file_extension": ".py",
   "mimetype": "text/x-python",
   "name": "python",
   "nbconvert_exporter": "python",
   "pygments_lexer": "ipython3",
   "version": "3.11.5"
  }
 },
 "nbformat": 4,
 "nbformat_minor": 5
}
