{
 "cells": [
  {
   "cell_type": "markdown",
   "id": "3bf42fe2-e39c-4f3e-84a1-32e2a1817956",
   "metadata": {},
   "source": [
    "# Предсказать лучшее упражнение "
   ]
  },
  {
   "cell_type": "code",
   "execution_count": 1,
   "id": "766548bb-3ae8-4ea7-9e08-d4989210346a",
   "metadata": {
    "tags": []
   },
   "outputs": [],
   "source": [
    "import pandas as pd \n",
    "import numpy as np \n",
    "\n",
    "import matplotlib.pyplot as plt \n",
    "import seaborn as sns"
   ]
  },
  {
   "cell_type": "code",
   "execution_count": 2,
   "id": "136e8881-23f7-4ffb-906c-7237c6a5f7b2",
   "metadata": {
    "tags": []
   },
   "outputs": [],
   "source": [
    "df = pd.read_csv('megaGymDataset.csv') "
   ]
  },
  {
   "cell_type": "code",
   "execution_count": 3,
   "id": "53a982c3-c505-4088-a38d-9bbfca523dd8",
   "metadata": {
    "tags": []
   },
   "outputs": [
    {
     "data": {
      "text/html": [
       "<div>\n",
       "<style scoped>\n",
       "    .dataframe tbody tr th:only-of-type {\n",
       "        vertical-align: middle;\n",
       "    }\n",
       "\n",
       "    .dataframe tbody tr th {\n",
       "        vertical-align: top;\n",
       "    }\n",
       "\n",
       "    .dataframe thead th {\n",
       "        text-align: right;\n",
       "    }\n",
       "</style>\n",
       "<table border=\"1\" class=\"dataframe\">\n",
       "  <thead>\n",
       "    <tr style=\"text-align: right;\">\n",
       "      <th></th>\n",
       "      <th>Unnamed: 0</th>\n",
       "      <th>Title</th>\n",
       "      <th>Desc</th>\n",
       "      <th>Type</th>\n",
       "      <th>BodyPart</th>\n",
       "      <th>Equipment</th>\n",
       "      <th>Level</th>\n",
       "      <th>Rating</th>\n",
       "      <th>RatingDesc</th>\n",
       "    </tr>\n",
       "  </thead>\n",
       "  <tbody>\n",
       "    <tr>\n",
       "      <th>0</th>\n",
       "      <td>0</td>\n",
       "      <td>Partner plank band row</td>\n",
       "      <td>The partner plank band row is an abdominal exe...</td>\n",
       "      <td>Strength</td>\n",
       "      <td>Abdominals</td>\n",
       "      <td>Bands</td>\n",
       "      <td>Intermediate</td>\n",
       "      <td>0.0</td>\n",
       "      <td>NaN</td>\n",
       "    </tr>\n",
       "    <tr>\n",
       "      <th>1</th>\n",
       "      <td>1</td>\n",
       "      <td>Banded crunch isometric hold</td>\n",
       "      <td>The banded crunch isometric hold is an exercis...</td>\n",
       "      <td>Strength</td>\n",
       "      <td>Abdominals</td>\n",
       "      <td>Bands</td>\n",
       "      <td>Intermediate</td>\n",
       "      <td>NaN</td>\n",
       "      <td>NaN</td>\n",
       "    </tr>\n",
       "    <tr>\n",
       "      <th>2</th>\n",
       "      <td>2</td>\n",
       "      <td>FYR Banded Plank Jack</td>\n",
       "      <td>The banded plank jack is a variation on the pl...</td>\n",
       "      <td>Strength</td>\n",
       "      <td>Abdominals</td>\n",
       "      <td>Bands</td>\n",
       "      <td>Intermediate</td>\n",
       "      <td>NaN</td>\n",
       "      <td>NaN</td>\n",
       "    </tr>\n",
       "    <tr>\n",
       "      <th>3</th>\n",
       "      <td>3</td>\n",
       "      <td>Banded crunch</td>\n",
       "      <td>The banded crunch is an exercise targeting the...</td>\n",
       "      <td>Strength</td>\n",
       "      <td>Abdominals</td>\n",
       "      <td>Bands</td>\n",
       "      <td>Intermediate</td>\n",
       "      <td>NaN</td>\n",
       "      <td>NaN</td>\n",
       "    </tr>\n",
       "    <tr>\n",
       "      <th>4</th>\n",
       "      <td>4</td>\n",
       "      <td>Crunch</td>\n",
       "      <td>The crunch is a popular core exercise targetin...</td>\n",
       "      <td>Strength</td>\n",
       "      <td>Abdominals</td>\n",
       "      <td>Bands</td>\n",
       "      <td>Intermediate</td>\n",
       "      <td>NaN</td>\n",
       "      <td>NaN</td>\n",
       "    </tr>\n",
       "  </tbody>\n",
       "</table>\n",
       "</div>"
      ],
      "text/plain": [
       "   Unnamed: 0                         Title  \\\n",
       "0           0        Partner plank band row   \n",
       "1           1  Banded crunch isometric hold   \n",
       "2           2         FYR Banded Plank Jack   \n",
       "3           3                 Banded crunch   \n",
       "4           4                        Crunch   \n",
       "\n",
       "                                                Desc      Type    BodyPart  \\\n",
       "0  The partner plank band row is an abdominal exe...  Strength  Abdominals   \n",
       "1  The banded crunch isometric hold is an exercis...  Strength  Abdominals   \n",
       "2  The banded plank jack is a variation on the pl...  Strength  Abdominals   \n",
       "3  The banded crunch is an exercise targeting the...  Strength  Abdominals   \n",
       "4  The crunch is a popular core exercise targetin...  Strength  Abdominals   \n",
       "\n",
       "  Equipment         Level  Rating RatingDesc  \n",
       "0     Bands  Intermediate     0.0        NaN  \n",
       "1     Bands  Intermediate     NaN        NaN  \n",
       "2     Bands  Intermediate     NaN        NaN  \n",
       "3     Bands  Intermediate     NaN        NaN  \n",
       "4     Bands  Intermediate     NaN        NaN  "
      ]
     },
     "execution_count": 3,
     "metadata": {},
     "output_type": "execute_result"
    }
   ],
   "source": [
    "df.head() "
   ]
  },
  {
   "cell_type": "code",
   "execution_count": 4,
   "id": "92f27603-ed9d-42ef-9e0a-6a0fa8dcefb7",
   "metadata": {
    "tags": []
   },
   "outputs": [],
   "source": [
    "df = df.drop('Unnamed: 0', axis=1)"
   ]
  },
  {
   "cell_type": "code",
   "execution_count": 5,
   "id": "4f49b4a3-6f52-4db6-9f8e-910fa416a488",
   "metadata": {
    "tags": []
   },
   "outputs": [
    {
     "data": {
      "text/html": [
       "<div>\n",
       "<style scoped>\n",
       "    .dataframe tbody tr th:only-of-type {\n",
       "        vertical-align: middle;\n",
       "    }\n",
       "\n",
       "    .dataframe tbody tr th {\n",
       "        vertical-align: top;\n",
       "    }\n",
       "\n",
       "    .dataframe thead th {\n",
       "        text-align: right;\n",
       "    }\n",
       "</style>\n",
       "<table border=\"1\" class=\"dataframe\">\n",
       "  <thead>\n",
       "    <tr style=\"text-align: right;\">\n",
       "      <th></th>\n",
       "      <th>Title</th>\n",
       "      <th>Desc</th>\n",
       "      <th>Type</th>\n",
       "      <th>BodyPart</th>\n",
       "      <th>Equipment</th>\n",
       "      <th>Level</th>\n",
       "      <th>Rating</th>\n",
       "      <th>RatingDesc</th>\n",
       "    </tr>\n",
       "  </thead>\n",
       "  <tbody>\n",
       "    <tr>\n",
       "      <th>0</th>\n",
       "      <td>Partner plank band row</td>\n",
       "      <td>The partner plank band row is an abdominal exe...</td>\n",
       "      <td>Strength</td>\n",
       "      <td>Abdominals</td>\n",
       "      <td>Bands</td>\n",
       "      <td>Intermediate</td>\n",
       "      <td>0.0</td>\n",
       "      <td>NaN</td>\n",
       "    </tr>\n",
       "    <tr>\n",
       "      <th>1</th>\n",
       "      <td>Banded crunch isometric hold</td>\n",
       "      <td>The banded crunch isometric hold is an exercis...</td>\n",
       "      <td>Strength</td>\n",
       "      <td>Abdominals</td>\n",
       "      <td>Bands</td>\n",
       "      <td>Intermediate</td>\n",
       "      <td>NaN</td>\n",
       "      <td>NaN</td>\n",
       "    </tr>\n",
       "    <tr>\n",
       "      <th>2</th>\n",
       "      <td>FYR Banded Plank Jack</td>\n",
       "      <td>The banded plank jack is a variation on the pl...</td>\n",
       "      <td>Strength</td>\n",
       "      <td>Abdominals</td>\n",
       "      <td>Bands</td>\n",
       "      <td>Intermediate</td>\n",
       "      <td>NaN</td>\n",
       "      <td>NaN</td>\n",
       "    </tr>\n",
       "    <tr>\n",
       "      <th>3</th>\n",
       "      <td>Banded crunch</td>\n",
       "      <td>The banded crunch is an exercise targeting the...</td>\n",
       "      <td>Strength</td>\n",
       "      <td>Abdominals</td>\n",
       "      <td>Bands</td>\n",
       "      <td>Intermediate</td>\n",
       "      <td>NaN</td>\n",
       "      <td>NaN</td>\n",
       "    </tr>\n",
       "    <tr>\n",
       "      <th>4</th>\n",
       "      <td>Crunch</td>\n",
       "      <td>The crunch is a popular core exercise targetin...</td>\n",
       "      <td>Strength</td>\n",
       "      <td>Abdominals</td>\n",
       "      <td>Bands</td>\n",
       "      <td>Intermediate</td>\n",
       "      <td>NaN</td>\n",
       "      <td>NaN</td>\n",
       "    </tr>\n",
       "  </tbody>\n",
       "</table>\n",
       "</div>"
      ],
      "text/plain": [
       "                          Title  \\\n",
       "0        Partner plank band row   \n",
       "1  Banded crunch isometric hold   \n",
       "2         FYR Banded Plank Jack   \n",
       "3                 Banded crunch   \n",
       "4                        Crunch   \n",
       "\n",
       "                                                Desc      Type    BodyPart  \\\n",
       "0  The partner plank band row is an abdominal exe...  Strength  Abdominals   \n",
       "1  The banded crunch isometric hold is an exercis...  Strength  Abdominals   \n",
       "2  The banded plank jack is a variation on the pl...  Strength  Abdominals   \n",
       "3  The banded crunch is an exercise targeting the...  Strength  Abdominals   \n",
       "4  The crunch is a popular core exercise targetin...  Strength  Abdominals   \n",
       "\n",
       "  Equipment         Level  Rating RatingDesc  \n",
       "0     Bands  Intermediate     0.0        NaN  \n",
       "1     Bands  Intermediate     NaN        NaN  \n",
       "2     Bands  Intermediate     NaN        NaN  \n",
       "3     Bands  Intermediate     NaN        NaN  \n",
       "4     Bands  Intermediate     NaN        NaN  "
      ]
     },
     "execution_count": 5,
     "metadata": {},
     "output_type": "execute_result"
    }
   ],
   "source": [
    "df.head() "
   ]
  },
  {
   "cell_type": "code",
   "execution_count": 6,
   "id": "0f1e4a5a-5e82-4949-abc0-df7f82bcf5f1",
   "metadata": {
    "tags": []
   },
   "outputs": [
    {
     "name": "stdout",
     "output_type": "stream",
     "text": [
      "<class 'pandas.core.frame.DataFrame'>\n",
      "RangeIndex: 2918 entries, 0 to 2917\n",
      "Data columns (total 8 columns):\n",
      " #   Column      Non-Null Count  Dtype  \n",
      "---  ------      --------------  -----  \n",
      " 0   Title       2918 non-null   object \n",
      " 1   Desc        1368 non-null   object \n",
      " 2   Type        2918 non-null   object \n",
      " 3   BodyPart    2918 non-null   object \n",
      " 4   Equipment   2886 non-null   object \n",
      " 5   Level       2918 non-null   object \n",
      " 6   Rating      1031 non-null   float64\n",
      " 7   RatingDesc  862 non-null    object \n",
      "dtypes: float64(1), object(7)\n",
      "memory usage: 182.5+ KB\n"
     ]
    }
   ],
   "source": [
    "df.info() "
   ]
  },
  {
   "cell_type": "markdown",
   "id": "e6c9592a-6237-49d7-ba92-13422f88efc6",
   "metadata": {},
   "source": [
    "Title - название упражнения \n",
    "\n",
    "Desc - техника выполнения задания\n",
    "\n",
    "Type - тип тренировки\n",
    "\n",
    "BodyPart - часть тела\n",
    "\n",
    "Equipment - снаряжение\n",
    "\n",
    "Level - уровень выполнения\n",
    "\n",
    "Rating - рейтинг\n",
    "\n",
    "RatingDesc - рейтинг техники выполнения"
   ]
  },
  {
   "cell_type": "code",
   "execution_count": 7,
   "id": "58895e65-03dc-4206-99aa-fc123a781305",
   "metadata": {
    "tags": []
   },
   "outputs": [
    {
     "name": "stdout",
     "output_type": "stream",
     "text": [
      "Полностью: (2918, 8)\n",
      "Кол-во строк: 2918\n",
      "Кол-во столбцов: 8\n"
     ]
    }
   ],
   "source": [
    "print(f\"Полностью: {df.shape}\")\n",
    "print(f\"Кол-во строк: {df.shape[0]}\")\n",
    "print(f\"Кол-во столбцов: {df.shape[1]}\")"
   ]
  },
  {
   "cell_type": "code",
   "execution_count": 8,
   "id": "cedea523-190c-4c7e-8432-341332302352",
   "metadata": {
    "tags": []
   },
   "outputs": [
    {
     "data": {
      "text/html": [
       "<div>\n",
       "<style scoped>\n",
       "    .dataframe tbody tr th:only-of-type {\n",
       "        vertical-align: middle;\n",
       "    }\n",
       "\n",
       "    .dataframe tbody tr th {\n",
       "        vertical-align: top;\n",
       "    }\n",
       "\n",
       "    .dataframe thead th {\n",
       "        text-align: right;\n",
       "    }\n",
       "</style>\n",
       "<table border=\"1\" class=\"dataframe\">\n",
       "  <thead>\n",
       "    <tr style=\"text-align: right;\">\n",
       "      <th></th>\n",
       "      <th>0</th>\n",
       "      <th>1</th>\n",
       "      <th>2</th>\n",
       "      <th>3</th>\n",
       "      <th>4</th>\n",
       "      <th>5</th>\n",
       "      <th>6</th>\n",
       "      <th>7</th>\n",
       "      <th>8</th>\n",
       "      <th>9</th>\n",
       "      <th>...</th>\n",
       "      <th>2908</th>\n",
       "      <th>2909</th>\n",
       "      <th>2910</th>\n",
       "      <th>2911</th>\n",
       "      <th>2912</th>\n",
       "      <th>2913</th>\n",
       "      <th>2914</th>\n",
       "      <th>2915</th>\n",
       "      <th>2916</th>\n",
       "      <th>2917</th>\n",
       "    </tr>\n",
       "  </thead>\n",
       "  <tbody>\n",
       "    <tr>\n",
       "      <th>Title</th>\n",
       "      <td>Partner plank band row</td>\n",
       "      <td>Banded crunch isometric hold</td>\n",
       "      <td>FYR Banded Plank Jack</td>\n",
       "      <td>Banded crunch</td>\n",
       "      <td>Crunch</td>\n",
       "      <td>Decline band press sit-up</td>\n",
       "      <td>FYR2 Banded Frog Pump</td>\n",
       "      <td>Band low-to-high twist</td>\n",
       "      <td>Barbell roll-out</td>\n",
       "      <td>Barbell Ab Rollout - On Knees</td>\n",
       "      <td>...</td>\n",
       "      <td>30 Arms Close-Grip Push-Up</td>\n",
       "      <td>30 Arms BFR Close-Grip Push-Up</td>\n",
       "      <td>Supine Chest Throw</td>\n",
       "      <td>Decline EZ-bar skullcrusher</td>\n",
       "      <td>EZ-Bar Skullcrusher</td>\n",
       "      <td>EZ-bar skullcrusher-</td>\n",
       "      <td>Lying Close-Grip Barbell Triceps Press To Chin</td>\n",
       "      <td>EZ-Bar Skullcrusher - Gethin Variation</td>\n",
       "      <td>TBS Skullcrusher</td>\n",
       "      <td>30 Arms EZ-Bar Skullcrusher</td>\n",
       "    </tr>\n",
       "    <tr>\n",
       "      <th>Desc</th>\n",
       "      <td>The partner plank band row is an abdominal exe...</td>\n",
       "      <td>The banded crunch isometric hold is an exercis...</td>\n",
       "      <td>The banded plank jack is a variation on the pl...</td>\n",
       "      <td>The banded crunch is an exercise targeting the...</td>\n",
       "      <td>The crunch is a popular core exercise targetin...</td>\n",
       "      <td>The decline band press sit-up is a weighted co...</td>\n",
       "      <td>NaN</td>\n",
       "      <td>The band low-to-high twist is a core exercise ...</td>\n",
       "      <td>The barbell roll-out is an abdominal exercise ...</td>\n",
       "      <td>The barbell roll-out is an abdominal exercise ...</td>\n",
       "      <td>...</td>\n",
       "      <td>NaN</td>\n",
       "      <td>NaN</td>\n",
       "      <td>NaN</td>\n",
       "      <td>The decline EZ-bar skullcrusher is a popular e...</td>\n",
       "      <td>The EZ-bar skullcrusher is a popular exercise ...</td>\n",
       "      <td>The EZ-bar skullcrusher is a popular exercise ...</td>\n",
       "      <td>NaN</td>\n",
       "      <td>The EZ-bar skullcrusher is a popular exercise ...</td>\n",
       "      <td>The EZ-bar skullcrusher is a popular exercise ...</td>\n",
       "      <td>NaN</td>\n",
       "    </tr>\n",
       "    <tr>\n",
       "      <th>Type</th>\n",
       "      <td>Strength</td>\n",
       "      <td>Strength</td>\n",
       "      <td>Strength</td>\n",
       "      <td>Strength</td>\n",
       "      <td>Strength</td>\n",
       "      <td>Strength</td>\n",
       "      <td>Strength</td>\n",
       "      <td>Strength</td>\n",
       "      <td>Strength</td>\n",
       "      <td>Strength</td>\n",
       "      <td>...</td>\n",
       "      <td>Strength</td>\n",
       "      <td>Strength</td>\n",
       "      <td>Plyometrics</td>\n",
       "      <td>Strength</td>\n",
       "      <td>Strength</td>\n",
       "      <td>Strength</td>\n",
       "      <td>Strength</td>\n",
       "      <td>Strength</td>\n",
       "      <td>Strength</td>\n",
       "      <td>Strength</td>\n",
       "    </tr>\n",
       "    <tr>\n",
       "      <th>BodyPart</th>\n",
       "      <td>Abdominals</td>\n",
       "      <td>Abdominals</td>\n",
       "      <td>Abdominals</td>\n",
       "      <td>Abdominals</td>\n",
       "      <td>Abdominals</td>\n",
       "      <td>Abdominals</td>\n",
       "      <td>Abdominals</td>\n",
       "      <td>Abdominals</td>\n",
       "      <td>Abdominals</td>\n",
       "      <td>Abdominals</td>\n",
       "      <td>...</td>\n",
       "      <td>Triceps</td>\n",
       "      <td>Triceps</td>\n",
       "      <td>Triceps</td>\n",
       "      <td>Triceps</td>\n",
       "      <td>Triceps</td>\n",
       "      <td>Triceps</td>\n",
       "      <td>Triceps</td>\n",
       "      <td>Triceps</td>\n",
       "      <td>Triceps</td>\n",
       "      <td>Triceps</td>\n",
       "    </tr>\n",
       "    <tr>\n",
       "      <th>Equipment</th>\n",
       "      <td>Bands</td>\n",
       "      <td>Bands</td>\n",
       "      <td>Bands</td>\n",
       "      <td>Bands</td>\n",
       "      <td>Bands</td>\n",
       "      <td>Bands</td>\n",
       "      <td>Bands</td>\n",
       "      <td>Bands</td>\n",
       "      <td>Barbell</td>\n",
       "      <td>Barbell</td>\n",
       "      <td>...</td>\n",
       "      <td>Body Only</td>\n",
       "      <td>Body Only</td>\n",
       "      <td>Medicine Ball</td>\n",
       "      <td>E-Z Curl Bar</td>\n",
       "      <td>E-Z Curl Bar</td>\n",
       "      <td>E-Z Curl Bar</td>\n",
       "      <td>E-Z Curl Bar</td>\n",
       "      <td>E-Z Curl Bar</td>\n",
       "      <td>E-Z Curl Bar</td>\n",
       "      <td>E-Z Curl Bar</td>\n",
       "    </tr>\n",
       "    <tr>\n",
       "      <th>Level</th>\n",
       "      <td>Intermediate</td>\n",
       "      <td>Intermediate</td>\n",
       "      <td>Intermediate</td>\n",
       "      <td>Intermediate</td>\n",
       "      <td>Intermediate</td>\n",
       "      <td>Intermediate</td>\n",
       "      <td>Intermediate</td>\n",
       "      <td>Intermediate</td>\n",
       "      <td>Intermediate</td>\n",
       "      <td>Intermediate</td>\n",
       "      <td>...</td>\n",
       "      <td>Intermediate</td>\n",
       "      <td>Intermediate</td>\n",
       "      <td>Beginner</td>\n",
       "      <td>Intermediate</td>\n",
       "      <td>Intermediate</td>\n",
       "      <td>Intermediate</td>\n",
       "      <td>Beginner</td>\n",
       "      <td>Intermediate</td>\n",
       "      <td>Intermediate</td>\n",
       "      <td>Intermediate</td>\n",
       "    </tr>\n",
       "    <tr>\n",
       "      <th>Rating</th>\n",
       "      <td>0.0</td>\n",
       "      <td>NaN</td>\n",
       "      <td>NaN</td>\n",
       "      <td>NaN</td>\n",
       "      <td>NaN</td>\n",
       "      <td>NaN</td>\n",
       "      <td>NaN</td>\n",
       "      <td>NaN</td>\n",
       "      <td>8.9</td>\n",
       "      <td>8.9</td>\n",
       "      <td>...</td>\n",
       "      <td>NaN</td>\n",
       "      <td>NaN</td>\n",
       "      <td>8.2</td>\n",
       "      <td>9.3</td>\n",
       "      <td>9.0</td>\n",
       "      <td>8.1</td>\n",
       "      <td>8.1</td>\n",
       "      <td>NaN</td>\n",
       "      <td>NaN</td>\n",
       "      <td>NaN</td>\n",
       "    </tr>\n",
       "    <tr>\n",
       "      <th>RatingDesc</th>\n",
       "      <td>NaN</td>\n",
       "      <td>NaN</td>\n",
       "      <td>NaN</td>\n",
       "      <td>NaN</td>\n",
       "      <td>NaN</td>\n",
       "      <td>NaN</td>\n",
       "      <td>NaN</td>\n",
       "      <td>NaN</td>\n",
       "      <td>Average</td>\n",
       "      <td>Average</td>\n",
       "      <td>...</td>\n",
       "      <td>NaN</td>\n",
       "      <td>NaN</td>\n",
       "      <td>Average</td>\n",
       "      <td>Average</td>\n",
       "      <td>Average</td>\n",
       "      <td>Average</td>\n",
       "      <td>Average</td>\n",
       "      <td>NaN</td>\n",
       "      <td>NaN</td>\n",
       "      <td>NaN</td>\n",
       "    </tr>\n",
       "  </tbody>\n",
       "</table>\n",
       "<p>8 rows × 2918 columns</p>\n",
       "</div>"
      ],
      "text/plain": [
       "                                                         0     \\\n",
       "Title                                  Partner plank band row   \n",
       "Desc        The partner plank band row is an abdominal exe...   \n",
       "Type                                                 Strength   \n",
       "BodyPart                                           Abdominals   \n",
       "Equipment                                               Bands   \n",
       "Level                                            Intermediate   \n",
       "Rating                                                    0.0   \n",
       "RatingDesc                                                NaN   \n",
       "\n",
       "                                                         1     \\\n",
       "Title                            Banded crunch isometric hold   \n",
       "Desc        The banded crunch isometric hold is an exercis...   \n",
       "Type                                                 Strength   \n",
       "BodyPart                                           Abdominals   \n",
       "Equipment                                               Bands   \n",
       "Level                                            Intermediate   \n",
       "Rating                                                    NaN   \n",
       "RatingDesc                                                NaN   \n",
       "\n",
       "                                                         2     \\\n",
       "Title                                   FYR Banded Plank Jack   \n",
       "Desc        The banded plank jack is a variation on the pl...   \n",
       "Type                                                 Strength   \n",
       "BodyPart                                           Abdominals   \n",
       "Equipment                                               Bands   \n",
       "Level                                            Intermediate   \n",
       "Rating                                                    NaN   \n",
       "RatingDesc                                                NaN   \n",
       "\n",
       "                                                         3     \\\n",
       "Title                                           Banded crunch   \n",
       "Desc        The banded crunch is an exercise targeting the...   \n",
       "Type                                                 Strength   \n",
       "BodyPart                                           Abdominals   \n",
       "Equipment                                               Bands   \n",
       "Level                                            Intermediate   \n",
       "Rating                                                    NaN   \n",
       "RatingDesc                                                NaN   \n",
       "\n",
       "                                                         4     \\\n",
       "Title                                                  Crunch   \n",
       "Desc        The crunch is a popular core exercise targetin...   \n",
       "Type                                                 Strength   \n",
       "BodyPart                                           Abdominals   \n",
       "Equipment                                               Bands   \n",
       "Level                                            Intermediate   \n",
       "Rating                                                    NaN   \n",
       "RatingDesc                                                NaN   \n",
       "\n",
       "                                                         5     \\\n",
       "Title                               Decline band press sit-up   \n",
       "Desc        The decline band press sit-up is a weighted co...   \n",
       "Type                                                 Strength   \n",
       "BodyPart                                           Abdominals   \n",
       "Equipment                                               Bands   \n",
       "Level                                            Intermediate   \n",
       "Rating                                                    NaN   \n",
       "RatingDesc                                                NaN   \n",
       "\n",
       "                             6     \\\n",
       "Title       FYR2 Banded Frog Pump   \n",
       "Desc                          NaN   \n",
       "Type                     Strength   \n",
       "BodyPart               Abdominals   \n",
       "Equipment                   Bands   \n",
       "Level                Intermediate   \n",
       "Rating                        NaN   \n",
       "RatingDesc                    NaN   \n",
       "\n",
       "                                                         7     \\\n",
       "Title                                  Band low-to-high twist   \n",
       "Desc        The band low-to-high twist is a core exercise ...   \n",
       "Type                                                 Strength   \n",
       "BodyPart                                           Abdominals   \n",
       "Equipment                                               Bands   \n",
       "Level                                            Intermediate   \n",
       "Rating                                                    NaN   \n",
       "RatingDesc                                                NaN   \n",
       "\n",
       "                                                         8     \\\n",
       "Title                                        Barbell roll-out   \n",
       "Desc        The barbell roll-out is an abdominal exercise ...   \n",
       "Type                                                 Strength   \n",
       "BodyPart                                           Abdominals   \n",
       "Equipment                                             Barbell   \n",
       "Level                                            Intermediate   \n",
       "Rating                                                    8.9   \n",
       "RatingDesc                                            Average   \n",
       "\n",
       "                                                         9     ...  \\\n",
       "Title                           Barbell Ab Rollout - On Knees  ...   \n",
       "Desc        The barbell roll-out is an abdominal exercise ...  ...   \n",
       "Type                                                 Strength  ...   \n",
       "BodyPart                                           Abdominals  ...   \n",
       "Equipment                                             Barbell  ...   \n",
       "Level                                            Intermediate  ...   \n",
       "Rating                                                    8.9  ...   \n",
       "RatingDesc                                            Average  ...   \n",
       "\n",
       "                                  2908                            2909  \\\n",
       "Title       30 Arms Close-Grip Push-Up  30 Arms BFR Close-Grip Push-Up   \n",
       "Desc                               NaN                             NaN   \n",
       "Type                          Strength                        Strength   \n",
       "BodyPart                       Triceps                         Triceps   \n",
       "Equipment                    Body Only                       Body Only   \n",
       "Level                     Intermediate                    Intermediate   \n",
       "Rating                             NaN                             NaN   \n",
       "RatingDesc                         NaN                             NaN   \n",
       "\n",
       "                          2910  \\\n",
       "Title       Supine Chest Throw   \n",
       "Desc                       NaN   \n",
       "Type               Plyometrics   \n",
       "BodyPart               Triceps   \n",
       "Equipment        Medicine Ball   \n",
       "Level                 Beginner   \n",
       "Rating                     8.2   \n",
       "RatingDesc             Average   \n",
       "\n",
       "                                                         2911  \\\n",
       "Title                             Decline EZ-bar skullcrusher   \n",
       "Desc        The decline EZ-bar skullcrusher is a popular e...   \n",
       "Type                                                 Strength   \n",
       "BodyPart                                              Triceps   \n",
       "Equipment                                        E-Z Curl Bar   \n",
       "Level                                            Intermediate   \n",
       "Rating                                                    9.3   \n",
       "RatingDesc                                            Average   \n",
       "\n",
       "                                                         2912  \\\n",
       "Title                                     EZ-Bar Skullcrusher   \n",
       "Desc        The EZ-bar skullcrusher is a popular exercise ...   \n",
       "Type                                                 Strength   \n",
       "BodyPart                                              Triceps   \n",
       "Equipment                                        E-Z Curl Bar   \n",
       "Level                                            Intermediate   \n",
       "Rating                                                    9.0   \n",
       "RatingDesc                                            Average   \n",
       "\n",
       "                                                         2913  \\\n",
       "Title                                    EZ-bar skullcrusher-   \n",
       "Desc        The EZ-bar skullcrusher is a popular exercise ...   \n",
       "Type                                                 Strength   \n",
       "BodyPart                                              Triceps   \n",
       "Equipment                                        E-Z Curl Bar   \n",
       "Level                                            Intermediate   \n",
       "Rating                                                    8.1   \n",
       "RatingDesc                                            Average   \n",
       "\n",
       "                                                      2914  \\\n",
       "Title       Lying Close-Grip Barbell Triceps Press To Chin   \n",
       "Desc                                                   NaN   \n",
       "Type                                              Strength   \n",
       "BodyPart                                           Triceps   \n",
       "Equipment                                     E-Z Curl Bar   \n",
       "Level                                             Beginner   \n",
       "Rating                                                 8.1   \n",
       "RatingDesc                                         Average   \n",
       "\n",
       "                                                         2915  \\\n",
       "Title                  EZ-Bar Skullcrusher - Gethin Variation   \n",
       "Desc        The EZ-bar skullcrusher is a popular exercise ...   \n",
       "Type                                                 Strength   \n",
       "BodyPart                                              Triceps   \n",
       "Equipment                                        E-Z Curl Bar   \n",
       "Level                                            Intermediate   \n",
       "Rating                                                    NaN   \n",
       "RatingDesc                                                NaN   \n",
       "\n",
       "                                                         2916  \\\n",
       "Title                                        TBS Skullcrusher   \n",
       "Desc        The EZ-bar skullcrusher is a popular exercise ...   \n",
       "Type                                                 Strength   \n",
       "BodyPart                                              Triceps   \n",
       "Equipment                                        E-Z Curl Bar   \n",
       "Level                                            Intermediate   \n",
       "Rating                                                    NaN   \n",
       "RatingDesc                                                NaN   \n",
       "\n",
       "                                   2917  \n",
       "Title       30 Arms EZ-Bar Skullcrusher  \n",
       "Desc                                NaN  \n",
       "Type                           Strength  \n",
       "BodyPart                        Triceps  \n",
       "Equipment                  E-Z Curl Bar  \n",
       "Level                      Intermediate  \n",
       "Rating                              NaN  \n",
       "RatingDesc                          NaN  \n",
       "\n",
       "[8 rows x 2918 columns]"
      ]
     },
     "execution_count": 8,
     "metadata": {},
     "output_type": "execute_result"
    }
   ],
   "source": [
    "df.head(2918).T"
   ]
  },
  {
   "cell_type": "code",
   "execution_count": 9,
   "id": "f9559173-b20c-479c-94fd-d1b2b24ce171",
   "metadata": {
    "tags": []
   },
   "outputs": [
    {
     "data": {
      "text/html": [
       "<div>\n",
       "<style scoped>\n",
       "    .dataframe tbody tr th:only-of-type {\n",
       "        vertical-align: middle;\n",
       "    }\n",
       "\n",
       "    .dataframe tbody tr th {\n",
       "        vertical-align: top;\n",
       "    }\n",
       "\n",
       "    .dataframe thead th {\n",
       "        text-align: right;\n",
       "    }\n",
       "</style>\n",
       "<table border=\"1\" class=\"dataframe\">\n",
       "  <thead>\n",
       "    <tr style=\"text-align: right;\">\n",
       "      <th></th>\n",
       "      <th>Title</th>\n",
       "      <th>Desc</th>\n",
       "      <th>Type</th>\n",
       "      <th>BodyPart</th>\n",
       "      <th>Equipment</th>\n",
       "      <th>Level</th>\n",
       "      <th>Rating</th>\n",
       "      <th>RatingDesc</th>\n",
       "    </tr>\n",
       "  </thead>\n",
       "  <tbody>\n",
       "    <tr>\n",
       "      <th>0</th>\n",
       "      <td>Partner plank band row</td>\n",
       "      <td>The partner plank band row is an abdominal exe...</td>\n",
       "      <td>Strength</td>\n",
       "      <td>Abdominals</td>\n",
       "      <td>Bands</td>\n",
       "      <td>Intermediate</td>\n",
       "      <td>0.0</td>\n",
       "      <td>NaN</td>\n",
       "    </tr>\n",
       "    <tr>\n",
       "      <th>1</th>\n",
       "      <td>Banded crunch isometric hold</td>\n",
       "      <td>The banded crunch isometric hold is an exercis...</td>\n",
       "      <td>Strength</td>\n",
       "      <td>Abdominals</td>\n",
       "      <td>Bands</td>\n",
       "      <td>Intermediate</td>\n",
       "      <td>NaN</td>\n",
       "      <td>NaN</td>\n",
       "    </tr>\n",
       "    <tr>\n",
       "      <th>2</th>\n",
       "      <td>FYR Banded Plank Jack</td>\n",
       "      <td>The banded plank jack is a variation on the pl...</td>\n",
       "      <td>Strength</td>\n",
       "      <td>Abdominals</td>\n",
       "      <td>Bands</td>\n",
       "      <td>Intermediate</td>\n",
       "      <td>NaN</td>\n",
       "      <td>NaN</td>\n",
       "    </tr>\n",
       "    <tr>\n",
       "      <th>3</th>\n",
       "      <td>Banded crunch</td>\n",
       "      <td>The banded crunch is an exercise targeting the...</td>\n",
       "      <td>Strength</td>\n",
       "      <td>Abdominals</td>\n",
       "      <td>Bands</td>\n",
       "      <td>Intermediate</td>\n",
       "      <td>NaN</td>\n",
       "      <td>NaN</td>\n",
       "    </tr>\n",
       "    <tr>\n",
       "      <th>4</th>\n",
       "      <td>Crunch</td>\n",
       "      <td>The crunch is a popular core exercise targetin...</td>\n",
       "      <td>Strength</td>\n",
       "      <td>Abdominals</td>\n",
       "      <td>Bands</td>\n",
       "      <td>Intermediate</td>\n",
       "      <td>NaN</td>\n",
       "      <td>NaN</td>\n",
       "    </tr>\n",
       "  </tbody>\n",
       "</table>\n",
       "</div>"
      ],
      "text/plain": [
       "                          Title  \\\n",
       "0        Partner plank band row   \n",
       "1  Banded crunch isometric hold   \n",
       "2         FYR Banded Plank Jack   \n",
       "3                 Banded crunch   \n",
       "4                        Crunch   \n",
       "\n",
       "                                                Desc      Type    BodyPart  \\\n",
       "0  The partner plank band row is an abdominal exe...  Strength  Abdominals   \n",
       "1  The banded crunch isometric hold is an exercis...  Strength  Abdominals   \n",
       "2  The banded plank jack is a variation on the pl...  Strength  Abdominals   \n",
       "3  The banded crunch is an exercise targeting the...  Strength  Abdominals   \n",
       "4  The crunch is a popular core exercise targetin...  Strength  Abdominals   \n",
       "\n",
       "  Equipment         Level  Rating RatingDesc  \n",
       "0     Bands  Intermediate     0.0        NaN  \n",
       "1     Bands  Intermediate     NaN        NaN  \n",
       "2     Bands  Intermediate     NaN        NaN  \n",
       "3     Bands  Intermediate     NaN        NaN  \n",
       "4     Bands  Intermediate     NaN        NaN  "
      ]
     },
     "execution_count": 9,
     "metadata": {},
     "output_type": "execute_result"
    }
   ],
   "source": [
    "df.head()"
   ]
  },
  {
   "cell_type": "code",
   "execution_count": 10,
   "id": "f8888c0f-e67f-41e0-9c13-cbabe0cb7020",
   "metadata": {
    "tags": []
   },
   "outputs": [
    {
     "name": "stdout",
     "output_type": "stream",
     "text": [
      "<class 'pandas.core.frame.DataFrame'>\n",
      "RangeIndex: 2918 entries, 0 to 2917\n",
      "Data columns (total 8 columns):\n",
      " #   Column      Non-Null Count  Dtype  \n",
      "---  ------      --------------  -----  \n",
      " 0   Title       2918 non-null   object \n",
      " 1   Desc        1368 non-null   object \n",
      " 2   Type        2918 non-null   object \n",
      " 3   BodyPart    2918 non-null   object \n",
      " 4   Equipment   2886 non-null   object \n",
      " 5   Level       2918 non-null   object \n",
      " 6   Rating      1031 non-null   float64\n",
      " 7   RatingDesc  862 non-null    object \n",
      "dtypes: float64(1), object(7)\n",
      "memory usage: 182.5+ KB\n"
     ]
    }
   ],
   "source": [
    "df.info()"
   ]
  },
  {
   "cell_type": "code",
   "execution_count": 11,
   "id": "6efe21cf-ab45-4e40-88c8-b1e82cdb2026",
   "metadata": {
    "tags": []
   },
   "outputs": [
    {
     "data": {
      "text/plain": [
       "array(['Partner plank band row', 'Banded crunch isometric hold',\n",
       "       'FYR Banded Plank Jack', ...,\n",
       "       'EZ-Bar Skullcrusher - Gethin Variation', 'TBS Skullcrusher',\n",
       "       '30 Arms EZ-Bar Skullcrusher'], dtype=object)"
      ]
     },
     "execution_count": 11,
     "metadata": {},
     "output_type": "execute_result"
    }
   ],
   "source": [
    "df['Title'].unique()"
   ]
  },
  {
   "cell_type": "code",
   "execution_count": 12,
   "id": "543b3977-b149-402f-a9bd-4b40e93211fc",
   "metadata": {
    "tags": []
   },
   "outputs": [
    {
     "data": {
      "text/plain": [
       "array(['The partner plank band row is an abdominal exercise where two partners perform single-arm planks while pulling on the opposite ends of an exercise band. This technique can be done for time or reps in any ab-focused workout.',\n",
       "       'The banded crunch isometric hold is an exercise targeting the abdominal muscles, particularly the rectus abdominis or \"six-pack\" muscles. The band adds resistance and continuous tension to this popular exercise.',\n",
       "       'The banded plank jack is a variation on the plank that involves moving the legs in and out for repetitions. Having a band around the thighs forces the lower body to work harder, particularly the hips and glutes. The plank jack is commonly performed as part of a bodyweight circuit, or as part of a dynamic warm-up.',\n",
       "       ...,\n",
       "       'The bench dip is a highly effective exercise for building the triceps. The resistance comes from the body itself, rather than added weight.',\n",
       "       'The decline EZ-bar skullcrusher is a popular exercise targeting the triceps muscles. The angle of the bench creates a greater range of motion than flat bench skullcrushers, as well as targeting the lateral head of the muscle. This exercise is usually performed for moderate to high reps as part of an upper-body or arm-focused workout.',\n",
       "       'The EZ-bar skullcrusher is a popular exercise targeting the triceps muscles. Contrary to what the name implies, the bar should actually come down behind the head. It is usually performed for moderate to high reps as part of an upper-body or arms-focused workout.'],\n",
       "      dtype=object)"
      ]
     },
     "execution_count": 12,
     "metadata": {},
     "output_type": "execute_result"
    }
   ],
   "source": [
    "df['Desc'].unique()"
   ]
  },
  {
   "cell_type": "code",
   "execution_count": 13,
   "id": "26ce4233-e1b9-43eb-9fe9-90f7b3ff9c0a",
   "metadata": {
    "tags": []
   },
   "outputs": [
    {
     "data": {
      "text/plain": [
       "array(['Strength', 'Plyometrics', 'Cardio', 'Stretching', 'Powerlifting',\n",
       "       'Strongman', 'Olympic Weightlifting'], dtype=object)"
      ]
     },
     "execution_count": 13,
     "metadata": {},
     "output_type": "execute_result"
    }
   ],
   "source": [
    "df['Type'].unique()"
   ]
  },
  {
   "cell_type": "code",
   "execution_count": 14,
   "id": "c844688d-907c-45ea-b379-7ebf5a57510e",
   "metadata": {
    "tags": []
   },
   "outputs": [
    {
     "data": {
      "text/plain": [
       "array(['Abdominals', 'Adductors', 'Abductors', 'Biceps', 'Calves',\n",
       "       'Chest', 'Forearms', 'Glutes', 'Hamstrings', 'Lats', 'Lower Back',\n",
       "       'Middle Back', 'Traps', 'Neck', 'Quadriceps', 'Shoulders',\n",
       "       'Triceps'], dtype=object)"
      ]
     },
     "execution_count": 14,
     "metadata": {},
     "output_type": "execute_result"
    }
   ],
   "source": [
    "df['BodyPart'].unique()"
   ]
  },
  {
   "cell_type": "code",
   "execution_count": 15,
   "id": "07537fc7-ea87-42f5-b15d-a148c33d700f",
   "metadata": {
    "tags": []
   },
   "outputs": [
    {
     "data": {
      "text/plain": [
       "array(['Bands', 'Barbell', 'Kettlebells', 'Dumbbell', 'Other', 'Cable',\n",
       "       'Machine', 'Body Only', 'Medicine Ball', nan, 'Exercise Ball',\n",
       "       'Foam Roll', 'E-Z Curl Bar'], dtype=object)"
      ]
     },
     "execution_count": 15,
     "metadata": {},
     "output_type": "execute_result"
    }
   ],
   "source": [
    "df['Equipment'].unique()"
   ]
  },
  {
   "cell_type": "code",
   "execution_count": 16,
   "id": "bfeefd00-cc4c-4d50-87da-64b0b5e047e9",
   "metadata": {
    "tags": []
   },
   "outputs": [
    {
     "data": {
      "text/plain": [
       "array(['Intermediate', 'Beginner', 'Expert'], dtype=object)"
      ]
     },
     "execution_count": 16,
     "metadata": {},
     "output_type": "execute_result"
    }
   ],
   "source": [
    "df['Level'].unique()"
   ]
  },
  {
   "cell_type": "code",
   "execution_count": 17,
   "id": "f3148e06-9c6e-4473-aa6f-d0632e438dbb",
   "metadata": {
    "tags": []
   },
   "outputs": [
    {
     "data": {
      "text/plain": [
       "array([nan, 'Average'], dtype=object)"
      ]
     },
     "execution_count": 17,
     "metadata": {},
     "output_type": "execute_result"
    }
   ],
   "source": [
    "df['RatingDesc'].unique()"
   ]
  },
  {
   "cell_type": "code",
   "execution_count": 18,
   "id": "e4c31cc6-f40d-4f2d-85af-81ac56362887",
   "metadata": {
    "tags": []
   },
   "outputs": [],
   "source": [
    "from sklearn.preprocessing import LabelEncoder\n",
    "le = LabelEncoder()\n",
    "\n",
    "df['Title'] = le.fit_transform(df['Title'])\n",
    "df['Type'] = le.fit_transform(df['Type'])\n",
    "df['BodyPart'] = le.fit_transform(df['BodyPart'])\n",
    "df['Level'] = le.fit_transform(df['Level'])\n",
    "\n",
    "\n",
    "df['Desc'] = le.fit_transform(df['Desc'])\n",
    "df['Equipment'] = le.fit_transform(df['Equipment'])\n",
    "df['RatingDesc'] = le.fit_transform(df['RatingDesc'])"
   ]
  },
  {
   "cell_type": "code",
   "execution_count": 19,
   "id": "9182167b-94ad-492b-9734-5426c4bf0ad1",
   "metadata": {
    "tags": []
   },
   "outputs": [
    {
     "data": {
      "text/plain": [
       "array([696, 139, 143, ..., 200, 301,  36])"
      ]
     },
     "execution_count": 19,
     "metadata": {},
     "output_type": "execute_result"
    }
   ],
   "source": [
    "df['Desc'].unique()"
   ]
  },
  {
   "cell_type": "code",
   "execution_count": 20,
   "id": "0a62946d-5652-4ea0-acad-2d4cc9158e65",
   "metadata": {
    "tags": []
   },
   "outputs": [
    {
     "data": {
      "text/plain": [
       "array([ 0,  1,  8,  4, 11,  3,  9,  2, 10, 12,  6,  7,  5])"
      ]
     },
     "execution_count": 20,
     "metadata": {},
     "output_type": "execute_result"
    }
   ],
   "source": [
    "df['Equipment'].unique()"
   ]
  },
  {
   "cell_type": "code",
   "execution_count": 21,
   "id": "4d7eeddd-b7cc-44ed-895f-d1b0f22c2193",
   "metadata": {
    "tags": []
   },
   "outputs": [
    {
     "data": {
      "text/plain": [
       "array([1, 0])"
      ]
     },
     "execution_count": 21,
     "metadata": {},
     "output_type": "execute_result"
    }
   ],
   "source": [
    "df['RatingDesc'].unique()"
   ]
  },
  {
   "cell_type": "code",
   "execution_count": 22,
   "id": "fbb5ddac-2aa1-4301-88b6-ab3a69654096",
   "metadata": {
    "tags": []
   },
   "outputs": [
    {
     "data": {
      "text/plain": [
       "Title            0\n",
       "Desc             0\n",
       "Type             0\n",
       "BodyPart         0\n",
       "Equipment        0\n",
       "Level            0\n",
       "Rating        1887\n",
       "RatingDesc       0\n",
       "dtype: int64"
      ]
     },
     "execution_count": 22,
     "metadata": {},
     "output_type": "execute_result"
    }
   ],
   "source": [
    "df.isnull().sum()"
   ]
  },
  {
   "cell_type": "code",
   "execution_count": 23,
   "id": "e20959c0-d1ad-41d2-8c0f-7f4e0f425b1b",
   "metadata": {
    "tags": []
   },
   "outputs": [
    {
     "data": {
      "text/plain": [
       "Title          0.000000\n",
       "Desc           0.000000\n",
       "Type           0.000000\n",
       "BodyPart       0.000000\n",
       "Equipment      0.000000\n",
       "Level          0.000000\n",
       "Rating        64.667581\n",
       "RatingDesc     0.000000\n",
       "dtype: float64"
      ]
     },
     "execution_count": 23,
     "metadata": {},
     "output_type": "execute_result"
    }
   ],
   "source": [
    "df.isnull().sum() / df.shape[0] * 100"
   ]
  },
  {
   "cell_type": "code",
   "execution_count": 24,
   "id": "2f5b8851-6d0c-407a-b52b-0b16a252bf20",
   "metadata": {
    "tags": []
   },
   "outputs": [],
   "source": [
    "df['Rating'] = df['Rating'].fillna(df['Rating'].mean())\n",
    "# df.fillna(0, inplace = True)"
   ]
  },
  {
   "cell_type": "code",
   "execution_count": 25,
   "id": "d9f1427d-ca96-41cd-b0c8-e74c5fdf1ed7",
   "metadata": {
    "tags": []
   },
   "outputs": [
    {
     "data": {
      "text/plain": [
       "Title         0\n",
       "Desc          0\n",
       "Type          0\n",
       "BodyPart      0\n",
       "Equipment     0\n",
       "Level         0\n",
       "Rating        0\n",
       "RatingDesc    0\n",
       "dtype: int64"
      ]
     },
     "execution_count": 25,
     "metadata": {},
     "output_type": "execute_result"
    }
   ],
   "source": [
    "df.isnull().sum()"
   ]
  },
  {
   "cell_type": "code",
   "execution_count": 26,
   "id": "bd611ce5-9574-4c21-bdbb-5eb1d4721ada",
   "metadata": {
    "tags": []
   },
   "outputs": [
    {
     "name": "stdout",
     "output_type": "stream",
     "text": [
      "<class 'pandas.core.frame.DataFrame'>\n",
      "RangeIndex: 2918 entries, 0 to 2917\n",
      "Data columns (total 8 columns):\n",
      " #   Column      Non-Null Count  Dtype  \n",
      "---  ------      --------------  -----  \n",
      " 0   Title       2918 non-null   int32  \n",
      " 1   Desc        2918 non-null   int32  \n",
      " 2   Type        2918 non-null   int32  \n",
      " 3   BodyPart    2918 non-null   int32  \n",
      " 4   Equipment   2918 non-null   int32  \n",
      " 5   Level       2918 non-null   int32  \n",
      " 6   Rating      2918 non-null   float64\n",
      " 7   RatingDesc  2918 non-null   int32  \n",
      "dtypes: float64(1), int32(7)\n",
      "memory usage: 102.7 KB\n"
     ]
    }
   ],
   "source": [
    "df.info()"
   ]
  },
  {
   "cell_type": "code",
   "execution_count": 27,
   "id": "68d4fd89-a2f1-454c-8c6e-2fd997007b2f",
   "metadata": {
    "tags": []
   },
   "outputs": [
    {
     "data": {
      "image/png": "[encoded data removed]",
      "text/plain": [
       "<Figure size 2400x2400 with 2 Axes>"
      ]
     },
     "metadata": {},
     "output_type": "display_data"
    }
   ],
   "source": [
    "plt.figure(figsize=(24, 24))\n",
    "sns.heatmap(df.corr(), annot=True, fmt='.2f', linewidths=0.5)\n",
    "plt.title('Матрица корреляций атрибутов')\n",
    "plt.show()"
   ]
  },
  {
   "cell_type": "code",
   "execution_count": 28,
   "id": "d999a740-41fc-4270-a324-e95b2d0dc84f",
   "metadata": {
    "tags": []
   },
   "outputs": [],
   "source": [
    "df = df.drop('RatingDesc', axis=1)"
   ]
  },
  {
   "cell_type": "code",
   "execution_count": 29,
   "id": "ff5304e2-9867-4d0a-87f0-4e0033ec83be",
   "metadata": {
    "tags": []
   },
   "outputs": [
    {
     "data": {
      "text/html": [
       "<div>\n",
       "<style scoped>\n",
       "    .dataframe tbody tr th:only-of-type {\n",
       "        vertical-align: middle;\n",
       "    }\n",
       "\n",
       "    .dataframe tbody tr th {\n",
       "        vertical-align: top;\n",
       "    }\n",
       "\n",
       "    .dataframe thead th {\n",
       "        text-align: right;\n",
       "    }\n",
       "</style>\n",
       "<table border=\"1\" class=\"dataframe\">\n",
       "  <thead>\n",
       "    <tr style=\"text-align: right;\">\n",
       "      <th></th>\n",
       "      <th>Title</th>\n",
       "      <th>Desc</th>\n",
       "      <th>Type</th>\n",
       "      <th>BodyPart</th>\n",
       "      <th>Equipment</th>\n",
       "      <th>Level</th>\n",
       "      <th>Rating</th>\n",
       "    </tr>\n",
       "  </thead>\n",
       "  <tbody>\n",
       "    <tr>\n",
       "      <th>0</th>\n",
       "      <td>2078</td>\n",
       "      <td>696</td>\n",
       "      <td>4</td>\n",
       "      <td>0</td>\n",
       "      <td>0</td>\n",
       "      <td>2</td>\n",
       "      <td>0.00000</td>\n",
       "    </tr>\n",
       "    <tr>\n",
       "      <th>1</th>\n",
       "      <td>323</td>\n",
       "      <td>139</td>\n",
       "      <td>4</td>\n",
       "      <td>0</td>\n",
       "      <td>0</td>\n",
       "      <td>2</td>\n",
       "      <td>5.91969</td>\n",
       "    </tr>\n",
       "    <tr>\n",
       "      <th>2</th>\n",
       "      <td>803</td>\n",
       "      <td>143</td>\n",
       "      <td>4</td>\n",
       "      <td>0</td>\n",
       "      <td>0</td>\n",
       "      <td>2</td>\n",
       "      <td>5.91969</td>\n",
       "    </tr>\n",
       "    <tr>\n",
       "      <th>3</th>\n",
       "      <td>322</td>\n",
       "      <td>138</td>\n",
       "      <td>4</td>\n",
       "      <td>0</td>\n",
       "      <td>0</td>\n",
       "      <td>2</td>\n",
       "      <td>5.91969</td>\n",
       "    </tr>\n",
       "    <tr>\n",
       "      <th>4</th>\n",
       "      <td>590</td>\n",
       "      <td>298</td>\n",
       "      <td>4</td>\n",
       "      <td>0</td>\n",
       "      <td>0</td>\n",
       "      <td>2</td>\n",
       "      <td>5.91969</td>\n",
       "    </tr>\n",
       "  </tbody>\n",
       "</table>\n",
       "</div>"
      ],
      "text/plain": [
       "   Title  Desc  Type  BodyPart  Equipment  Level   Rating\n",
       "0   2078   696     4         0          0      2  0.00000\n",
       "1    323   139     4         0          0      2  5.91969\n",
       "2    803   143     4         0          0      2  5.91969\n",
       "3    322   138     4         0          0      2  5.91969\n",
       "4    590   298     4         0          0      2  5.91969"
      ]
     },
     "execution_count": 29,
     "metadata": {},
     "output_type": "execute_result"
    }
   ],
   "source": [
    "df.head()"
   ]
  },
  {
   "cell_type": "code",
   "execution_count": 30,
   "id": "91865635-ee5b-4b4e-b9d5-67c7eb3c412b",
   "metadata": {
    "tags": []
   },
   "outputs": [
    {
     "data": {
      "text/html": [
       "<div>\n",
       "<style scoped>\n",
       "    .dataframe tbody tr th:only-of-type {\n",
       "        vertical-align: middle;\n",
       "    }\n",
       "\n",
       "    .dataframe tbody tr th {\n",
       "        vertical-align: top;\n",
       "    }\n",
       "\n",
       "    .dataframe thead th {\n",
       "        text-align: right;\n",
       "    }\n",
       "</style>\n",
       "<table border=\"1\" class=\"dataframe\">\n",
       "  <thead>\n",
       "    <tr style=\"text-align: right;\">\n",
       "      <th></th>\n",
       "      <th>count</th>\n",
       "      <th>mean</th>\n",
       "      <th>std</th>\n",
       "      <th>min</th>\n",
       "      <th>25%</th>\n",
       "      <th>50%</th>\n",
       "      <th>75%</th>\n",
       "      <th>max</th>\n",
       "    </tr>\n",
       "  </thead>\n",
       "  <tbody>\n",
       "    <tr>\n",
       "      <th>Title</th>\n",
       "      <td>2918.0</td>\n",
       "      <td>1452.893763</td>\n",
       "      <td>840.165323</td>\n",
       "      <td>0.0</td>\n",
       "      <td>725.25000</td>\n",
       "      <td>1452.50000</td>\n",
       "      <td>2181.75000</td>\n",
       "      <td>2908.0</td>\n",
       "    </tr>\n",
       "    <tr>\n",
       "      <th>Desc</th>\n",
       "      <td>2918.0</td>\n",
       "      <td>799.174092</td>\n",
       "      <td>337.317356</td>\n",
       "      <td>0.0</td>\n",
       "      <td>545.25000</td>\n",
       "      <td>1050.00000</td>\n",
       "      <td>1050.00000</td>\n",
       "      <td>1050.0</td>\n",
       "    </tr>\n",
       "    <tr>\n",
       "      <th>Type</th>\n",
       "      <td>2918.0</td>\n",
       "      <td>3.902330</td>\n",
       "      <td>0.718807</td>\n",
       "      <td>0.0</td>\n",
       "      <td>4.00000</td>\n",
       "      <td>4.00000</td>\n",
       "      <td>4.00000</td>\n",
       "      <td>6.0</td>\n",
       "    </tr>\n",
       "    <tr>\n",
       "      <th>BodyPart</th>\n",
       "      <td>2918.0</td>\n",
       "      <td>7.947910</td>\n",
       "      <td>5.629641</td>\n",
       "      <td>0.0</td>\n",
       "      <td>3.00000</td>\n",
       "      <td>9.00000</td>\n",
       "      <td>13.00000</td>\n",
       "      <td>16.0</td>\n",
       "    </tr>\n",
       "    <tr>\n",
       "      <th>Equipment</th>\n",
       "      <td>2918.0</td>\n",
       "      <td>4.078821</td>\n",
       "      <td>3.288227</td>\n",
       "      <td>0.0</td>\n",
       "      <td>2.00000</td>\n",
       "      <td>2.00000</td>\n",
       "      <td>4.00000</td>\n",
       "      <td>12.0</td>\n",
       "    </tr>\n",
       "    <tr>\n",
       "      <th>Level</th>\n",
       "      <td>2918.0</td>\n",
       "      <td>1.680946</td>\n",
       "      <td>0.729411</td>\n",
       "      <td>0.0</td>\n",
       "      <td>2.00000</td>\n",
       "      <td>2.00000</td>\n",
       "      <td>2.00000</td>\n",
       "      <td>2.0</td>\n",
       "    </tr>\n",
       "    <tr>\n",
       "      <th>Rating</th>\n",
       "      <td>2918.0</td>\n",
       "      <td>5.919690</td>\n",
       "      <td>2.130061</td>\n",
       "      <td>0.0</td>\n",
       "      <td>5.91969</td>\n",
       "      <td>5.91969</td>\n",
       "      <td>5.91969</td>\n",
       "      <td>9.6</td>\n",
       "    </tr>\n",
       "  </tbody>\n",
       "</table>\n",
       "</div>"
      ],
      "text/plain": [
       "            count         mean         std  min        25%         50%  \\\n",
       "Title      2918.0  1452.893763  840.165323  0.0  725.25000  1452.50000   \n",
       "Desc       2918.0   799.174092  337.317356  0.0  545.25000  1050.00000   \n",
       "Type       2918.0     3.902330    0.718807  0.0    4.00000     4.00000   \n",
       "BodyPart   2918.0     7.947910    5.629641  0.0    3.00000     9.00000   \n",
       "Equipment  2918.0     4.078821    3.288227  0.0    2.00000     2.00000   \n",
       "Level      2918.0     1.680946    0.729411  0.0    2.00000     2.00000   \n",
       "Rating     2918.0     5.919690    2.130061  0.0    5.91969     5.91969   \n",
       "\n",
       "                  75%     max  \n",
       "Title      2181.75000  2908.0  \n",
       "Desc       1050.00000  1050.0  \n",
       "Type          4.00000     6.0  \n",
       "BodyPart     13.00000    16.0  \n",
       "Equipment     4.00000    12.0  \n",
       "Level         2.00000     2.0  \n",
       "Rating        5.91969     9.6  "
      ]
     },
     "execution_count": 30,
     "metadata": {},
     "output_type": "execute_result"
    }
   ],
   "source": [
    "df.describe().T"
   ]
  },
  {
   "cell_type": "code",
   "execution_count": 31,
   "id": "0c1d7c90-fe04-40a3-b0be-9e39be18564e",
   "metadata": {
    "tags": []
   },
   "outputs": [
    {
     "data": {
      "image/png": "[encoded data removed]",
      "text/plain": [
       "<Figure size 640x480 with 1 Axes>"
      ]
     },
     "metadata": {},
     "output_type": "display_data"
    },
    {
     "data": {
      "image/png": "[encoded data removed]",
      "text/plain": [
       "<Figure size 640x480 with 1 Axes>"
      ]
     },
     "metadata": {},
     "output_type": "display_data"
    },
    {
     "data": {
      "image/png": "[encoded data removed]",
      "text/plain": [
       "<Figure size 640x480 with 1 Axes>"
      ]
     },
     "metadata": {},
     "output_type": "display_data"
    },
    {
     "data": {
      "image/png": "[encoded data removed]",
      "text/plain": [
       "<Figure size 640x480 with 1 Axes>"
      ]
     },
     "metadata": {},
     "output_type": "display_data"
    },
    {
     "data": {
      "image/png": "[encoded data removed]",
      "text/plain": [
       "<Figure size 640x480 with 1 Axes>"
      ]
     },
     "metadata": {},
     "output_type": "display_data"
    },
    {
     "data": {
      "image/png": "[encoded data removed]",
      "text/plain": [
       "<Figure size 640x480 with 1 Axes>"
      ]
     },
     "metadata": {},
     "output_type": "display_data"
    },
    {
     "data": {
      "image/png": "[encoded data removed]",
      "text/plain": [
       "<Figure size 640x480 with 1 Axes>"
      ]
     },
     "metadata": {},
     "output_type": "display_data"
    }
   ],
   "source": [
    "dataCheck = df.describe()\n",
    "\n",
    "for i in dataCheck.columns:\n",
    "  plt.boxplot(df[i])\n",
    "  plt.title(i)\n",
    "  plt.show()"
   ]
  },
  {
   "cell_type": "code",
   "execution_count": 32,
   "id": "3c8bda79-f13d-42cc-ae34-895dd7a23322",
   "metadata": {
    "tags": []
   },
   "outputs": [
    {
     "data": {
      "image/png": "[encoded data removed]",
      "text/plain": [
       "<Figure size 640x480 with 1 Axes>"
      ]
     },
     "metadata": {},
     "output_type": "display_data"
    }
   ],
   "source": [
    "plt.boxplot(df['Rating'])\n",
    "plt.title('Rating')\n",
    "plt.show()"
   ]
  },
  {
   "cell_type": "code",
   "execution_count": 33,
   "id": "f49d7094-74e3-4f8e-ae9c-5eb7bb844ae8",
   "metadata": {
    "tags": []
   },
   "outputs": [
    {
     "name": "stdout",
     "output_type": "stream",
     "text": [
      "Количество записей:249\n"
     ]
    }
   ],
   "source": [
    "print(f\"Количество записей:{len( df [ df['Rating'] < 2 ])}\")"
   ]
  },
  {
   "cell_type": "code",
   "execution_count": 34,
   "id": "445292ae-d23e-4349-84b6-7f09ad7ade9a",
   "metadata": {
    "tags": []
   },
   "outputs": [],
   "source": [
    "df.drop(index=df[df['Rating'] < 2].index, inplace=True)"
   ]
  },
  {
   "cell_type": "code",
   "execution_count": 35,
   "id": "33ac5279-2ed2-434b-8a16-52936ee17342",
   "metadata": {
    "tags": []
   },
   "outputs": [
    {
     "data": {
      "image/png": "[encoded data removed]",
      "text/plain": [
       "<Figure size 640x480 with 1 Axes>"
      ]
     },
     "metadata": {},
     "output_type": "display_data"
    }
   ],
   "source": [
    "plt.boxplot(df['Rating'])\n",
    "plt.title('Rating')\n",
    "plt.show()"
   ]
  },
  {
   "cell_type": "code",
   "execution_count": 36,
   "id": "da0cef3a-f9ef-43fa-ac7a-381ef1fe525e",
   "metadata": {
    "tags": []
   },
   "outputs": [
    {
     "data": {
      "image/png": "[encoded data removed]",
      "text/plain": [
       "<Figure size 640x480 with 1 Axes>"
      ]
     },
     "metadata": {},
     "output_type": "display_data"
    }
   ],
   "source": [
    "plt.boxplot(df['Equipment'])\n",
    "plt.title('Equipment')\n",
    "plt.show()"
   ]
  },
  {
   "cell_type": "code",
   "execution_count": 37,
   "id": "cc69b845-f84c-487c-93d0-b5f2362d5514",
   "metadata": {
    "tags": []
   },
   "outputs": [
    {
     "name": "stdout",
     "output_type": "stream",
     "text": [
      "Количество записей 7: 559\n",
      "Количество записей 8: 430\n",
      "Количество записей 9: 257\n",
      "Количество записей 10: 232\n",
      "Количество записей 11: 29\n",
      "Количество записей 12: 0\n"
     ]
    }
   ],
   "source": [
    "for i in range(7, 13, 1):\n",
    "    print(f\"Количество записей {i}: {len(df[df['Equipment'] > i])}\")"
   ]
  },
  {
   "cell_type": "code",
   "execution_count": 38,
   "id": "4c9c3982-570c-4db8-9e53-ff9ff7b09611",
   "metadata": {
    "tags": []
   },
   "outputs": [],
   "source": [
    "df.drop(index=df[df['Equipment'] > 9].index, inplace=True)"
   ]
  },
  {
   "cell_type": "code",
   "execution_count": 39,
   "id": "a4db4a62-b978-44bc-9514-8dc8ade7c550",
   "metadata": {
    "tags": []
   },
   "outputs": [
    {
     "data": {
      "image/png": "[encoded data removed]",
      "text/plain": [
       "<Figure size 640x480 with 1 Axes>"
      ]
     },
     "metadata": {},
     "output_type": "display_data"
    }
   ],
   "source": [
    "plt.boxplot(df['Equipment'])\n",
    "plt.title('Equipment')\n",
    "plt.show()"
   ]
  },
  {
   "cell_type": "code",
   "execution_count": 40,
   "id": "85f14343-a51c-4be4-989c-8fa0d51814c5",
   "metadata": {
    "tags": []
   },
   "outputs": [
    {
     "data": {
      "image/png": "[encoded data removed]",
      "text/plain": [
       "<Figure size 640x480 with 1 Axes>"
      ]
     },
     "metadata": {},
     "output_type": "display_data"
    }
   ],
   "source": [
    "plt.boxplot(df['Type'])\n",
    "plt.title('Type')\n",
    "plt.show()"
   ]
  },
  {
   "cell_type": "code",
   "execution_count": 41,
   "id": "34aaf5ae-44c5-48bc-b008-83018b7ac18e",
   "metadata": {
    "tags": []
   },
   "outputs": [
    {
     "name": "stdout",
     "output_type": "stream",
     "text": [
      "Количество записей:42\n"
     ]
    }
   ],
   "source": [
    "print(f\"Количество записей:{len( df [ df['Type'] < 2 ])}\")"
   ]
  },
  {
   "cell_type": "code",
   "execution_count": 42,
   "id": "36702aab-3f92-47c2-9e9b-36b6615da57d",
   "metadata": {
    "tags": []
   },
   "outputs": [],
   "source": [
    "df.drop(index=df[df['Type'] < 2].index, inplace=True)"
   ]
  },
  {
   "cell_type": "code",
   "execution_count": 43,
   "id": "13878352-67a8-4828-8481-6ab438ff7756",
   "metadata": {
    "tags": []
   },
   "outputs": [
    {
     "data": {
      "image/png": "[encoded data removed]",
      "text/plain": [
       "<Figure size 640x480 with 1 Axes>"
      ]
     },
     "metadata": {},
     "output_type": "display_data"
    }
   ],
   "source": [
    "plt.boxplot(df['Type'])\n",
    "plt.title('Type')\n",
    "plt.show()"
   ]
  },
  {
   "cell_type": "code",
   "execution_count": 44,
   "id": "f3c7fcd1-3b86-44b3-a261-8200dcb14b27",
   "metadata": {
    "tags": []
   },
   "outputs": [
    {
     "data": {
      "image/png": "[encoded data removed]",
      "text/plain": [
       "<Figure size 640x480 with 1 Axes>"
      ]
     },
     "metadata": {},
     "output_type": "display_data"
    },
    {
     "data": {
      "image/png": "[encoded data removed]",
      "text/plain": [
       "<Figure size 640x480 with 1 Axes>"
      ]
     },
     "metadata": {},
     "output_type": "display_data"
    },
    {
     "data": {
      "image/png": "[encoded data removed]",
      "text/plain": [
       "<Figure size 640x480 with 1 Axes>"
      ]
     },
     "metadata": {},
     "output_type": "display_data"
    },
    {
     "data": {
      "image/png": "[encoded data removed]",
      "text/plain": [
       "<Figure size 640x480 with 1 Axes>"
      ]
     },
     "metadata": {},
     "output_type": "display_data"
    },
    {
     "data": {
      "image/png": "[encoded data removed]",
      "text/plain": [
       "<Figure size 640x480 with 1 Axes>"
      ]
     },
     "metadata": {},
     "output_type": "display_data"
    },
    {
     "data": {
      "image/png": "[encoded data removed]",
      "text/plain": [
       "<Figure size 640x480 with 1 Axes>"
      ]
     },
     "metadata": {},
     "output_type": "display_data"
    },
    {
     "data": {
      "image/png": "[encoded data removed]",
      "text/plain": [
       "<Figure size 640x480 with 1 Axes>"
      ]
     },
     "metadata": {},
     "output_type": "display_data"
    }
   ],
   "source": [
    "dataCheck = df.describe()\n",
    "\n",
    "for i in dataCheck.columns:\n",
    "  plt.boxplot(df[i])\n",
    "  plt.title(i)\n",
    "  plt.show()"
   ]
  },
  {
   "cell_type": "code",
   "execution_count": 45,
   "id": "cd31f75e-4cd4-4490-b4cb-cfd288435e7d",
   "metadata": {
    "tags": []
   },
   "outputs": [
    {
     "data": {
      "text/plain": [
       "<Axes: >"
      ]
     },
     "execution_count": 45,
     "metadata": {},
     "output_type": "execute_result"
    },
    {
     "data": {
      "image/png": "[encoded data removed]",
      "text/plain": [
       "<Figure size 640x480 with 1 Axes>"
      ]
     },
     "metadata": {},
     "output_type": "display_data"
    }
   ],
   "source": [
    "df['Rating'].hist(bins=30)"
   ]
  },
  {
   "cell_type": "markdown",
   "id": "00e1bac1-119b-41e0-9e69-b53e2e64084c",
   "metadata": {},
   "source": [
    "Данные распределенны не равномерно наблюдается дисбаланс"
   ]
  },
  {
   "cell_type": "code",
   "execution_count": 46,
   "id": "fd2a9301-04bb-4cfb-b30d-ddb1505b8201",
   "metadata": {
    "tags": []
   },
   "outputs": [],
   "source": [
    "from sklearn.model_selection import train_test_split\n",
    "\n",
    "X = df.drop(['Rating'], axis=1) # Всё кроме целевой переменной\n",
    "y = df['Rating'] # Целевая переменная\n",
    "\n",
    "X_train, X_test, y_train, y_test = train_test_split(X, y, test_size=0.2, random_state=42) # Разбиение на наборы"
   ]
  },
  {
   "cell_type": "code",
   "execution_count": 47,
   "id": "94acac69-94dd-49b9-ba86-cd92b92d1bea",
   "metadata": {
    "tags": []
   },
   "outputs": [
    {
     "data": {
      "text/plain": [
       "Rating\n",
       "5.91969    0.732911\n",
       "8.80000    0.018987\n",
       "8.30000    0.018143\n",
       "8.70000    0.016878\n",
       "9.00000    0.015612\n",
       "             ...   \n",
       "6.60000    0.000422\n",
       "3.90000    0.000422\n",
       "3.10000    0.000422\n",
       "3.50000    0.000422\n",
       "5.90000    0.000422\n",
       "Name: proportion, Length: 69, dtype: float64"
      ]
     },
     "execution_count": 47,
     "metadata": {},
     "output_type": "execute_result"
    }
   ],
   "source": [
    "y.value_counts(normalize=True)"
   ]
  },
  {
   "cell_type": "code",
   "execution_count": 48,
   "id": "d602cbb0-298a-4148-a9e7-041875b148f0",
   "metadata": {
    "tags": []
   },
   "outputs": [
    {
     "data": {
      "text/plain": [
       "Rating\n",
       "5.91969    0.729430\n",
       "8.70000    0.018460\n",
       "8.80000    0.018460\n",
       "8.30000    0.017405\n",
       "8.20000    0.015823\n",
       "             ...   \n",
       "6.80000    0.000527\n",
       "2.80000    0.000527\n",
       "3.10000    0.000527\n",
       "5.60000    0.000527\n",
       "3.40000    0.000527\n",
       "Name: proportion, Length: 68, dtype: float64"
      ]
     },
     "execution_count": 48,
     "metadata": {},
     "output_type": "execute_result"
    }
   ],
   "source": [
    "y_train.value_counts(normalize=True)"
   ]
  },
  {
   "cell_type": "code",
   "execution_count": 49,
   "id": "57535358-30dc-43e8-b23c-b34ed22d1fd4",
   "metadata": {
    "tags": []
   },
   "outputs": [
    {
     "data": {
      "text/plain": [
       "Rating\n",
       "5.91969    0.746835\n",
       "8.40000    0.021097\n",
       "9.00000    0.021097\n",
       "8.30000    0.021097\n",
       "8.80000    0.021097\n",
       "8.50000    0.016878\n",
       "8.00000    0.016878\n",
       "8.60000    0.014768\n",
       "9.10000    0.010549\n",
       "8.70000    0.010549\n",
       "8.90000    0.008439\n",
       "7.00000    0.008439\n",
       "7.30000    0.008439\n",
       "7.40000    0.006329\n",
       "7.50000    0.006329\n",
       "9.40000    0.004219\n",
       "7.20000    0.004219\n",
       "8.10000    0.004219\n",
       "8.20000    0.004219\n",
       "7.90000    0.004219\n",
       "7.80000    0.004219\n",
       "5.50000    0.004219\n",
       "9.20000    0.004219\n",
       "4.80000    0.004219\n",
       "3.30000    0.002110\n",
       "5.00000    0.002110\n",
       "5.40000    0.002110\n",
       "6.70000    0.002110\n",
       "9.50000    0.002110\n",
       "5.70000    0.002110\n",
       "9.60000    0.002110\n",
       "7.70000    0.002110\n",
       "3.80000    0.002110\n",
       "3.60000    0.002110\n",
       "7.60000    0.002110\n",
       "Name: proportion, dtype: float64"
      ]
     },
     "execution_count": 49,
     "metadata": {},
     "output_type": "execute_result"
    }
   ],
   "source": [
    "y_test.value_counts(normalize=True)"
   ]
  },
  {
   "cell_type": "code",
   "execution_count": 50,
   "id": "cd74a40c-62d0-46f4-830e-1b6c3c145889",
   "metadata": {
    "tags": []
   },
   "outputs": [],
   "source": [
    "from sklearn import metrics\n",
    "def mean_absolute_percentage_error(y_true, y_pred):\n",
    "    y_true, y_pred = np.array(y_true), np.array(y_pred)\n",
    "    return np.mean(np.abs((y_true - y_pred) / y_true)) * 100\n",
    "\n",
    "def print_metrics(y_test, y_pred):\n",
    "    print('MAE:', metrics.mean_absolute_error(np.exp(y_test), np.exp(y_pred)))\n",
    "    print('RMSE:', np.sqrt(metrics.mean_squared_error(np.exp(y_test), np.exp(y_pred))))\n",
    "    print('R2:',  metrics.r2_score(y_test, y_pred))\n",
    "    print('MAPE:', mean_absolute_percentage_error(y_test, y_pred))"
   ]
  },
  {
   "cell_type": "code",
   "execution_count": 51,
   "id": "58257f1b-351c-46e8-9332-5b3565689190",
   "metadata": {
    "tags": []
   },
   "outputs": [],
   "source": [
    "# from sklearn.preprocessing import StandardScaler\n",
    "\n",
    "# scaler = StandardScaler()\n",
    "\n",
    "# X_train = scaler.fit_transform(X_train)\n",
    "# X_test = scaler.fit_transform(X_test)"
   ]
  },
  {
   "cell_type": "code",
   "execution_count": 52,
   "id": "a2c63b24-2b00-4acd-abbf-391b3cb583d1",
   "metadata": {
    "tags": []
   },
   "outputs": [
    {
     "name": "stdout",
     "output_type": "stream",
     "text": [
      "MAE: 967.2817281634881\n",
      "RMSE: 2187.898908014131\n",
      "R2: 0.3502902739944197\n",
      "MAPE: 7.065382069143561\n"
     ]
    }
   ],
   "source": [
    "from sklearn.ensemble import RandomForestRegressor\n",
    "\n",
    "model = RandomForestRegressor(n_estimators=500, random_state=42)\n",
    "model.fit(X_train, y_train)\n",
    "\n",
    "# Делаем предсказания на тестовом наборе\n",
    "y_pred = model.predict(X_test)\n",
    "\n",
    "print_metrics(y_test, y_pred)"
   ]
  },
  {
   "cell_type": "code",
   "execution_count": 53,
   "id": "d8caa216-4ba6-4bf6-bb4b-3ab06a020bcf",
   "metadata": {
    "tags": []
   },
   "outputs": [
    {
     "name": "stdout",
     "output_type": "stream",
     "text": [
      "MAE: 1155.0740852251026\n",
      "RMSE: 2432.287731851815\n",
      "R2: 0.07939184039207736\n",
      "MAPE: 9.414022454610759\n"
     ]
    }
   ],
   "source": [
    "from sklearn.neighbors import KNeighborsRegressor\n",
    "\n",
    "# Создаем модель KNN\n",
    "knn_model = KNeighborsRegressor(n_neighbors=5)\n",
    "\n",
    "# Обучаем модель на тренировочных данных\n",
    "knn_model.fit(X_train, y_train)\n",
    "\n",
    "y_pred = knn_model.predict(X_test)\n",
    "\n",
    "print_metrics(y_test, y_pred)"
   ]
  },
  {
   "cell_type": "code",
   "execution_count": 54,
   "id": "9e90f1cb-0942-49e7-aaa1-0cc1dc8dd125",
   "metadata": {
    "tags": []
   },
   "outputs": [
    {
     "name": "stdout",
     "output_type": "stream",
     "text": [
      "MAE: 1082.9325770373584\n",
      "RMSE: 2423.8240861701574\n",
      "R2: 0.2940198967601445\n",
      "MAPE: 8.913834315053485\n"
     ]
    }
   ],
   "source": [
    "from sklearn.linear_model import LinearRegression\n",
    "\n",
    "# Объявили модель\n",
    "model_regression = LinearRegression()\n",
    "\n",
    "# Обучили модель на тренировочной выборке\n",
    "model_regression.fit(X_train, y_train)\n",
    "\n",
    "# Сделали прогнозы на тестовой выборке\n",
    "y_pred = model_regression.predict(X_test)\n",
    "\n",
    "print_metrics(y_test, y_pred)"
   ]
  },
  {
   "cell_type": "code",
   "execution_count": 55,
   "id": "be05181e-364e-4053-8ee1-67bbc1ae6778",
   "metadata": {
    "tags": []
   },
   "outputs": [
    {
     "name": "stdout",
     "output_type": "stream",
     "text": [
      "Лучшее значение параметра: 0.08658977250322154\n",
      "MAE: 1117.9722661978847\n",
      "RMSE: 2434.9339321321495\n",
      "R2: 0.22489301497957936\n",
      "MAPE: 9.727045836615515\n"
     ]
    }
   ],
   "source": [
    "from sklearn.linear_model import LassoCV\n",
    "\n",
    "lasso_cv = LassoCV(cv=5)\n",
    "lasso_cv.fit(X_train, y_train)\n",
    "print('Лучшее значение параметра:', lasso_cv.alpha_)\n",
    "\n",
    "# Сделали прогнозы\n",
    "y_pred = lasso_cv.predict(X_test)\n",
    "\n",
    "print_metrics(y_test,y_pred)"
   ]
  },
  {
   "cell_type": "code",
   "execution_count": null,
   "id": "c609418a-e6ac-4292-a0aa-7edb5ddfb83c",
   "metadata": {},
   "outputs": [],
   "source": []
  },
  {
   "cell_type": "code",
   "execution_count": null,
   "id": "52006849-f08d-4940-8ab6-3d7ca91f5544",
   "metadata": {},
   "outputs": [],
   "source": []
  },
  {
   "cell_type": "code",
   "execution_count": null,
   "id": "8512cc04-b685-465a-905d-ace958ad635e",
   "metadata": {},
   "outputs": [],
   "source": []
  }
 ],
 "metadata": {
  "kernelspec": {
   "display_name": "Python 3 (ipykernel)",
   "language": "python",
   "name": "python3"
  },
  "language_info": {
   "codemirror_mode": {
    "name": "ipython",
    "version": 3
   },
   "file_extension": ".py",
   "mimetype": "text/x-python",
   "name": "python",
   "nbconvert_exporter": "python",
   "pygments_lexer": "ipython3",
   "version": "3.11.5"
  }
 },
 "nbformat": 4,
 "nbformat_minor": 5
}
