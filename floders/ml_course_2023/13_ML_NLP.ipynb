{
 "cells": [
  {
   "cell_type": "code",
   "execution_count": null,
   "id": "16449c6f",
   "metadata": {},
   "outputs": [],
   "source": [
    "[srkjghwjhgiwr, gnbwrkjgbewihrgbf, gWJRIBOERB,   WRHGKBK, ETHNQEOGKU, edrgnkenr,  ergjnkegj]"
   ]
  },
  {
   "cell_type": "markdown",
   "id": "af1762db",
   "metadata": {},
   "source": [
    "# Занятие 13. Обработка естественного языка\n",
    "## Что такое NLP?\n",
    "**Обработка естественного языка** (NLP) – это технология машинного обучения, которая дает компьютерам возможность интерпретировать, манипулировать и понимать человеческий язык. Сегодня организации имеют большие объемы голосовых и текстовых данных из различных каналов связи, таких как электронные письма, текстовые сообщения, новостные ленты социальных сетей, видео, аудио и многое другое. Они используют программное обеспечение NLP для автоматической обработки этих данных, анализа намерений или настроений в сообщении и реагирования на человеческое общение в режиме реального времени.\n",
    "\n",
    "Обработка естественного языка имеет решающее значение для эффективного анализа текстовых и речевых данных. Таким образом можно преодолевать различия в диалектах, сленге и грамматических нарушениях, типичных для повседневных разговоров. Компании используют этот метод для нескольких автоматизированных задач, таких как:\n",
    "\n",
    "- Обработка, анализ и архивирование больших документов;\n",
    "- Анализ отзывов клиентов или записей колл-центра;\n",
    "- Запуск чат-ботов для автоматизированного обслуживания клиентов;\n",
    "- Ответы на вопросы «кто, что, когда и где»;\n",
    "- Классификация и извлечение текста.\n",
    "\n",
    "Вы также можете интегрировать NLP в приложения, ориентированные на клиента, чтобы более эффективно общаться с клиентами. Например, чат-бот анализирует и сортирует запросы клиентов, автоматически отвечая на распространенные вопросы и перенаправляя сложные запросы в службу поддержки. Эта автоматизация помогает снизить затраты, избавить агентов от необходимости тратить время на избыточные запросы и повышает удовлетворенность клиентов.\n",
    "\n",
    "## Как внедрять NLP?\n",
    "Как правило, процесс NLP начинается со сбора и подготовки неструктурированных текстовых или речевых данных из таких источников, как облачные хранилища данных, опросы, электронные письма или внутренние приложения бизнес-процессов.\n",
    "\n",
    "### Шаг 1. Предварительная обработка\n",
    "Программное обеспечение NLP использует методы предварительной обработки, такие как токенизация, стемминг, лемматизация и удаление стоп-слов для подготовки данных для различных приложений. \n",
    "\n",
    "* **Токенизация** — процесс разделения текста на составляющие (их называют «токенами»). Чаще всего текст разделяется на токены по словам или предложениям. В русском и английском языках в качестве индикаторов, по которым осуществляется разделение, используются:\n",
    "    * для слов $-$ пробел;\n",
    "    * для предложений $-$ точка, вопросительный или восклицательный знак.\n",
    "* **Стемминг** — процесс нахождения основы слова. Основа слова $-$ это часть слова без его окончания (вы такое на уроках русского языка выделяли), основа слова не всегда совпадает с его грамматическим корнем;\n",
    "* **Лемматизация** — процесс приведения слова к его нормальной форме. На уроках русского языка вам рассказывали, что нормальная форма для существительного — это слово в именительном падеже и единственном числе; для прилагательных нормальная форма тоже выглядит как слово в именительном падеже и единственном числе, но добавляется ещё род — он должен быть мужской. Нормальная форма глагола — его начальная форма, инфинитив. Задача лемматизации сложнее стемминга и выполняется после него.\n",
    "* **Стоп-слова** — это слова, которые выкидываются из текста до/после обработки текста. Когда мы применяем машинное обучение к текстам, такие слова могут добавить много шума, поэтому необходимо избавляться от нерелевантных слов. Под стоп-словами обычно понимают артикли, междометия, союзы и т.д., которые не несут смысловой нагрузки. При этом надо понимать, что не существует универсального списка стоп-слов, все зависит от конкретного случая.\n",
    "\n",
    "### Шаг 2. Выделение новых признаков из текста\n",
    "Вы уже знаете, что алгоритмы машинного обучения не могут напрямую работать с сырым текстом, поэтому необходимо конвертировать текст в наборы цифр (векторы). Это называется извлечением признаков.\n",
    "Есть, как минимум, три подхода к преобразованию текста в числовой формат:\n",
    "- мешок слов;\n",
    "- токенизация;\n",
    "- замена слов частотами их встречаемости."
   ]
  },
  {
   "cell_type": "markdown",
   "id": "0c8f9fb7",
   "metadata": {},
   "source": [
    "#### Мешок слов (bag of words)\n",
    "Наиболее интуитивно понятный способ сделать это $-$ использовать представление в виде набора слов:\n",
    "\n",
    "1. Присвойте фиксированный целочисленный идентификатор каждому слову, встречающемуся в любом документе обучающего набора (например, путем построения словаря из слов с целочисленными индексами, как у вас было в задании с обнаружением злоумышленника).\n",
    "\n",
    "2. Далее для каждого документа `i` подсчитайте количество вхождений каждого слова `w` и сохраните его в матрицу `X[i, j]` как значение признака `j`, где `j` $-$ индекс слова `w` в словаре.\n",
    "\n",
    "Представление в виде мешка слов подразумевает, что `n_features` $-$ это количество отдельных слов в корпусе: обычно это число превышает 100 000.\n",
    "\n",
    "Если `n_samples == 10000`, то для хранения `X` в виде массива NumPy типа `float32` потребуется $10000\\ *\\ 100000\\ * 4\\ байта\\ =\\ 4\\ ГБ$ оперативной памяти, что едва ли возможно на современных компьютерах.\n",
    "\n",
    "К счастью, большинство значений в `X` будут равны нулю, поскольку для данного документа будет использоваться менее нескольких тысяч отдельных слов. По этой причине мы говорим, что пакеты слов обычно представляют собой многомерные разреженные наборы данных. Мы можем сэкономить много памяти, сохраняя в памяти только ненулевые части векторов признаков.\n",
    "\n",
    "Матрицы из модуля `scipy.sparse` $-$ это структуры данных, которые делают именно это, и scikit-learn имеет встроенную поддержку этих структур."
   ]
  },
  {
   "cell_type": "markdown",
   "id": "4091b3fa",
   "metadata": {},
   "source": [
    "#### Токенизация текста\n",
    "Предварительная обработка текста, маркировка и фильтрация стоп-слов - все это включено в CountVectorizer, который создает словарь объектов и преобразует документы в векторы объектов:"
   ]
  },
  {
   "cell_type": "code",
   "execution_count": null,
   "id": "ed171b7e",
   "metadata": {},
   "outputs": [],
   "source": [
    "from sklearn.feature_extraction.text import CountVectorizer\n",
    "сount_vect = CountVectorizer()\n",
    "X_train_counts = count_vect.fit_transform(twenty_train.data)\n",
    "X_train_counts.shape"
   ]
  },
  {
   "cell_type": "markdown",
   "id": "53a1986e",
   "metadata": {},
   "source": [
    "#### TF-IDF\n",
    "Подсчёт встречаемости слова в тексте $-$ хорошее начало, но есть проблема: более длинные документы будут иметь более высокие средние значения количества встречаемости, чем более короткие документы, даже если в них могут обсуждаться одни и те же темы.\n",
    "\n",
    "Чтобы избежать этих потенциальных расхождений, достаточно разделить количество вхождений каждого слова в документе на общее количество слов в документе: эти новые признаки называются `tf` для **частотности терминов (term frequencies)**.\n",
    "\n",
    "Еще одним усовершенствованием в дополнение к tf является уменьшение весовых коэффициентов для слов, которые встречаются во многих документах корпуса и, следовательно, менее информативны, чем те, которые встречаются только в меньшей части корпуса. Это уменьшение масштаба называется `tf–idf`, что означает “Частота термина, умноженная на обратную частоту документа” (“Term Frequency times Inverse Document Frequency”)."
   ]
  },
  {
   "cell_type": "code",
   "execution_count": null,
   "id": "a73fc258",
   "metadata": {},
   "outputs": [],
   "source": [
    "from sklearn.feature_extraction.text import TfidfTransformer\n",
    "tfidf_transformer = TfidfTransformer()\n",
    "X_train_tfidf = tfidf_transformer.fit_transform(X_train_counts)\n",
    "X_train_tfidf.shape"
   ]
  },
  {
   "cell_type": "markdown",
   "id": "748385ab",
   "metadata": {},
   "source": [
    "### Шаг 3. Обучение\n",
    "Исследователи используют предварительно обработанные данные для обучения моделей NLP с помощью машинного обучения для выполнения конкретных приложений на основе предоставленной текстовой информации. Обучение алгоритмов NLP требует предоставления программного обеспечения большими выборками данных для повышения их точности. "
   ]
  },
  {
   "cell_type": "markdown",
   "id": "b024e0a9",
   "metadata": {},
   "source": [
    "## Пример анализа текcтовых данных\n",
    "В качестве примера будем анализировать тексты СМС-сообщений и классифицировать их на два класса: спамовые сообщения и обычные."
   ]
  },
  {
   "cell_type": "markdown",
   "id": "fa4c4ce9",
   "metadata": {},
   "source": [
    "### Загрузка и знакомство с данными"
   ]
  },
  {
   "cell_type": "code",
   "execution_count": 1,
   "id": "07216a18",
   "metadata": {
    "scrolled": true
   },
   "outputs": [
    {
     "name": "stdout",
     "output_type": "stream",
     "text": [
      "NLTK Downloader\n",
      "---------------------------------------------------------------------------\n",
      "    d) Download   l) List    u) Update   c) Config   h) Help   q) Quit\n",
      "---------------------------------------------------------------------------\n",
      "Downloader> в\n",
      "Command 'в' unrecognized\n",
      "\n",
      "---------------------------------------------------------------------------\n",
      "    d) Download   l) List    u) Update   c) Config   h) Help   q) Quit\n",
      "---------------------------------------------------------------------------\n",
      "Downloader> d\n",
      "\n",
      "Download which package (l=list; x=cancel)?\n",
      "  Identifier> all\n"
     ]
    },
    {
     "name": "stderr",
     "output_type": "stream",
     "text": [
      "    Downloading collection 'all'\n",
      "       | \n",
      "       | Downloading package abc to\n",
      "       |     /home/agat.local/s.bulganin/nltk_data...\n",
      "       |   Package abc is already up-to-date!\n",
      "       | Downloading package alpino to\n",
      "       |     /home/agat.local/s.bulganin/nltk_data...\n",
      "       |   Package alpino is already up-to-date!\n",
      "       | Downloading package averaged_perceptron_tagger to\n",
      "       |     /home/agat.local/s.bulganin/nltk_data...\n",
      "       |   Package averaged_perceptron_tagger is already up-to-date!\n",
      "       | Downloading package averaged_perceptron_tagger_ru to\n",
      "       |     /home/agat.local/s.bulganin/nltk_data...\n",
      "       |   Package averaged_perceptron_tagger_ru is already up-to-\n",
      "       |       date!\n",
      "       | Downloading package basque_grammars to\n",
      "       |     /home/agat.local/s.bulganin/nltk_data...\n",
      "       |   Package basque_grammars is already up-to-date!\n",
      "       | Downloading package bcp47 to\n",
      "       |     /home/agat.local/s.bulganin/nltk_data...\n",
      "       |   Package bcp47 is already up-to-date!\n",
      "       | Downloading package biocreative_ppi to\n",
      "       |     /home/agat.local/s.bulganin/nltk_data...\n",
      "       |   Package biocreative_ppi is already up-to-date!\n",
      "       | Downloading package bllip_wsj_no_aux to\n",
      "       |     /home/agat.local/s.bulganin/nltk_data...\n",
      "       |   Package bllip_wsj_no_aux is already up-to-date!\n",
      "       | Downloading package book_grammars to\n",
      "       |     /home/agat.local/s.bulganin/nltk_data...\n",
      "       |   Package book_grammars is already up-to-date!\n",
      "       | Downloading package brown to\n",
      "       |     /home/agat.local/s.bulganin/nltk_data...\n",
      "       |   Package brown is already up-to-date!\n",
      "       | Downloading package brown_tei to\n",
      "       |     /home/agat.local/s.bulganin/nltk_data...\n",
      "       |   Package brown_tei is already up-to-date!\n",
      "       | Downloading package cess_cat to\n",
      "       |     /home/agat.local/s.bulganin/nltk_data...\n",
      "       |   Package cess_cat is already up-to-date!\n",
      "       | Downloading package cess_esp to\n",
      "       |     /home/agat.local/s.bulganin/nltk_data...\n",
      "       |   Package cess_esp is already up-to-date!\n",
      "       | Downloading package chat80 to\n",
      "       |     /home/agat.local/s.bulganin/nltk_data...\n",
      "       |   Package chat80 is already up-to-date!\n",
      "       | Downloading package city_database to\n",
      "       |     /home/agat.local/s.bulganin/nltk_data...\n",
      "       |   Package city_database is already up-to-date!\n",
      "       | Downloading package cmudict to\n",
      "       |     /home/agat.local/s.bulganin/nltk_data...\n",
      "       |   Package cmudict is already up-to-date!\n",
      "       | Downloading package comparative_sentences to\n",
      "       |     /home/agat.local/s.bulganin/nltk_data...\n",
      "       |   Package comparative_sentences is already up-to-date!\n",
      "       | Downloading package comtrans to\n",
      "       |     /home/agat.local/s.bulganin/nltk_data...\n",
      "       |   Package comtrans is already up-to-date!\n",
      "       | Downloading package conll2000 to\n",
      "       |     /home/agat.local/s.bulganin/nltk_data...\n",
      "       |   Package conll2000 is already up-to-date!\n",
      "       | Downloading package conll2002 to\n",
      "       |     /home/agat.local/s.bulganin/nltk_data...\n",
      "       |   Package conll2002 is already up-to-date!\n",
      "       | Downloading package conll2007 to\n",
      "       |     /home/agat.local/s.bulganin/nltk_data...\n",
      "       |   Package conll2007 is already up-to-date!\n",
      "       | Downloading package crubadan to\n",
      "       |     /home/agat.local/s.bulganin/nltk_data...\n",
      "       |   Package crubadan is already up-to-date!\n",
      "       | Downloading package dependency_treebank to\n",
      "       |     /home/agat.local/s.bulganin/nltk_data...\n",
      "       |   Package dependency_treebank is already up-to-date!\n",
      "       | Downloading package dolch to\n",
      "       |     /home/agat.local/s.bulganin/nltk_data...\n",
      "       |   Package dolch is already up-to-date!\n",
      "       | Downloading package europarl_raw to\n",
      "       |     /home/agat.local/s.bulganin/nltk_data...\n",
      "       |   Package europarl_raw is already up-to-date!\n",
      "       | Downloading package extended_omw to\n",
      "       |     /home/agat.local/s.bulganin/nltk_data...\n",
      "       |   Package extended_omw is already up-to-date!\n",
      "       | Downloading package floresta to\n",
      "       |     /home/agat.local/s.bulganin/nltk_data...\n",
      "       |   Package floresta is already up-to-date!\n",
      "       | Downloading package framenet_v15 to\n",
      "       |     /home/agat.local/s.bulganin/nltk_data...\n",
      "       |   Package framenet_v15 is already up-to-date!\n",
      "       | Downloading package framenet_v17 to\n",
      "       |     /home/agat.local/s.bulganin/nltk_data...\n",
      "       |   Package framenet_v17 is already up-to-date!\n",
      "       | Downloading package gazetteers to\n",
      "       |     /home/agat.local/s.bulganin/nltk_data...\n",
      "       |   Package gazetteers is already up-to-date!\n",
      "       | Downloading package genesis to\n",
      "       |     /home/agat.local/s.bulganin/nltk_data...\n",
      "       |   Package genesis is already up-to-date!\n",
      "       | Downloading package gutenberg to\n",
      "       |     /home/agat.local/s.bulganin/nltk_data...\n",
      "       |   Package gutenberg is already up-to-date!\n",
      "       | Downloading package ieer to\n",
      "       |     /home/agat.local/s.bulganin/nltk_data...\n",
      "       |   Package ieer is already up-to-date!\n",
      "       | Downloading package inaugural to\n",
      "       |     /home/agat.local/s.bulganin/nltk_data...\n",
      "       |   Package inaugural is already up-to-date!\n",
      "       | Downloading package indian to\n",
      "       |     /home/agat.local/s.bulganin/nltk_data...\n",
      "       |   Package indian is already up-to-date!\n",
      "       | Downloading package jeita to\n",
      "       |     /home/agat.local/s.bulganin/nltk_data...\n",
      "       |   Package jeita is already up-to-date!\n",
      "       | Downloading package kimmo to\n",
      "       |     /home/agat.local/s.bulganin/nltk_data...\n",
      "       |   Package kimmo is already up-to-date!\n",
      "       | Downloading package knbc to\n",
      "       |     /home/agat.local/s.bulganin/nltk_data...\n",
      "       |   Package knbc is already up-to-date!\n",
      "       | Downloading package large_grammars to\n",
      "       |     /home/agat.local/s.bulganin/nltk_data...\n",
      "       |   Package large_grammars is already up-to-date!\n",
      "       | Downloading package lin_thesaurus to\n",
      "       |     /home/agat.local/s.bulganin/nltk_data...\n",
      "       |   Package lin_thesaurus is already up-to-date!\n",
      "       | Downloading package mac_morpho to\n",
      "       |     /home/agat.local/s.bulganin/nltk_data...\n",
      "       |   Package mac_morpho is already up-to-date!\n",
      "       | Downloading package machado to\n",
      "       |     /home/agat.local/s.bulganin/nltk_data...\n",
      "       |   Package machado is already up-to-date!\n",
      "       | Downloading package masc_tagged to\n",
      "       |     /home/agat.local/s.bulganin/nltk_data...\n",
      "       |   Package masc_tagged is already up-to-date!\n",
      "       | Downloading package maxent_ne_chunker to\n",
      "       |     /home/agat.local/s.bulganin/nltk_data...\n",
      "       |   Package maxent_ne_chunker is already up-to-date!\n",
      "       | Downloading package maxent_treebank_pos_tagger to\n",
      "       |     /home/agat.local/s.bulganin/nltk_data...\n",
      "       |   Package maxent_treebank_pos_tagger is already up-to-date!\n",
      "       | Downloading package moses_sample to\n",
      "       |     /home/agat.local/s.bulganin/nltk_data...\n",
      "       |   Package moses_sample is already up-to-date!\n",
      "       | Downloading package movie_reviews to\n",
      "       |     /home/agat.local/s.bulganin/nltk_data...\n",
      "       |   Package movie_reviews is already up-to-date!\n",
      "       | Downloading package mte_teip5 to\n",
      "       |     /home/agat.local/s.bulganin/nltk_data...\n",
      "       |   Package mte_teip5 is already up-to-date!\n",
      "       | Downloading package mwa_ppdb to\n",
      "       |     /home/agat.local/s.bulganin/nltk_data...\n",
      "       |   Package mwa_ppdb is already up-to-date!\n",
      "       | Downloading package names to\n",
      "       |     /home/agat.local/s.bulganin/nltk_data...\n",
      "       |   Package names is already up-to-date!\n",
      "       | Downloading package nombank.1.0 to\n",
      "       |     /home/agat.local/s.bulganin/nltk_data...\n",
      "       |   Package nombank.1.0 is already up-to-date!\n",
      "       | Downloading package nonbreaking_prefixes to\n",
      "       |     /home/agat.local/s.bulganin/nltk_data...\n",
      "       |   Package nonbreaking_prefixes is already up-to-date!\n",
      "       | Downloading package nps_chat to\n",
      "       |     /home/agat.local/s.bulganin/nltk_data...\n",
      "       |   Package nps_chat is already up-to-date!\n",
      "       | Downloading package omw to\n",
      "       |     /home/agat.local/s.bulganin/nltk_data...\n",
      "       |   Package omw is already up-to-date!\n",
      "       | Downloading package omw-1.4 to\n",
      "       |     /home/agat.local/s.bulganin/nltk_data...\n",
      "       |   Package omw-1.4 is already up-to-date!\n",
      "       | Downloading package opinion_lexicon to\n",
      "       |     /home/agat.local/s.bulganin/nltk_data...\n",
      "       |   Package opinion_lexicon is already up-to-date!\n",
      "       | Downloading package panlex_swadesh to\n",
      "       |     /home/agat.local/s.bulganin/nltk_data...\n",
      "       |   Package panlex_swadesh is already up-to-date!\n",
      "       | Downloading package paradigms to\n",
      "       |     /home/agat.local/s.bulganin/nltk_data...\n",
      "       |   Package paradigms is already up-to-date!\n",
      "       | Downloading package pe08 to\n",
      "       |     /home/agat.local/s.bulganin/nltk_data...\n",
      "       |   Package pe08 is already up-to-date!\n",
      "       | Downloading package perluniprops to\n",
      "       |     /home/agat.local/s.bulganin/nltk_data...\n",
      "       |   Package perluniprops is already up-to-date!\n",
      "       | Downloading package pil to\n",
      "       |     /home/agat.local/s.bulganin/nltk_data...\n",
      "       |   Package pil is already up-to-date!\n",
      "       | Downloading package pl196x to\n",
      "       |     /home/agat.local/s.bulganin/nltk_data...\n",
      "       |   Package pl196x is already up-to-date!\n",
      "       | Downloading package porter_test to\n",
      "       |     /home/agat.local/s.bulganin/nltk_data...\n",
      "       |   Package porter_test is already up-to-date!\n",
      "       | Downloading package ppattach to\n",
      "       |     /home/agat.local/s.bulganin/nltk_data...\n",
      "       |   Package ppattach is already up-to-date!\n",
      "       | Downloading package problem_reports to\n",
      "       |     /home/agat.local/s.bulganin/nltk_data...\n",
      "       |   Package problem_reports is already up-to-date!\n",
      "       | Downloading package product_reviews_1 to\n",
      "       |     /home/agat.local/s.bulganin/nltk_data...\n",
      "       |   Package product_reviews_1 is already up-to-date!\n",
      "       | Downloading package product_reviews_2 to\n",
      "       |     /home/agat.local/s.bulganin/nltk_data...\n",
      "       |   Package product_reviews_2 is already up-to-date!\n",
      "       | Downloading package propbank to\n",
      "       |     /home/agat.local/s.bulganin/nltk_data...\n",
      "       |   Package propbank is already up-to-date!\n",
      "       | Downloading package pros_cons to\n",
      "       |     /home/agat.local/s.bulganin/nltk_data...\n",
      "       |   Package pros_cons is already up-to-date!\n",
      "       | Downloading package ptb to\n",
      "       |     /home/agat.local/s.bulganin/nltk_data...\n",
      "       |   Package ptb is already up-to-date!\n",
      "       | Downloading package punkt to\n",
      "       |     /home/agat.local/s.bulganin/nltk_data...\n",
      "       |   Package punkt is already up-to-date!\n",
      "       | Downloading package qc to\n",
      "       |     /home/agat.local/s.bulganin/nltk_data...\n",
      "       |   Package qc is already up-to-date!\n",
      "       | Downloading package reuters to\n",
      "       |     /home/agat.local/s.bulganin/nltk_data...\n",
      "       |   Package reuters is already up-to-date!\n",
      "       | Downloading package rslp to\n",
      "       |     /home/agat.local/s.bulganin/nltk_data...\n",
      "       |   Package rslp is already up-to-date!\n",
      "       | Downloading package rte to\n",
      "       |     /home/agat.local/s.bulganin/nltk_data...\n",
      "       |   Package rte is already up-to-date!\n",
      "       | Downloading package sample_grammars to\n",
      "       |     /home/agat.local/s.bulganin/nltk_data...\n",
      "       |   Package sample_grammars is already up-to-date!\n",
      "       | Downloading package semcor to\n",
      "       |     /home/agat.local/s.bulganin/nltk_data...\n",
      "       |   Package semcor is already up-to-date!\n",
      "       | Downloading package senseval to\n",
      "       |     /home/agat.local/s.bulganin/nltk_data...\n",
      "       |   Package senseval is already up-to-date!\n",
      "       | Downloading package sentence_polarity to\n",
      "       |     /home/agat.local/s.bulganin/nltk_data...\n",
      "       |   Package sentence_polarity is already up-to-date!\n",
      "       | Downloading package sentiwordnet to\n",
      "       |     /home/agat.local/s.bulganin/nltk_data...\n"
     ]
    },
    {
     "name": "stderr",
     "output_type": "stream",
     "text": [
      "       |   Package sentiwordnet is already up-to-date!\n",
      "       | Downloading package shakespeare to\n",
      "       |     /home/agat.local/s.bulganin/nltk_data...\n",
      "       |   Package shakespeare is already up-to-date!\n",
      "       | Downloading package sinica_treebank to\n",
      "       |     /home/agat.local/s.bulganin/nltk_data...\n",
      "       |   Package sinica_treebank is already up-to-date!\n",
      "       | Downloading package smultron to\n",
      "       |     /home/agat.local/s.bulganin/nltk_data...\n",
      "       |   Package smultron is already up-to-date!\n",
      "       | Downloading package snowball_data to\n",
      "       |     /home/agat.local/s.bulganin/nltk_data...\n",
      "       |   Package snowball_data is already up-to-date!\n",
      "       | Downloading package spanish_grammars to\n",
      "       |     /home/agat.local/s.bulganin/nltk_data...\n",
      "       |   Package spanish_grammars is already up-to-date!\n",
      "       | Downloading package state_union to\n",
      "       |     /home/agat.local/s.bulganin/nltk_data...\n",
      "       |   Package state_union is already up-to-date!\n",
      "       | Downloading package stopwords to\n",
      "       |     /home/agat.local/s.bulganin/nltk_data...\n",
      "       |   Package stopwords is already up-to-date!\n",
      "       | Downloading package subjectivity to\n",
      "       |     /home/agat.local/s.bulganin/nltk_data...\n",
      "       |   Package subjectivity is already up-to-date!\n",
      "       | Downloading package swadesh to\n",
      "       |     /home/agat.local/s.bulganin/nltk_data...\n",
      "       |   Package swadesh is already up-to-date!\n",
      "       | Downloading package switchboard to\n",
      "       |     /home/agat.local/s.bulganin/nltk_data...\n",
      "       |   Package switchboard is already up-to-date!\n",
      "       | Downloading package tagsets to\n",
      "       |     /home/agat.local/s.bulganin/nltk_data...\n",
      "       |   Package tagsets is already up-to-date!\n",
      "       | Downloading package timit to\n",
      "       |     /home/agat.local/s.bulganin/nltk_data...\n",
      "       |   Package timit is already up-to-date!\n",
      "       | Downloading package toolbox to\n",
      "       |     /home/agat.local/s.bulganin/nltk_data...\n",
      "       |   Package toolbox is already up-to-date!\n",
      "       | Downloading package treebank to\n",
      "       |     /home/agat.local/s.bulganin/nltk_data...\n",
      "       |   Package treebank is already up-to-date!\n",
      "       | Downloading package twitter_samples to\n",
      "       |     /home/agat.local/s.bulganin/nltk_data...\n",
      "       |   Package twitter_samples is already up-to-date!\n",
      "       | Downloading package udhr to\n",
      "       |     /home/agat.local/s.bulganin/nltk_data...\n",
      "       |   Package udhr is already up-to-date!\n",
      "       | Downloading package udhr2 to\n",
      "       |     /home/agat.local/s.bulganin/nltk_data...\n",
      "       |   Package udhr2 is already up-to-date!\n",
      "       | Downloading package unicode_samples to\n",
      "       |     /home/agat.local/s.bulganin/nltk_data...\n",
      "       |   Package unicode_samples is already up-to-date!\n",
      "       | Downloading package universal_tagset to\n",
      "       |     /home/agat.local/s.bulganin/nltk_data...\n",
      "       |   Package universal_tagset is already up-to-date!\n",
      "       | Downloading package universal_treebanks_v20 to\n",
      "       |     /home/agat.local/s.bulganin/nltk_data...\n",
      "       |   Package universal_treebanks_v20 is already up-to-date!\n",
      "       | Downloading package vader_lexicon to\n",
      "       |     /home/agat.local/s.bulganin/nltk_data...\n",
      "       |   Package vader_lexicon is already up-to-date!\n",
      "       | Downloading package verbnet to\n",
      "       |     /home/agat.local/s.bulganin/nltk_data...\n",
      "       |   Package verbnet is already up-to-date!\n",
      "       | Downloading package verbnet3 to\n",
      "       |     /home/agat.local/s.bulganin/nltk_data...\n",
      "       |   Package verbnet3 is already up-to-date!\n",
      "       | Downloading package webtext to\n",
      "       |     /home/agat.local/s.bulganin/nltk_data...\n",
      "       |   Package webtext is already up-to-date!\n",
      "       | Downloading package wmt15_eval to\n",
      "       |     /home/agat.local/s.bulganin/nltk_data...\n",
      "       |   Package wmt15_eval is already up-to-date!\n",
      "       | Downloading package word2vec_sample to\n",
      "       |     /home/agat.local/s.bulganin/nltk_data...\n",
      "       |   Package word2vec_sample is already up-to-date!\n",
      "       | Downloading package wordnet to\n",
      "       |     /home/agat.local/s.bulganin/nltk_data...\n",
      "       |   Package wordnet is already up-to-date!\n",
      "       | Downloading package wordnet2021 to\n",
      "       |     /home/agat.local/s.bulganin/nltk_data...\n",
      "       |   Package wordnet2021 is already up-to-date!\n",
      "       | Downloading package wordnet2022 to\n",
      "       |     /home/agat.local/s.bulganin/nltk_data...\n",
      "       |   Package wordnet2022 is already up-to-date!\n",
      "       | Downloading package wordnet31 to\n",
      "       |     /home/agat.local/s.bulganin/nltk_data...\n",
      "       |   Package wordnet31 is already up-to-date!\n",
      "       | Downloading package wordnet_ic to\n",
      "       |     /home/agat.local/s.bulganin/nltk_data...\n",
      "       |   Package wordnet_ic is already up-to-date!\n",
      "       | Downloading package words to\n",
      "       |     /home/agat.local/s.bulganin/nltk_data...\n",
      "       |   Package words is already up-to-date!\n",
      "       | Downloading package ycoe to\n",
      "       |     /home/agat.local/s.bulganin/nltk_data...\n",
      "       |   Package ycoe is already up-to-date!\n",
      "       | \n",
      "     Done downloading collection all\n"
     ]
    },
    {
     "name": "stdout",
     "output_type": "stream",
     "text": [
      "\n",
      "---------------------------------------------------------------------------\n",
      "    d) Download   l) List    u) Update   c) Config   h) Help   q) Quit\n",
      "---------------------------------------------------------------------------\n",
      "Downloader> c\n",
      "\n",
      "Data Server:\n",
      "  - URL: <https://raw.githubusercontent.com/nltk/nltk_data/gh-pages/index.xml>\n",
      "  - 7 Package Collections Available\n",
      "  - 113 Individual Packages Available\n",
      "\n",
      "Local Machine:\n",
      "  - Data directory: /home/agat.local/s.bulganin/nltk_data\n",
      "\n",
      "---------------------------------------------------------------------------\n",
      "    s) Show Config   u) Set Server URL   d) Set Data Dir   m) Main Menu\n",
      "---------------------------------------------------------------------------\n",
      "Config> m\n",
      "\n",
      "---------------------------------------------------------------------------\n",
      "    d) Download   l) List    u) Update   c) Config   h) Help   q) Quit\n",
      "---------------------------------------------------------------------------\n",
      "Downloader> q\n"
     ]
    },
    {
     "data": {
      "text/plain": [
       "True"
      ]
     },
     "execution_count": 1,
     "metadata": {},
     "output_type": "execute_result"
    }
   ],
   "source": [
    "#!pip3 install nltk\n",
    "# модуль для работы с текстовыми данными\n",
    "import nltk\n",
    "nltk.download()"
   ]
  },
  {
   "cell_type": "code",
   "execution_count": 2,
   "id": "10427f82",
   "metadata": {},
   "outputs": [
    {
     "data": {
      "text/html": [
       "<div>\n",
       "<style scoped>\n",
       "    .dataframe tbody tr th:only-of-type {\n",
       "        vertical-align: middle;\n",
       "    }\n",
       "\n",
       "    .dataframe tbody tr th {\n",
       "        vertical-align: top;\n",
       "    }\n",
       "\n",
       "    .dataframe thead th {\n",
       "        text-align: right;\n",
       "    }\n",
       "</style>\n",
       "<table border=\"1\" class=\"dataframe\">\n",
       "  <thead>\n",
       "    <tr style=\"text-align: right;\">\n",
       "      <th></th>\n",
       "      <th>v1</th>\n",
       "      <th>v2</th>\n",
       "      <th>Unnamed: 2</th>\n",
       "      <th>Unnamed: 3</th>\n",
       "      <th>Unnamed: 4</th>\n",
       "    </tr>\n",
       "  </thead>\n",
       "  <tbody>\n",
       "    <tr>\n",
       "      <th>0</th>\n",
       "      <td>ham</td>\n",
       "      <td>Go until jurong point, crazy.. Available only ...</td>\n",
       "      <td>NaN</td>\n",
       "      <td>NaN</td>\n",
       "      <td>NaN</td>\n",
       "    </tr>\n",
       "    <tr>\n",
       "      <th>1</th>\n",
       "      <td>ham</td>\n",
       "      <td>Ok lar... Joking wif u oni...</td>\n",
       "      <td>NaN</td>\n",
       "      <td>NaN</td>\n",
       "      <td>NaN</td>\n",
       "    </tr>\n",
       "    <tr>\n",
       "      <th>2</th>\n",
       "      <td>spam</td>\n",
       "      <td>Free entry in 2 a wkly comp to win FA Cup fina...</td>\n",
       "      <td>NaN</td>\n",
       "      <td>NaN</td>\n",
       "      <td>NaN</td>\n",
       "    </tr>\n",
       "    <tr>\n",
       "      <th>3</th>\n",
       "      <td>ham</td>\n",
       "      <td>U dun say so early hor... U c already then say...</td>\n",
       "      <td>NaN</td>\n",
       "      <td>NaN</td>\n",
       "      <td>NaN</td>\n",
       "    </tr>\n",
       "    <tr>\n",
       "      <th>4</th>\n",
       "      <td>ham</td>\n",
       "      <td>Nah I don't think he goes to usf, he lives aro...</td>\n",
       "      <td>NaN</td>\n",
       "      <td>NaN</td>\n",
       "      <td>NaN</td>\n",
       "    </tr>\n",
       "  </tbody>\n",
       "</table>\n",
       "</div>"
      ],
      "text/plain": [
       "     v1                                                 v2 Unnamed: 2  \\\n",
       "0   ham  Go until jurong point, crazy.. Available only ...        NaN   \n",
       "1   ham                      Ok lar... Joking wif u oni...        NaN   \n",
       "2  spam  Free entry in 2 a wkly comp to win FA Cup fina...        NaN   \n",
       "3   ham  U dun say so early hor... U c already then say...        NaN   \n",
       "4   ham  Nah I don't think he goes to usf, he lives aro...        NaN   \n",
       "\n",
       "  Unnamed: 3 Unnamed: 4  \n",
       "0        NaN        NaN  \n",
       "1        NaN        NaN  \n",
       "2        NaN        NaN  \n",
       "3        NaN        NaN  \n",
       "4        NaN        NaN  "
      ]
     },
     "execution_count": 2,
     "metadata": {},
     "output_type": "execute_result"
    }
   ],
   "source": [
    "# подгрузка необходимых библиотек\n",
    "import pandas as pd\n",
    "import numpy as np\n",
    "import matplotlib.pyplot as plt\n",
    "\n",
    "# загрузим данные\n",
    "PATH_TO_DATA = \"data/archive/spam.csv\"\n",
    "data_all = pd.read_csv(PATH_TO_DATA, encoding = \"ISO-8859-1\")\n",
    "data_all.head(5)"
   ]
  },
  {
   "cell_type": "code",
   "execution_count": 3,
   "id": "4300e17a",
   "metadata": {},
   "outputs": [
    {
     "name": "stdout",
     "output_type": "stream",
     "text": [
      "<class 'pandas.core.frame.DataFrame'>\n",
      "RangeIndex: 5572 entries, 0 to 5571\n",
      "Data columns (total 5 columns):\n",
      " #   Column      Non-Null Count  Dtype \n",
      "---  ------      --------------  ----- \n",
      " 0   v1          5572 non-null   object\n",
      " 1   v2          5572 non-null   object\n",
      " 2   Unnamed: 2  50 non-null     object\n",
      " 3   Unnamed: 3  12 non-null     object\n",
      " 4   Unnamed: 4  6 non-null      object\n",
      "dtypes: object(5)\n",
      "memory usage: 217.8+ KB\n"
     ]
    }
   ],
   "source": [
    "# посмотрим информацию о данных\n",
    "data_all.info()"
   ]
  },
  {
   "cell_type": "code",
   "execution_count": 4,
   "id": "75ac9c8a",
   "metadata": {},
   "outputs": [
    {
     "name": "stdout",
     "output_type": "stream",
     "text": [
      "<class 'pandas.core.frame.DataFrame'>\n",
      "RangeIndex: 5572 entries, 0 to 5571\n",
      "Data columns (total 2 columns):\n",
      " #   Column  Non-Null Count  Dtype \n",
      "---  ------  --------------  ----- \n",
      " 0   v1      5572 non-null   object\n",
      " 1   v2      5572 non-null   object\n",
      "dtypes: object(2)\n",
      "memory usage: 87.2+ KB\n"
     ]
    }
   ],
   "source": [
    "# удалим столбцы с большим количеством пропусков\n",
    "data_all.drop(columns=['Unnamed: 2', 'Unnamed: 3', 'Unnamed: 4'], inplace=True)\n",
    "data_all.info()"
   ]
  },
  {
   "cell_type": "markdown",
   "id": "58b00aa5",
   "metadata": {},
   "source": [
    "Итак, перед нами всего два атрибута. `v1` $-$ целевой атрибут, содержащий в текстовом представлении метку сообщения; `v2` $-$ атрибут, содержащий в текстовом представлении СМС-сообщения. "
   ]
  },
  {
   "cell_type": "code",
   "execution_count": 5,
   "id": "6a849851",
   "metadata": {},
   "outputs": [
    {
     "data": {
      "text/html": [
       "<div>\n",
       "<style scoped>\n",
       "    .dataframe tbody tr th:only-of-type {\n",
       "        vertical-align: middle;\n",
       "    }\n",
       "\n",
       "    .dataframe tbody tr th {\n",
       "        vertical-align: top;\n",
       "    }\n",
       "\n",
       "    .dataframe thead tr th {\n",
       "        text-align: left;\n",
       "    }\n",
       "\n",
       "    .dataframe thead tr:last-of-type th {\n",
       "        text-align: right;\n",
       "    }\n",
       "</style>\n",
       "<table border=\"1\" class=\"dataframe\">\n",
       "  <thead>\n",
       "    <tr>\n",
       "      <th></th>\n",
       "      <th colspan=\"4\" halign=\"left\">v2</th>\n",
       "    </tr>\n",
       "    <tr>\n",
       "      <th></th>\n",
       "      <th>count</th>\n",
       "      <th>unique</th>\n",
       "      <th>top</th>\n",
       "      <th>freq</th>\n",
       "    </tr>\n",
       "    <tr>\n",
       "      <th>v1</th>\n",
       "      <th></th>\n",
       "      <th></th>\n",
       "      <th></th>\n",
       "      <th></th>\n",
       "    </tr>\n",
       "  </thead>\n",
       "  <tbody>\n",
       "    <tr>\n",
       "      <th>ham</th>\n",
       "      <td>4825</td>\n",
       "      <td>4516</td>\n",
       "      <td>Sorry, I'll call later</td>\n",
       "      <td>30</td>\n",
       "    </tr>\n",
       "    <tr>\n",
       "      <th>spam</th>\n",
       "      <td>747</td>\n",
       "      <td>653</td>\n",
       "      <td>Please call our customer service representativ...</td>\n",
       "      <td>4</td>\n",
       "    </tr>\n",
       "  </tbody>\n",
       "</table>\n",
       "</div>"
      ],
      "text/plain": [
       "        v2                                                               \n",
       "     count unique                                                top freq\n",
       "v1                                                                       \n",
       "ham   4825   4516                             Sorry, I'll call later   30\n",
       "spam   747    653  Please call our customer service representativ...    4"
      ]
     },
     "execution_count": 5,
     "metadata": {},
     "output_type": "execute_result"
    }
   ],
   "source": [
    "data_all.groupby(['v1']).describe()"
   ]
  },
  {
   "cell_type": "markdown",
   "id": "89c47899",
   "metadata": {},
   "source": [
    "Можем посмотреть, как выглядит самое частое спамовое сообщение. Возможно, мы не понимаем, из-за каких именно слов мы определяем это сообщение как спам, но разрабатываемая модель должна найти закономерность.\n",
    "\n",
    "Также обратим внимание, что выборка несбалансирована, спамовых сообщений гораздо меньше. В принципе, это можно свести к задаче поиска аномалий и использовать предварительно модель леса изолирующих деревьев."
   ]
  },
  {
   "cell_type": "code",
   "execution_count": 6,
   "id": "6cf2638a",
   "metadata": {},
   "outputs": [
    {
     "data": {
      "image/png": "[encoded data removed]",
      "text/plain": [
       "<Figure size 640x480 with 1 Axes>"
      ]
     },
     "metadata": {},
     "output_type": "display_data"
    }
   ],
   "source": [
    "data_all['v1'].hist(bins=10, color='purple');"
   ]
  },
  {
   "cell_type": "markdown",
   "id": "33754715",
   "metadata": {},
   "source": [
    "### Конструирование признаков\n",
    "Ещё до кодирования текста можно попробовать извлечь какие-нибудь признаки из данных, пусть их будет не очень много. Например, может ли длина текста СМС указывать на спам? Почему бы и нет?"
   ]
  },
  {
   "cell_type": "code",
   "execution_count": 7,
   "id": "4045a403",
   "metadata": {},
   "outputs": [
    {
     "data": {
      "image/png": "[encoded data removed]",
      "text/plain": [
       "<Figure size 640x480 with 1 Axes>"
      ]
     },
     "metadata": {},
     "output_type": "display_data"
    }
   ],
   "source": [
    "data_all['v3'] = data_all['v2'].apply(len)\n",
    "data_all['v3'].hist(bins=50, color='purple');"
   ]
  },
  {
   "cell_type": "markdown",
   "id": "87073b9d",
   "metadata": {},
   "source": [
    "Большая часть сообщений имеет длину до 200 символов. "
   ]
  },
  {
   "cell_type": "code",
   "execution_count": 8,
   "id": "dcaae405",
   "metadata": {},
   "outputs": [
    {
     "data": {
      "text/plain": [
       "v1    ham\n",
       "v2     Ok\n",
       "v3      2\n",
       "Name: 1924, dtype: object"
      ]
     },
     "execution_count": 8,
     "metadata": {},
     "output_type": "execute_result"
    }
   ],
   "source": [
    "data_all[data_all['v3'] == data_all['v3'].min()].iloc[0]"
   ]
  },
  {
   "cell_type": "code",
   "execution_count": 9,
   "id": "b214bb2f",
   "metadata": {},
   "outputs": [
    {
     "data": {
      "text/plain": [
       "v1                                                  ham\n",
       "v2    For me the love should start with attraction.i...\n",
       "v3                                                  910\n",
       "Name: 1084, dtype: object"
      ]
     },
     "execution_count": 9,
     "metadata": {},
     "output_type": "execute_result"
    }
   ],
   "source": [
    "data_all[data_all['v3'] == data_all['v3'].max()].iloc[0]"
   ]
  },
  {
   "cell_type": "markdown",
   "id": "7cf78723",
   "metadata": {},
   "source": [
    "Как видим, самое длинное сообщение $-$ сообщение, не содержащее спама.\n",
    "\n",
    "Попробуем визуально найти закономерность между распределением длины сообщения для каждого класса."
   ]
  },
  {
   "cell_type": "code",
   "execution_count": 10,
   "id": "cbf9a8a6",
   "metadata": {},
   "outputs": [
    {
     "data": {
      "image/png": "[encoded data removed]",
      "text/plain": [
       "<Figure size 640x480 with 2 Axes>"
      ]
     },
     "metadata": {},
     "output_type": "display_data"
    }
   ],
   "source": [
    "data_all.hist(column='v3', by='v1', color='purple', bins=50);"
   ]
  },
  {
   "cell_type": "markdown",
   "id": "830d0c28",
   "metadata": {},
   "source": [
    "Визуально можно увидеть, что длина спамового сообщения тяготеет к 150 символам, но не превышает 250 символов. Напротив, длина сообщений, которые не содержат спама, может быть длиннее 250 символов, но тяготеет к средней длине в 50 символов."
   ]
  },
  {
   "cell_type": "markdown",
   "id": "f8484537",
   "metadata": {},
   "source": [
    "### Предобработка текста"
   ]
  },
  {
   "cell_type": "code",
   "execution_count": 11,
   "id": "b1bc3c89",
   "metadata": {},
   "outputs": [
    {
     "data": {
      "text/plain": [
       "['himself',\n",
       " 'she',\n",
       " \"she's\",\n",
       " 'her',\n",
       " 'hers',\n",
       " 'herself',\n",
       " 'it',\n",
       " \"it's\",\n",
       " 'its',\n",
       " 'itself',\n",
       " 'they',\n",
       " 'them',\n",
       " 'their',\n",
       " 'theirs',\n",
       " 'themselves',\n",
       " 'what',\n",
       " 'which',\n",
       " 'who',\n",
       " 'whom',\n",
       " 'this']"
      ]
     },
     "execution_count": 11,
     "metadata": {},
     "output_type": "execute_result"
    }
   ],
   "source": [
    "from nltk.corpus import stopwords\n",
    "# что содержится в списке стоп-слов английского языка?\n",
    "stopwords.words('english')[20:40]"
   ]
  },
  {
   "cell_type": "code",
   "execution_count": 12,
   "id": "c997e3fc",
   "metadata": {},
   "outputs": [
    {
     "data": {
      "text/plain": [
       "179"
      ]
     },
     "execution_count": 12,
     "metadata": {},
     "output_type": "execute_result"
    }
   ],
   "source": [
    "# а сколько там всего стоп-слов?\n",
    "len(stopwords.words('english'))"
   ]
  },
  {
   "cell_type": "markdown",
   "id": "8dae8673",
   "metadata": {},
   "source": [
    "Эти стоп-слова нужно будет исключить из текста сообщений, помимо этого, необходимо избавить тексты от пунктуации."
   ]
  },
  {
   "cell_type": "code",
   "execution_count": 13,
   "id": "8114c29d",
   "metadata": {},
   "outputs": [
    {
     "data": {
      "text/plain": [
       "'!\"#$%&\\'()*+,-./:;<=>?@[\\\\]^_`{|}~'"
      ]
     },
     "execution_count": 13,
     "metadata": {},
     "output_type": "execute_result"
    }
   ],
   "source": [
    "import string\n",
    "string.punctuation"
   ]
  },
  {
   "cell_type": "code",
   "execution_count": 14,
   "id": "c2db5056",
   "metadata": {},
   "outputs": [],
   "source": [
    "def text_processing(text):\n",
    "    # удаление пунктуации\n",
    "    remove_punc = [c for c in text if c not in string.punctuation]\n",
    "    # склеим слова из списка в строку с пробелом в качестве разделителя\n",
    "    remove_punc = ''.join(remove_punc)\n",
    "    \n",
    "    # удалим стоп-слова \n",
    "    return [word for word in remove_punc.split(' ') if word not in stopwords.words('english')]"
   ]
  },
  {
   "cell_type": "markdown",
   "id": "a8116e2f",
   "metadata": {},
   "source": [
    "Теперь векторизуем наш текст. Используем токенизацию в качестве метода кодирования, указав в качестве функции, которая преобразует наш текст перед векторизацией, выше описанную функцию."
   ]
  },
  {
   "cell_type": "code",
   "execution_count": 15,
   "id": "261f4f80",
   "metadata": {},
   "outputs": [
    {
     "data": {
      "text/plain": [
       "(5572, 11498)"
      ]
     },
     "execution_count": 15,
     "metadata": {},
     "output_type": "execute_result"
    }
   ],
   "source": [
    "from sklearn.feature_extraction.text import CountVectorizer\n",
    "\n",
    "cv_transformer = CountVectorizer(analyzer=text_processing).fit(data_all['v2'])\n",
    "text_messages_bow = cv_transformer.transform(data_all['v2'])\n",
    "text_messages_bow.shape"
   ]
  },
  {
   "cell_type": "markdown",
   "id": "4ded383e",
   "metadata": {},
   "source": [
    "Мы получили мешок слов $-$ разряжённую матрицу, в которой у нас 11 498 слов (каждое слово $-$ отдельный признак). Мы даже можем посчитать, насколько наша матрица заполнена."
   ]
  },
  {
   "cell_type": "code",
   "execution_count": 16,
   "id": "c0003451",
   "metadata": {},
   "outputs": [
    {
     "data": {
      "text/plain": [
       "0.08847632541855964"
      ]
     },
     "execution_count": 16,
     "metadata": {},
     "output_type": "execute_result"
    }
   ],
   "source": [
    "text_messages_bow.nnz / (text_messages_bow.shape[0] * text_messages_bow.shape[1]) * 100"
   ]
  },
  {
   "cell_type": "markdown",
   "id": "f675841e",
   "metadata": {},
   "source": [
    "В получившейся матрице только 8.8% ненулевых значений, всё остальное содержимое матрицы мешка слов $-$ нули.\n",
    "\n",
    "Теперь мы можем преобразовать наш мешок слов в матрицу частот встречаемости слов, умноженных на обратные частоты встречаемости документов (tf-idf)."
   ]
  },
  {
   "cell_type": "code",
   "execution_count": 17,
   "id": "e20780d4",
   "metadata": {},
   "outputs": [
    {
     "data": {
      "text/plain": [
       "(5572, 11498)"
      ]
     },
     "execution_count": 17,
     "metadata": {},
     "output_type": "execute_result"
    }
   ],
   "source": [
    "from sklearn.feature_extraction.text import TfidfTransformer\n",
    "tf_transformer = TfidfTransformer().fit(text_messages_bow)\n",
    "text_tfidf = tf_transformer.transform(text_messages_bow)\n",
    "text_tfidf.shape"
   ]
  },
  {
   "cell_type": "markdown",
   "id": "bd70b28a",
   "metadata": {},
   "source": [
    "Зная частоты слов, модель сможет выявить закономерности их встречаемости для двух классов.\n",
    "\n",
    "Предобработаем целевой атрибут и объединим с получившейся матрицей."
   ]
  },
  {
   "cell_type": "code",
   "execution_count": 18,
   "id": "dbc40a64",
   "metadata": {},
   "outputs": [
    {
     "data": {
      "text/html": [
       "<div>\n",
       "<style scoped>\n",
       "    .dataframe tbody tr th:only-of-type {\n",
       "        vertical-align: middle;\n",
       "    }\n",
       "\n",
       "    .dataframe tbody tr th {\n",
       "        vertical-align: top;\n",
       "    }\n",
       "\n",
       "    .dataframe thead th {\n",
       "        text-align: right;\n",
       "    }\n",
       "</style>\n",
       "<table border=\"1\" class=\"dataframe\">\n",
       "  <thead>\n",
       "    <tr style=\"text-align: right;\">\n",
       "      <th></th>\n",
       "      <th>v1</th>\n",
       "      <th>v3</th>\n",
       "    </tr>\n",
       "  </thead>\n",
       "  <tbody>\n",
       "    <tr>\n",
       "      <th>0</th>\n",
       "      <td>0</td>\n",
       "      <td>111</td>\n",
       "    </tr>\n",
       "    <tr>\n",
       "      <th>1</th>\n",
       "      <td>0</td>\n",
       "      <td>29</td>\n",
       "    </tr>\n",
       "    <tr>\n",
       "      <th>2</th>\n",
       "      <td>1</td>\n",
       "      <td>155</td>\n",
       "    </tr>\n",
       "    <tr>\n",
       "      <th>3</th>\n",
       "      <td>0</td>\n",
       "      <td>49</td>\n",
       "    </tr>\n",
       "    <tr>\n",
       "      <th>4</th>\n",
       "      <td>0</td>\n",
       "      <td>61</td>\n",
       "    </tr>\n",
       "  </tbody>\n",
       "</table>\n",
       "</div>"
      ],
      "text/plain": [
       "   v1   v3\n",
       "0   0  111\n",
       "1   0   29\n",
       "2   1  155\n",
       "3   0   49\n",
       "4   0   61"
      ]
     },
     "execution_count": 18,
     "metadata": {},
     "output_type": "execute_result"
    }
   ],
   "source": [
    "data_all.drop(columns=['v2'], inplace=True)\n",
    "data_all['v1'] = data_all['v1'].apply(lambda x: 1 if x == 'spam' else 0)\n",
    "data_all.head(5)"
   ]
  },
  {
   "cell_type": "code",
   "execution_count": 19,
   "id": "5352f861",
   "metadata": {},
   "outputs": [],
   "source": [
    "# преобразуем в разряженную матрицу\n",
    "from scipy.sparse import hstack, csr_matrix\n",
    "from sklearn.preprocessing import MinMaxScaler \n",
    "\n",
    "data_scaled = MinMaxScaler().fit_transform(data_all[['v3']])\n",
    "lenth_csr_matrix = csr_matrix(data_scaled)\n",
    "sum_data = hstack((text_tfidf, lenth_csr_matrix))"
   ]
  },
  {
   "cell_type": "markdown",
   "id": "24ac1ada",
   "metadata": {},
   "source": [
    "Наши данные предобработаны и готовы для обучения модели.\n",
    "\n",
    "### Обучение\n",
    "Попробуем классическую модель машинного обучения, которая ещё на заре эпохи машинного обучения защищала пользователей электронной почты от спама. Это модель Наивного Байеса."
   ]
  },
  {
   "cell_type": "code",
   "execution_count": 20,
   "id": "0b331b2a",
   "metadata": {},
   "outputs": [],
   "source": [
    "# разделим данные\n",
    "from sklearn.model_selection import train_test_split\n",
    "X_train, X_test, y_train, y_test = train_test_split(sum_data, data_all['v1'], \n",
    "                                                    test_size=0.3, stratify=data_all['v1'])"
   ]
  },
  {
   "cell_type": "code",
   "execution_count": 21,
   "id": "5a7aea33",
   "metadata": {},
   "outputs": [
    {
     "data": {
      "text/html": [
       "<style>#sk-container-id-1 {color: black;background-color: white;}#sk-container-id-1 pre{padding: 0;}#sk-container-id-1 div.sk-toggleable {background-color: white;}#sk-container-id-1 label.sk-toggleable__label {cursor: pointer;display: block;width: 100%;margin-bottom: 0;padding: 0.3em;box-sizing: border-box;text-align: center;}#sk-container-id-1 label.sk-toggleable__label-arrow:before {content: \"▸\";float: left;margin-right: 0.25em;color: #696969;}#sk-container-id-1 label.sk-toggleable__label-arrow:hover:before {color: black;}#sk-container-id-1 div.sk-estimator:hover label.sk-toggleable__label-arrow:before {color: black;}#sk-container-id-1 div.sk-toggleable__content {max-height: 0;max-width: 0;overflow: hidden;text-align: left;background-color: #f0f8ff;}#sk-container-id-1 div.sk-toggleable__content pre {margin: 0.2em;color: black;border-radius: 0.25em;background-color: #f0f8ff;}#sk-container-id-1 input.sk-toggleable__control:checked~div.sk-toggleable__content {max-height: 200px;max-width: 100%;overflow: auto;}#sk-container-id-1 input.sk-toggleable__control:checked~label.sk-toggleable__label-arrow:before {content: \"▾\";}#sk-container-id-1 div.sk-estimator input.sk-toggleable__control:checked~label.sk-toggleable__label {background-color: #d4ebff;}#sk-container-id-1 div.sk-label input.sk-toggleable__control:checked~label.sk-toggleable__label {background-color: #d4ebff;}#sk-container-id-1 input.sk-hidden--visually {border: 0;clip: rect(1px 1px 1px 1px);clip: rect(1px, 1px, 1px, 1px);height: 1px;margin: -1px;overflow: hidden;padding: 0;position: absolute;width: 1px;}#sk-container-id-1 div.sk-estimator {font-family: monospace;background-color: #f0f8ff;border: 1px dotted black;border-radius: 0.25em;box-sizing: border-box;margin-bottom: 0.5em;}#sk-container-id-1 div.sk-estimator:hover {background-color: #d4ebff;}#sk-container-id-1 div.sk-parallel-item::after {content: \"\";width: 100%;border-bottom: 1px solid gray;flex-grow: 1;}#sk-container-id-1 div.sk-label:hover label.sk-toggleable__label {background-color: #d4ebff;}#sk-container-id-1 div.sk-serial::before {content: \"\";position: absolute;border-left: 1px solid gray;box-sizing: border-box;top: 0;bottom: 0;left: 50%;z-index: 0;}#sk-container-id-1 div.sk-serial {display: flex;flex-direction: column;align-items: center;background-color: white;padding-right: 0.2em;padding-left: 0.2em;position: relative;}#sk-container-id-1 div.sk-item {position: relative;z-index: 1;}#sk-container-id-1 div.sk-parallel {display: flex;align-items: stretch;justify-content: center;background-color: white;position: relative;}#sk-container-id-1 div.sk-item::before, #sk-container-id-1 div.sk-parallel-item::before {content: \"\";position: absolute;border-left: 1px solid gray;box-sizing: border-box;top: 0;bottom: 0;left: 50%;z-index: -1;}#sk-container-id-1 div.sk-parallel-item {display: flex;flex-direction: column;z-index: 1;position: relative;background-color: white;}#sk-container-id-1 div.sk-parallel-item:first-child::after {align-self: flex-end;width: 50%;}#sk-container-id-1 div.sk-parallel-item:last-child::after {align-self: flex-start;width: 50%;}#sk-container-id-1 div.sk-parallel-item:only-child::after {width: 0;}#sk-container-id-1 div.sk-dashed-wrapped {border: 1px dashed gray;margin: 0 0.4em 0.5em 0.4em;box-sizing: border-box;padding-bottom: 0.4em;background-color: white;}#sk-container-id-1 div.sk-label label {font-family: monospace;font-weight: bold;display: inline-block;line-height: 1.2em;}#sk-container-id-1 div.sk-label-container {text-align: center;}#sk-container-id-1 div.sk-container {/* jupyter's `normalize.less` sets `[hidden] { display: none; }` but bootstrap.min.css set `[hidden] { display: none !important; }` so we also need the `!important` here to be able to override the default hidden behavior on the sphinx rendered scikit-learn.org. See: https://github.com/scikit-learn/scikit-learn/issues/21755 */display: inline-block !important;position: relative;}#sk-container-id-1 div.sk-text-repr-fallback {display: none;}</style><div id=\"sk-container-id-1\" class=\"sk-top-container\"><div class=\"sk-text-repr-fallback\"><pre>MultinomialNB()</pre><b>In a Jupyter environment, please rerun this cell to show the HTML representation or trust the notebook. <br />On GitHub, the HTML representation is unable to render, please try loading this page with nbviewer.org.</b></div><div class=\"sk-container\" hidden><div class=\"sk-item\"><div class=\"sk-estimator sk-toggleable\"><input class=\"sk-toggleable__control sk-hidden--visually\" id=\"sk-estimator-id-1\" type=\"checkbox\" checked><label for=\"sk-estimator-id-1\" class=\"sk-toggleable__label sk-toggleable__label-arrow\">MultinomialNB</label><div class=\"sk-toggleable__content\"><pre>MultinomialNB()</pre></div></div></div></div></div>"
      ],
      "text/plain": [
       "MultinomialNB()"
      ]
     },
     "execution_count": 21,
     "metadata": {},
     "output_type": "execute_result"
    }
   ],
   "source": [
    "from sklearn.naive_bayes import MultinomialNB\n",
    "\n",
    "bayes = MultinomialNB()\n",
    "bayes.fit(X_train, y_train)"
   ]
  },
  {
   "cell_type": "code",
   "execution_count": 22,
   "id": "6a5165ea",
   "metadata": {},
   "outputs": [
    {
     "name": "stdout",
     "output_type": "stream",
     "text": [
      "              precision    recall  f1-score   support\n",
      "\n",
      "           0       1.00      0.95      0.98      1517\n",
      "           1       0.69      1.00      0.82       155\n",
      "\n",
      "    accuracy                           0.96      1672\n",
      "   macro avg       0.85      0.98      0.90      1672\n",
      "weighted avg       0.97      0.96      0.96      1672\n",
      "\n"
     ]
    }
   ],
   "source": [
    "from sklearn.metrics import classification_report\n",
    "print(classification_report(bayes.predict(X_test), y_test))"
   ]
  },
  {
   "cell_type": "markdown",
   "id": "91311cf0",
   "metadata": {},
   "source": [
    "Модель показывает хорошие результаты. Конечно, можно было бы выбрать наиболее сильные модели или поискать более оптимальные параметры для этой модели, однако этот пример был приведён в учебных целях. На реальных данных, конечно, нужно применять приёмы оптимизации модели."
   ]
  }
 ],
 "metadata": {
  "kernelspec": {
   "display_name": "Python 3 (ipykernel)",
   "language": "python",
   "name": "python3"
  },
  "language_info": {
   "codemirror_mode": {
    "name": "ipython",
    "version": 3
   },
   "file_extension": ".py",
   "mimetype": "text/x-python",
   "name": "python",
   "nbconvert_exporter": "python",
   "pygments_lexer": "ipython3",
   "version": "3.9.2"
  }
 },
 "nbformat": 4,
 "nbformat_minor": 5
}
