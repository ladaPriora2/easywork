{
 "cells": [
  {
   "cell_type": "markdown",
   "id": "852fca95",
   "metadata": {},
   "source": [
    "# Занятие 3. Библиотеки numpy и pandas\n",
    "## Введение\n",
    "\n",
    "<i>Библиотека NumPy</i> (Numerical Python), впервые появившаяся в 2006 году, считается основной реализацией массивов Python. Она предоставляет высокопроизводительный, полнофункциональный тип n-мерного массива, который называется <b>ndarray</b> (в дальнейшем мы будем называть его синонимом <b>array</b>). <br> \n",
    "NumPy — одна из многих библиотек с открытым кодом, устанавливаемых в дистрибутиве Anaconda Python. Операции с array выполняются на два порядка быстрее, чем операции со списками. В мире больших данных, в которых приложениям приходится выполнять серьезную обработку огромных объёмов данных на базе массивов, этот прирост быстродействия может оказаться критичным. Согласно libraries.io, свыше 450 библиотек Python зависят от NumPy. Многие популярные библиотеки data science, такие как pandas, SciPy \n",
    "(Scientific Python) и Keras (глубокое обучение), построены на базе NumPy или зависят от последней. <br>\n",
    "В этом занятии исследуются базовые возможности array. <br>\n",
    "Как известно, списки могут быть многомерными. Обычно многомерные списки обрабатываются во вложенных циклах или с использованием генераторов списков с несколькими секциями for. Сильной стороной NumPy является «программирование, ориентированное на массивы», использующее программирование в функциональном стиле с внутренними итерациями; работа с массивами становится компактной и прямолинейной, а код избавляется от ошибок, которые могут возникнуть во внешних итерациях или в явно запрограммированных циклах. <br>\n",
    "В разделе «Введение в data science» этого занятия начнется ваше знакомство с библиотекой <b>pandas</b>, которая будет использоваться во многих практических примерах при изучении data science. В приложениях больших данных часто возникает необходимость в коллекциях более гибких, чем массивы NumPy, — коллекциях с поддержкой смешанных типов данных, нестандартного индексирования, отсутствующих данных, данных с нарушенной структурой и данных, которые должны быть приведены к форме, более подходящей для баз данных и пакетов анализа данных, с которыми вы работаете."
   ]
  },
  {
   "cell_type": "markdown",
   "id": "9d6c2ee5",
   "metadata": {},
   "source": [
    "## Создание массивов на основе существующих данных\n",
    "Документация NumPy рекомендует импортировать <i>модуль numpy</i> под именем np, чтобы к его компонентам можно было обращаться с префиксом \"np."
   ]
  },
  {
   "cell_type": "code",
   "execution_count": 1,
   "id": "31ded064",
   "metadata": {},
   "outputs": [],
   "source": [
    "import numpy as np"
   ]
  },
  {
   "cell_type": "markdown",
   "id": "39eb397f",
   "metadata": {},
   "source": [
    "Модуль numpy предоставляет различные функции для создания массивов. В данном случае будет использоваться функция array, которая получает в аргументе массив или другую коллекцию и возвращает новый массив с элементами своего аргумента. Передадим при вызове список:"
   ]
  },
  {
   "cell_type": "code",
   "execution_count": 2,
   "id": "f88da584",
   "metadata": {},
   "outputs": [],
   "source": [
    "numbers = np.array([2, 3, 5, 7, 11])"
   ]
  },
  {
   "cell_type": "markdown",
   "id": "205741cc",
   "metadata": {},
   "source": [
    "Функция array копирует содержимое своего аргумента в массив. Проверим тип объекта, возвращенного функцией array, и выведем его содержимое:"
   ]
  },
  {
   "cell_type": "code",
   "execution_count": 4,
   "id": "38bb0a48",
   "metadata": {},
   "outputs": [
    {
     "data": {
      "text/plain": [
       "numpy.ndarray"
      ]
     },
     "execution_count": 4,
     "metadata": {},
     "output_type": "execute_result"
    }
   ],
   "source": [
    "type(numbers)"
   ]
  },
  {
   "cell_type": "code",
   "execution_count": 5,
   "id": "139626a9",
   "metadata": {},
   "outputs": [
    {
     "data": {
      "text/plain": [
       "array([ 2,  3,  5,  7, 11])"
      ]
     },
     "execution_count": 5,
     "metadata": {},
     "output_type": "execute_result"
    }
   ],
   "source": [
    "numbers"
   ]
  },
  {
   "cell_type": "markdown",
   "id": "ed78180d",
   "metadata": {},
   "source": [
    "Заметим, что для объекта указан тип numpy.ndarray, но при выводе массива используется обозначение «array». При выводе array NumPy отделяет каждое значение от следующего запятой и пробелом и выравнивает все значения по правому краю поля постоянной ширины. Ширина поля определяется на основании значения, занимающего наибольшее количество знаков при выводе. В данном случае значение 11 занимает два знака, поэтому все значения форматируются по полям из двух символов (поэтому символы [ и 2 отделены друг от друга начальным пробелом)."
   ]
  },
  {
   "cell_type": "markdown",
   "id": "b4cc11ab",
   "metadata": {},
   "source": [
    "### Многомерные аргументы\n",
    "Функция array копирует размерности своего аргумента. Создадим объект array на основе списка из двух строк и трех столбцов:"
   ]
  },
  {
   "cell_type": "code",
   "execution_count": 6,
   "id": "dae1f1e4",
   "metadata": {},
   "outputs": [
    {
     "data": {
      "text/plain": [
       "array([[1, 2, 3],\n",
       "       [4, 5, 6]])"
      ]
     },
     "execution_count": 6,
     "metadata": {},
     "output_type": "execute_result"
    }
   ],
   "source": [
    "np.array([[1, 2, 3], [4, 5, 6]])"
   ]
  },
  {
   "cell_type": "markdown",
   "id": "16dbb332",
   "metadata": {},
   "source": [
    "NumPy автоматически форматирует array на основании количества их измерений и выравнивает столбцы в каждой строке."
   ]
  },
  {
   "cell_type": "markdown",
   "id": "1919e810",
   "metadata": {},
   "source": [
    "## Атрибуты array\n",
    "Объект array предоставляет атрибуты для получения информации об их структуре и содержимом. В этом разделе будут использоваться следующие объекты array:"
   ]
  },
  {
   "cell_type": "code",
   "execution_count": 7,
   "id": "f6d2d61e",
   "metadata": {},
   "outputs": [
    {
     "data": {
      "text/plain": [
       "array([[1, 2, 3],\n",
       "       [4, 5, 6]])"
      ]
     },
     "execution_count": 7,
     "metadata": {},
     "output_type": "execute_result"
    }
   ],
   "source": [
    "import numpy as np\n",
    "integers = np.array([[1, 2, 3], [4, 5, 6]])\n",
    "integers"
   ]
  },
  {
   "cell_type": "code",
   "execution_count": 8,
   "id": "e26569d2",
   "metadata": {},
   "outputs": [
    {
     "data": {
      "text/plain": [
       "array([0. , 0.1, 0.2, 0.3, 0.4])"
      ]
     },
     "execution_count": 8,
     "metadata": {},
     "output_type": "execute_result"
    }
   ],
   "source": [
    "floats = np.array([0.0, 0.1, 0.2, 0.3, 0.4])\n",
    "floats"
   ]
  },
  {
   "cell_type": "markdown",
   "id": "32038b5a",
   "metadata": {},
   "source": [
    "Функция array определяет тип элемента array на основании элементов ее аргументов. Для проверки типа элементов можно воспользоваться атрибутом dtype типа array:"
   ]
  },
  {
   "cell_type": "code",
   "execution_count": 9,
   "id": "e8e8c92d",
   "metadata": {},
   "outputs": [
    {
     "data": {
      "text/plain": [
       "dtype('int32')"
      ]
     },
     "execution_count": 9,
     "metadata": {},
     "output_type": "execute_result"
    }
   ],
   "source": [
    "integers.dtype"
   ]
  },
  {
   "cell_type": "code",
   "execution_count": 10,
   "id": "fe1b1d1d",
   "metadata": {},
   "outputs": [
    {
     "data": {
      "text/plain": [
       "dtype('float64')"
      ]
     },
     "execution_count": 10,
     "metadata": {},
     "output_type": "execute_result"
    }
   ],
   "source": [
    "floats.dtype"
   ]
  },
  {
   "cell_type": "markdown",
   "id": "cec79af1",
   "metadata": {},
   "source": [
    "Как будет показано в следующем разделе, различные функции создания array получают ключевой аргумент dtype для определения типа элементов array.<br>\n",
    "Ради высокого быстродействия библиотека NumPy написана на языке программирования С и в ней используются типы данных C. По умолчанию NumPy сохраняет целые числа в виде значений типа int64 библиотеки NumPy, соответствующих 64-разрядным (8-байтовым) целым числам C, а числа с плавающей точкой — в виде значений типа float64 библиотеки NumPy. В наших примерах чаще всего будут встречаться типы int64, float64, bool (логический тип) и object для нечисловых данных (например, строк). Полный список \n",
    "поддерживаемых типов приведен по адресу https://docs.scipy.org/doc/numpy/user/basics.types.html."
   ]
  },
  {
   "cell_type": "markdown",
   "id": "e7259aeb",
   "metadata": {},
   "source": [
    "### Определение размерности array\n",
    "Атрибут ndim содержит количество измерений array, а атрибут shape содержит кортеж, определяющий размерность array:"
   ]
  },
  {
   "cell_type": "code",
   "execution_count": 11,
   "id": "ac83c4e2",
   "metadata": {},
   "outputs": [
    {
     "data": {
      "text/plain": [
       "2"
      ]
     },
     "execution_count": 11,
     "metadata": {},
     "output_type": "execute_result"
    }
   ],
   "source": [
    "integers.ndim"
   ]
  },
  {
   "cell_type": "code",
   "execution_count": 12,
   "id": "439ac7a3",
   "metadata": {},
   "outputs": [
    {
     "data": {
      "text/plain": [
       "1"
      ]
     },
     "execution_count": 12,
     "metadata": {},
     "output_type": "execute_result"
    }
   ],
   "source": [
    "floats.ndim"
   ]
  },
  {
   "cell_type": "code",
   "execution_count": 13,
   "id": "ad2a620d",
   "metadata": {},
   "outputs": [
    {
     "data": {
      "text/plain": [
       "(2, 3)"
      ]
     },
     "execution_count": 13,
     "metadata": {},
     "output_type": "execute_result"
    }
   ],
   "source": [
    "integers.shape"
   ]
  },
  {
   "cell_type": "code",
   "execution_count": 14,
   "id": "dfdaafcc",
   "metadata": {},
   "outputs": [
    {
     "data": {
      "text/plain": [
       "(5,)"
      ]
     },
     "execution_count": 14,
     "metadata": {},
     "output_type": "execute_result"
    }
   ],
   "source": [
    "floats.shape"
   ]
  },
  {
   "cell_type": "markdown",
   "id": "7cdd3b80",
   "metadata": {},
   "source": [
    "Здесь integers состоит из двух строк и трех столбцов (6 элементов), а структура данных floats является одномерной, поэтому фрагмент выше выводит кортеж из одного элемента (на что указывает запятая) с количеством элементов floats (5)"
   ]
  },
  {
   "cell_type": "markdown",
   "id": "ec7167a8",
   "metadata": {},
   "source": [
    "### Определение количества элементов и размера элементов\n",
    "Общее количество элементов в array можно получить из атрибута size, а количество байтов, необходимое для хранения каждого элемента, — из атрибута itemsize:"
   ]
  },
  {
   "cell_type": "code",
   "execution_count": 15,
   "id": "3d017ab5",
   "metadata": {},
   "outputs": [
    {
     "data": {
      "text/plain": [
       "6"
      ]
     },
     "execution_count": 15,
     "metadata": {},
     "output_type": "execute_result"
    }
   ],
   "source": [
    "integers.size"
   ]
  },
  {
   "cell_type": "code",
   "execution_count": 16,
   "id": "6bdfc1a9",
   "metadata": {},
   "outputs": [
    {
     "data": {
      "text/plain": [
       "4"
      ]
     },
     "execution_count": 16,
     "metadata": {},
     "output_type": "execute_result"
    }
   ],
   "source": [
    "integers.itemsize # 4 для компиляторов C с 32-разрядными int"
   ]
  },
  {
   "cell_type": "code",
   "execution_count": 17,
   "id": "8697d4ba",
   "metadata": {},
   "outputs": [
    {
     "data": {
      "text/plain": [
       "5"
      ]
     },
     "execution_count": 17,
     "metadata": {},
     "output_type": "execute_result"
    }
   ],
   "source": [
    "floats.size"
   ]
  },
  {
   "cell_type": "code",
   "execution_count": 18,
   "id": "5403982b",
   "metadata": {},
   "outputs": [
    {
     "data": {
      "text/plain": [
       "8"
      ]
     },
     "execution_count": 18,
     "metadata": {},
     "output_type": "execute_result"
    }
   ],
   "source": [
    "floats.itemsize"
   ]
  },
  {
   "cell_type": "markdown",
   "id": "a988db32",
   "metadata": {},
   "source": [
    "Обратите внимание: размер integers равен произведению значений из кортежа shape — две строки по три элемента, итого шесть элементов. В каждом случае значение itemsize равно 8, потому что integers содержит значения int64, а floats содержит значения float64; каждое занимает 8 байт."
   ]
  },
  {
   "cell_type": "markdown",
   "id": "99f2eada",
   "metadata": {},
   "source": [
    "### Перебор элементов многомерной коллекции array\n",
    "Обычно для работы с array используются компактные конструкции программирования в функциональном стиле. Так как array являются итерируемыми объектами, при желании можно использовать внешние итерации:"
   ]
  },
  {
   "cell_type": "code",
   "execution_count": 19,
   "id": "82ddcd3f",
   "metadata": {},
   "outputs": [
    {
     "name": "stdout",
     "output_type": "stream",
     "text": [
      "1 2 3 \n",
      "4 5 6 \n"
     ]
    }
   ],
   "source": [
    "for row in integers:\n",
    "    for column in row:\n",
    "        print(column, end=' ')\n",
    "    print()"
   ]
  },
  {
   "cell_type": "markdown",
   "id": "822c17ec",
   "metadata": {},
   "source": [
    "Чтобы перебрать элементы многомерной коллекции array так, как если бы она была одномерной, используйте атрибут flat:"
   ]
  },
  {
   "cell_type": "code",
   "execution_count": 20,
   "id": "b9586abf",
   "metadata": {},
   "outputs": [
    {
     "name": "stdout",
     "output_type": "stream",
     "text": [
      "1 2 3 4 5 6 "
     ]
    }
   ],
   "source": [
    "for i in integers.flat:\n",
    "    print(i, end=' ')"
   ]
  },
  {
   "cell_type": "markdown",
   "id": "c9993906",
   "metadata": {},
   "source": [
    "## Заполнение array конкретными значениями\n",
    "NumPy предоставляет функции zeros, ones и full для создания коллекций array, содержащих 0, 1 или заданное значение соответственно. По умолчанию функции zeros и ones создают коллекции array, содержащие значения float64. <br>\n",
    "Вскоре я покажу, как настроить тип элементов. Первым аргументом этих функций должно быть целое число или кортеж целых чисел, определяющий нужные размеры. Для целого числа каждая функция возвращает одномерную коллекцию array с заданным количеством элементов:"
   ]
  },
  {
   "cell_type": "code",
   "execution_count": 21,
   "id": "d473bc60",
   "metadata": {},
   "outputs": [],
   "source": [
    "import numpy as np"
   ]
  },
  {
   "cell_type": "code",
   "execution_count": 22,
   "id": "daadc533",
   "metadata": {},
   "outputs": [
    {
     "data": {
      "text/plain": [
       "array([0., 0., 0., 0., 0.])"
      ]
     },
     "execution_count": 22,
     "metadata": {},
     "output_type": "execute_result"
    }
   ],
   "source": [
    "np.zeros(5)"
   ]
  },
  {
   "cell_type": "markdown",
   "id": "68b35a3f",
   "metadata": {},
   "source": [
    "Для кортежа целых чисел эти функции возвращают многомерную коллекцию array с заданными размерами. При вызове функций zeros и ones можно задать тип элементов при помощи ключевого аргумента dtype:"
   ]
  },
  {
   "cell_type": "code",
   "execution_count": 23,
   "id": "63718aa1",
   "metadata": {},
   "outputs": [
    {
     "data": {
      "text/plain": [
       "array([[1, 1, 1, 1],\n",
       "       [1, 1, 1, 1]])"
      ]
     },
     "execution_count": 23,
     "metadata": {},
     "output_type": "execute_result"
    }
   ],
   "source": [
    "np.ones((2, 4), dtype=int)"
   ]
  },
  {
   "cell_type": "markdown",
   "id": "cad306bc",
   "metadata": {},
   "source": [
    "Коллекция array, возвращаемая full, содержит элементы со значением и типом второго аргумента:"
   ]
  },
  {
   "cell_type": "code",
   "execution_count": 24,
   "id": "047b930e",
   "metadata": {},
   "outputs": [
    {
     "data": {
      "text/plain": [
       "array([[13, 13, 13, 13, 13],\n",
       "       [13, 13, 13, 13, 13],\n",
       "       [13, 13, 13, 13, 13]])"
      ]
     },
     "execution_count": 24,
     "metadata": {},
     "output_type": "execute_result"
    }
   ],
   "source": [
    "np.full((3, 5), 13)"
   ]
  },
  {
   "cell_type": "markdown",
   "id": "bf61eef1",
   "metadata": {},
   "source": [
    "##  Создание коллекций array по диапазонам\n",
    "NumPy предоставляет оптимизированные функции для создания коллекций array на базе диапазонов. Мы ограничимся простыми равномерными диапазонами целых чисел и чисел с плавающей точкой, помня, впрочем, что NumPy поддерживает и нелинейные диапазоны.\n",
    "### Создание диапазонов функцией arange\n",
    "Воспользуемся функцией arange библиотеки NumPy для создания целочисленных диапазонов — по аналогии со встроенной функцией range. Функция arange сначала определяет количество элементов в полученной коллекции array, выделяет память, а затем сохраняет заданный диапазон значений в array:"
   ]
  },
  {
   "cell_type": "code",
   "execution_count": 25,
   "id": "635f267d",
   "metadata": {},
   "outputs": [
    {
     "data": {
      "text/plain": [
       "array([0, 1, 2, 3, 4])"
      ]
     },
     "execution_count": 25,
     "metadata": {},
     "output_type": "execute_result"
    }
   ],
   "source": [
    "import numpy as np\n",
    "np.arange(5)"
   ]
  },
  {
   "cell_type": "code",
   "execution_count": 26,
   "id": "940553e0",
   "metadata": {},
   "outputs": [
    {
     "data": {
      "text/plain": [
       "array([5, 6, 7, 8, 9])"
      ]
     },
     "execution_count": 26,
     "metadata": {},
     "output_type": "execute_result"
    }
   ],
   "source": [
    "np.arange(5, 10)"
   ]
  },
  {
   "cell_type": "code",
   "execution_count": 27,
   "id": "6ec1645e",
   "metadata": {},
   "outputs": [
    {
     "data": {
      "text/plain": [
       "array([10,  8,  6,  4,  2])"
      ]
     },
     "execution_count": 27,
     "metadata": {},
     "output_type": "execute_result"
    }
   ],
   "source": [
    "np.arange(10, 1, -2)"
   ]
  },
  {
   "cell_type": "markdown",
   "id": "7e2e8597",
   "metadata": {},
   "source": [
    "И хотя при создании array можно передавать в аргументах range, всегда используйте функцию arange, так как она оптимизирована для array. Скоро я покажу, как определить время выполнения различных операций, чтобы сравнить их быстродействие."
   ]
  },
  {
   "cell_type": "markdown",
   "id": "f7003a8d",
   "metadata": {},
   "source": [
    "### Создание диапазонов чисел с плавающей точкой функцией linspace\n",
    "Для создания равномерно распределенных диапазонов чисел с плавающей точкой можно воспользоваться функцией linspace библиотеки NumPy. Первые два аргумента функции определяют начальное и конечное значение диапазона, при этом конечное значение включается в array. Необязательный ключевой аргумент num задает количество равномерно распределенных генерируемых значений (по умолчанию используется значение 50):"
   ]
  },
  {
   "cell_type": "code",
   "execution_count": 28,
   "id": "e8c344ac",
   "metadata": {},
   "outputs": [
    {
     "data": {
      "text/plain": [
       "array([0.  , 0.25, 0.5 , 0.75, 1.  ])"
      ]
     },
     "execution_count": 28,
     "metadata": {},
     "output_type": "execute_result"
    }
   ],
   "source": [
    "np.linspace(0.0, 1.0, num=5)"
   ]
  },
  {
   "cell_type": "markdown",
   "id": "fe26d141",
   "metadata": {},
   "source": [
    "### Изменение размерности array\n",
    "Коллекцию array также можно создать на базе диапазона элементов, а затем воспользоваться методом reshape для преобразования одномерной коллекции array в многомерную. Создадим коллекцию array со значениями от 1 до 20, а затем преобразуем ее к двумерной структуре из четырех строк и пяти столбцов:"
   ]
  },
  {
   "cell_type": "code",
   "execution_count": 29,
   "id": "91b944e1",
   "metadata": {},
   "outputs": [
    {
     "data": {
      "text/plain": [
       "array([[ 1,  2,  3,  4,  5],\n",
       "       [ 6,  7,  8,  9, 10],\n",
       "       [11, 12, 13, 14, 15],\n",
       "       [16, 17, 18, 19, 20]])"
      ]
     },
     "execution_count": 29,
     "metadata": {},
     "output_type": "execute_result"
    }
   ],
   "source": [
    "np.arange(1, 21).reshape(4, 5)"
   ]
  },
  {
   "cell_type": "markdown",
   "id": "be27bdf3",
   "metadata": {},
   "source": [
    "Обратите внимание на <i>сцепленные вызовы</i> методов в приведенном фрагменте. <br>\n",
    "Сначала arange создает коллекцию array со значениями 1–20. После этого вызов reshape для полученной коллекции array создает коллекцию 4 × 5, показанную выше.<br>\n",
    "Размерность можно изменить для любой коллекции array — при условии что по количеству элементов новая версия не отличается от оригинала. Таким образом, одномерная коллекция array из шести элементов может превратиться в коллекцию 3 × 2 или 2 × 3, и наоборот, но попытка преобразовать коллекцию array из 15 элементов в коллекцию 4 × 4 (16 элементов) приводит к ошибке ValueError"
   ]
  },
  {
   "cell_type": "markdown",
   "id": "536d60d9",
   "metadata": {},
   "source": [
    "### Вывод больших коллекций array\n",
    "При выводе коллекции array, содержащей 1000 и более элементов, NumPy исключает из вывода строки и/или столбцы в середине. <br>\n",
    "Следующие фрагменты генерируют 100 000 элементов. В первом примере показаны все четыре строки, \n",
    "каждая из 25 000 столбцов (знак многоточия … представляет отсутствующие данные). "
   ]
  },
  {
   "cell_type": "code",
   "execution_count": 30,
   "id": "6254f52f",
   "metadata": {},
   "outputs": [
    {
     "data": {
      "text/plain": [
       "array([[     1,      2,      3, ...,  24998,  24999,  25000],\n",
       "       [ 25001,  25002,  25003, ...,  49998,  49999,  50000],\n",
       "       [ 50001,  50002,  50003, ...,  74998,  74999,  75000],\n",
       "       [ 75001,  75002,  75003, ...,  99998,  99999, 100000]])"
      ]
     },
     "execution_count": 30,
     "metadata": {},
     "output_type": "execute_result"
    }
   ],
   "source": [
    "np.arange(1, 100001).reshape(4, 25000)"
   ]
  },
  {
   "cell_type": "markdown",
   "id": "a5c92fe4",
   "metadata": {},
   "source": [
    "Во втором примере приведены три первых и три последних строки (из 100 строк), причем каждая из шести насчитывает 1000 столбцов:"
   ]
  },
  {
   "cell_type": "code",
   "execution_count": 31,
   "id": "0b7cdd9a",
   "metadata": {},
   "outputs": [
    {
     "data": {
      "text/plain": [
       "array([[     1,      2,      3, ...,    998,    999,   1000],\n",
       "       [  1001,   1002,   1003, ...,   1998,   1999,   2000],\n",
       "       [  2001,   2002,   2003, ...,   2998,   2999,   3000],\n",
       "       ...,\n",
       "       [ 97001,  97002,  97003, ...,  97998,  97999,  98000],\n",
       "       [ 98001,  98002,  98003, ...,  98998,  98999,  99000],\n",
       "       [ 99001,  99002,  99003, ...,  99998,  99999, 100000]])"
      ]
     },
     "execution_count": 31,
     "metadata": {},
     "output_type": "execute_result"
    }
   ],
   "source": [
    "np.arange(1, 100001).reshape(100, 1000)"
   ]
  },
  {
   "cell_type": "markdown",
   "id": "3888d059",
   "metadata": {},
   "source": [
    "## Сравнение быстродействия списков и array\n",
    "Многие операции с коллекциями array выполняются намного быстрее, чем соответствующие операции со списками. Для демонстрации мы воспользуемся магической командой IPython %timeit, измеряющей среднюю продолжительность операций. Учтите, что время в вашей системе может отличаться от моих результатов.\n",
    "\n",
    "### Хронометраж создания списка с результатами 6 000 000 бросков кубика\n",
    "Воспользуемся функцией randrange модуля random с генератором списка, чтобы создать список с результатами 6 000 000 бросков \n",
    "и провести хронометраж операции командой %timeit. Обратите внимание на использование символа продолжения строки (\\\\) для разбиения команды из фрагмента ниже на две строки:"
   ]
  },
  {
   "cell_type": "code",
   "execution_count": 32,
   "id": "20f741aa",
   "metadata": {},
   "outputs": [
    {
     "name": "stdout",
     "output_type": "stream",
     "text": [
      "8.92 s ± 370 ms per loop (mean ± std. dev. of 7 runs, 1 loop each)\n"
     ]
    }
   ],
   "source": [
    "import random\n",
    "%timeit rolls_list = \\\n",
    "    [random.randrange(1, 7) for i in range(0, 6_000_000)]"
   ]
  },
  {
   "cell_type": "markdown",
   "id": "fd6a8b04",
   "metadata": {},
   "source": [
    "По умолчанию %timeit выполняет команду в цикле, который прогоняется семь раз. Если количество итераций не задано, то %timeit выбирает подходящее значение. В нашем тестировании операции, занимавшие более 500 милли\u0002секунд, выполнялись всего один раз, тогда как операции, занимавшие менее 500 миллисекунд, повторялись 10 раз и более.\n",
    "\n",
    "\n",
    "После выполнения команды %timeit выводит среднее время ее выполнения, а также стандартное отклонение по всем выполнениям. В среднем %timeit указывает, что создание списка заняло 8.92 секунды со стандартным отклонением 370 миллисекунд (мс). В сумме семикратное выполнение фрагмента заняло около 1 минуты."
   ]
  },
  {
   "cell_type": "markdown",
   "id": "9e80ea0f",
   "metadata": {},
   "source": [
    "### Хронометраж создания коллекции array с результатами 6 000 000 бросков\n",
    "Теперь воспользуемся функцией <i>randint</i> из модуля numpy.random для создания коллекции array с 6 000 000 бросков:"
   ]
  },
  {
   "cell_type": "code",
   "execution_count": 33,
   "id": "374f6e72",
   "metadata": {},
   "outputs": [
    {
     "name": "stdout",
     "output_type": "stream",
     "text": [
      "113 ms ± 4.65 ms per loop (mean ± std. dev. of 7 runs, 10 loops each)\n"
     ]
    }
   ],
   "source": [
    "import numpy as np\n",
    "%timeit rolls_array = np.random.randint(1, 7, 6_000_000)"
   ]
  },
  {
   "cell_type": "markdown",
   "id": "56ba8255",
   "metadata": {},
   "source": [
    "В среднем %timeit показывает, что создание array заняло всего 113 миллисекунд со стандартным отклонением 4.65 микросекунд (мкс). В сумме выполнение предыдущего фрагмента заняло на нашем компьютере менее половины \n",
    "секунды — около 1/100 от времени выполнения фрагмента [32]. Таким образом, с array операция действительно выполняется на два порядка быстрее!\n",
    "\n",
    "Эти данные наглядно показывают, почему для операций, связанных с интенсивными вычислениями, обычно отдается предпочтение коллекциям array перед списками. В своих практических примерах data science мы войдем в мир больших данных и искусственного интеллекта с его высокими требованиями к производительности. Вы узнаете, как сочетание современного оборудования, программных продуктов, коммуникаций и структур алгоритмов позволяет справиться с колоссальными требованиями современных приложений к вычислительным мощностям."
   ]
  },
  {
   "cell_type": "markdown",
   "id": "da0fb5de",
   "metadata": {},
   "source": [
    "## Операторы array\n",
    "NumPy предоставляет обширный набор операторов, позволяющих писать простые выражения для выполнения операций с целыми коллекциями array. В этом разделе продемонстрированы математические операции между коллекциями array и числовыми значениями, а также между коллекциями array одинакового размера.\n",
    "### Арифметические операции с array и числовыми значениями\n",
    "Начнем с поэлементных арифметических операций с array и числовыми значениями, использующих арифметические операторы и расширенное присваивание. Поэлементные операции применяются к каждому элементу, так что фрагмент [34] умножает каждый элемент на 2, а фрагмент [35] возводит каждый элемент в куб. В каждом случае возвращается новая коллекция array, содержащая результат:"
   ]
  },
  {
   "cell_type": "code",
   "execution_count": 34,
   "id": "b04a984b",
   "metadata": {},
   "outputs": [
    {
     "data": {
      "text/plain": [
       "array([ 2,  4,  6,  8, 10])"
      ]
     },
     "execution_count": 34,
     "metadata": {},
     "output_type": "execute_result"
    }
   ],
   "source": [
    "import numpy as np\n",
    "numbers = np.arange(1, 6)\n",
    "numbers * 2"
   ]
  },
  {
   "cell_type": "code",
   "execution_count": 35,
   "id": "41794892",
   "metadata": {},
   "outputs": [
    {
     "data": {
      "text/plain": [
       "array([  1,   8,  27,  64, 125], dtype=int32)"
      ]
     },
     "execution_count": 35,
     "metadata": {},
     "output_type": "execute_result"
    }
   ],
   "source": [
    "numbers ** 3"
   ]
  },
  {
   "cell_type": "code",
   "execution_count": 36,
   "id": "8f283bb0",
   "metadata": {},
   "outputs": [
    {
     "data": {
      "text/plain": [
       "array([1, 2, 3, 4, 5])"
      ]
     },
     "execution_count": 36,
     "metadata": {},
     "output_type": "execute_result"
    }
   ],
   "source": [
    "numbers # numbers не изменяется арифметическими операторами"
   ]
  },
  {
   "cell_type": "markdown",
   "id": "2ebbac88",
   "metadata": {},
   "source": [
    "Фрагмент [36] показывает, что арифметические операторы не изменили numbers. <br>\n",
    "Операторы + и * коммутативны, поэтому фрагмент [34] также можно было записать в виде 2 * numbers.\n",
    "\n",
    "Расширенные присваивания изменяют каждый элемент левого операнда."
   ]
  },
  {
   "cell_type": "code",
   "execution_count": 38,
   "id": "ab542698",
   "metadata": {},
   "outputs": [
    {
     "data": {
      "text/plain": [
       "array([21, 22, 23, 24, 25])"
      ]
     },
     "execution_count": 38,
     "metadata": {},
     "output_type": "execute_result"
    }
   ],
   "source": [
    "numbers += 10\n",
    "numbers"
   ]
  },
  {
   "cell_type": "markdown",
   "id": "9f778302",
   "metadata": {},
   "source": [
    "### Арифметические операции между коллекциями array\n",
    "С коллекциями array, имеющими одинаковые размеры, можно выполнять арифметические операции и расширенные присваивания. Перемножим одномерные коллекции array numbers и numbers2 (созданные ниже), каждая из которых содержит пять элементов:"
   ]
  },
  {
   "cell_type": "code",
   "execution_count": 39,
   "id": "487d594f",
   "metadata": {},
   "outputs": [
    {
     "data": {
      "text/plain": [
       "array([1.1, 2.2, 3.3, 4.4, 5.5])"
      ]
     },
     "execution_count": 39,
     "metadata": {},
     "output_type": "execute_result"
    }
   ],
   "source": [
    "numbers2 = np.linspace(1.1, 5.5, 5)\n",
    "numbers2"
   ]
  },
  {
   "cell_type": "code",
   "execution_count": 40,
   "id": "b7918714",
   "metadata": {},
   "outputs": [
    {
     "data": {
      "text/plain": [
       "array([ 23.1,  48.4,  75.9, 105.6, 137.5])"
      ]
     },
     "execution_count": 40,
     "metadata": {},
     "output_type": "execute_result"
    }
   ],
   "source": [
    "numbers * numbers2"
   ]
  },
  {
   "cell_type": "markdown",
   "id": "db2e23ee",
   "metadata": {},
   "source": [
    "Результат представляет собой новый объект array, полученный поэлементным перемножением обоих операндов — 11 * 1.1, 12 * 2.2, 13 * 3.3 и т. д. <br>\n",
    "Результаты выполнения арифметических операций между коллекциями array с целыми числами и числами с плавающей точкой — коллекция чисел с плавающей точкой."
   ]
  },
  {
   "cell_type": "markdown",
   "id": "c01dde2d",
   "metadata": {},
   "source": [
    "### Сравнение коллекций array\n",
    "Коллекции array можно сравнивать как с отдельными значениями, так и с другими коллекциями array. Сравнения выполняются поэлементно. В результате таких сравнений создаются коллекции array с логическими значениями, каждое из которых обозначает результат сравнения соответствующих элементов:"
   ]
  },
  {
   "cell_type": "code",
   "execution_count": 41,
   "id": "8ceaf21d",
   "metadata": {},
   "outputs": [
    {
     "data": {
      "text/plain": [
       "array([21, 22, 23, 24, 25])"
      ]
     },
     "execution_count": 41,
     "metadata": {},
     "output_type": "execute_result"
    }
   ],
   "source": [
    "numbers"
   ]
  },
  {
   "cell_type": "code",
   "execution_count": 42,
   "id": "df83e75c",
   "metadata": {},
   "outputs": [
    {
     "data": {
      "text/plain": [
       "array([ True,  True,  True,  True,  True])"
      ]
     },
     "execution_count": 42,
     "metadata": {},
     "output_type": "execute_result"
    }
   ],
   "source": [
    "numbers >= 13"
   ]
  },
  {
   "cell_type": "code",
   "execution_count": 43,
   "id": "087f5254",
   "metadata": {},
   "outputs": [
    {
     "data": {
      "text/plain": [
       "array([1.1, 2.2, 3.3, 4.4, 5.5])"
      ]
     },
     "execution_count": 43,
     "metadata": {},
     "output_type": "execute_result"
    }
   ],
   "source": [
    "numbers2"
   ]
  },
  {
   "cell_type": "code",
   "execution_count": 44,
   "id": "2f0d555e",
   "metadata": {},
   "outputs": [
    {
     "data": {
      "text/plain": [
       "array([ True,  True,  True,  True,  True])"
      ]
     },
     "execution_count": 44,
     "metadata": {},
     "output_type": "execute_result"
    }
   ],
   "source": [
    "numbers2 < numbers"
   ]
  },
  {
   "cell_type": "markdown",
   "id": "12103a9b",
   "metadata": {},
   "source": [
    "## Вычислительные методы NumPy\n",
    "Коллекция array содержит различные методы для выполнения вычислений. По умолчанию эти методы игнорируют размеры array и используют в вычислениях все элементы. Например, при вычислении среднего значения для array суммируются все элементы независимо от размера, после чего сумма делится на общее количество элементов. Эти вычисления можно выполнять и с отдельными измерениями. Например, в двумерной коллекции array можно вычислить среднее значение по каждой строке и по каждому столбцу.\n",
    "\n",
    "Возьмем коллекцию array, представляющую оценки четырех студентов на трех экзаменах:"
   ]
  },
  {
   "cell_type": "code",
   "execution_count": 45,
   "id": "cb89844e",
   "metadata": {},
   "outputs": [
    {
     "data": {
      "text/plain": [
       "array([[ 87,  96,  70],\n",
       "       [100,  87,  90],\n",
       "       [ 94,  77,  90],\n",
       "       [100,  81,  82]])"
      ]
     },
     "execution_count": 45,
     "metadata": {},
     "output_type": "execute_result"
    }
   ],
   "source": [
    "import numpy as np\n",
    "grades = np.array([[87, 96, 70], [100, 87, 90],\n",
    "                   [94, 77, 90], [100, 81, 82]])\n",
    "grades"
   ]
  },
  {
   "cell_type": "markdown",
   "id": "d6587783",
   "metadata": {},
   "source": [
    "При помощи различных методов можно вычислить сумму (sum), наименьшее (min) и наибольшее (max) значение, математическое ожидание (mean), стандартное отклонение (std) и дисперсию (var) — каждая подобная операция в контексте программирования в функциональном стиле является <i>сверткой</i>:"
   ]
  },
  {
   "cell_type": "code",
   "execution_count": 46,
   "id": "aaac517f",
   "metadata": {},
   "outputs": [
    {
     "data": {
      "text/plain": [
       "1054"
      ]
     },
     "execution_count": 46,
     "metadata": {},
     "output_type": "execute_result"
    }
   ],
   "source": [
    "grades.sum()"
   ]
  },
  {
   "cell_type": "code",
   "execution_count": 47,
   "id": "f7f2a412",
   "metadata": {},
   "outputs": [
    {
     "data": {
      "text/plain": [
       "70"
      ]
     },
     "execution_count": 47,
     "metadata": {},
     "output_type": "execute_result"
    }
   ],
   "source": [
    "grades.min()"
   ]
  },
  {
   "cell_type": "code",
   "execution_count": 48,
   "id": "7b643278",
   "metadata": {},
   "outputs": [
    {
     "data": {
      "text/plain": [
       "100"
      ]
     },
     "execution_count": 48,
     "metadata": {},
     "output_type": "execute_result"
    }
   ],
   "source": [
    "grades.max()"
   ]
  },
  {
   "cell_type": "code",
   "execution_count": 49,
   "id": "0dc54467",
   "metadata": {},
   "outputs": [
    {
     "data": {
      "text/plain": [
       "87.83333333333333"
      ]
     },
     "execution_count": 49,
     "metadata": {},
     "output_type": "execute_result"
    }
   ],
   "source": [
    "grades.mean()"
   ]
  },
  {
   "cell_type": "code",
   "execution_count": 50,
   "id": "fa96ec9d",
   "metadata": {},
   "outputs": [
    {
     "data": {
      "text/plain": [
       "8.792357792739987"
      ]
     },
     "execution_count": 50,
     "metadata": {},
     "output_type": "execute_result"
    }
   ],
   "source": [
    "grades.std()"
   ]
  },
  {
   "cell_type": "code",
   "execution_count": 51,
   "id": "88abc791",
   "metadata": {},
   "outputs": [
    {
     "data": {
      "text/plain": [
       "77.30555555555556"
      ]
     },
     "execution_count": 51,
     "metadata": {},
     "output_type": "execute_result"
    }
   ],
   "source": [
    "grades.var()"
   ]
  },
  {
   "cell_type": "markdown",
   "id": "a431da04",
   "metadata": {},
   "source": [
    "### Вычисления по строкам или по столбцам\n",
    "Многие вычислительные методы также могут применяться к конкретным размерностям array (они называются осями array). Такие методы получают ключевой аргумент axis, определяющий размерность, используемую в вычислениях; это позволяет быстро проводить вычисления по строкам или по столбцам в двумерной коллекции array.\n",
    "\n",
    "Допустим, вы хотите вычислить среднюю оценку по каждому <i>экзамену</i>, представленному одним из столбцов. Аргумент axis=0 выполняет вычисления по всем значениям строк внутри каждого столбца:"
   ]
  },
  {
   "cell_type": "code",
   "execution_count": 52,
   "id": "a5d6a9fa",
   "metadata": {},
   "outputs": [
    {
     "data": {
      "text/plain": [
       "array([95.25, 85.25, 83.  ])"
      ]
     },
     "execution_count": 52,
     "metadata": {},
     "output_type": "execute_result"
    }
   ],
   "source": [
    "grades.mean(axis=0)"
   ]
  },
  {
   "cell_type": "markdown",
   "id": "5c248829",
   "metadata": {},
   "source": [
    "Значение 95.25 представляет собой среднее значение для оценок первого столбца (87, 100, 94 и 100), 85.25 — среднее значение для оценок второго столбца (96, 87, 77 и 81), а 83 — среднее значение для оценок третьего столбца (70, 90, 90 и 82). Как и прежде, NumPy не отображает завершающие нули в дробной части: '83.'. Также стоит заметить, что все значения элементов выводятся в полях постоянной ширины, именно поэтому за '83.' следуют два пробела.\n",
    "\n",
    "\n",
    "С аргументом axis=1 вычисления будут выполняться со всеми значениями столбца внутри каждой отдельной строки. Так, для вычисления средней оценки каждого студента по всем экзаменам можно использовать следующую команду:"
   ]
  },
  {
   "cell_type": "code",
   "execution_count": 53,
   "id": "a28077d8",
   "metadata": {},
   "outputs": [
    {
     "data": {
      "text/plain": [
       "array([84.33333333, 92.33333333, 87.        , 87.66666667])"
      ]
     },
     "execution_count": 53,
     "metadata": {},
     "output_type": "execute_result"
    }
   ],
   "source": [
    "grades.mean(axis=1)"
   ]
  },
  {
   "cell_type": "markdown",
   "id": "e4332026",
   "metadata": {},
   "source": [
    "Этот фрагмент вычисляет четыре средних значения — по одному для каждой строки. Таким образом, 84.33333333 представляет собой среднее значение для оценок строки 0 (87, 96 и 70), и так далее для остальных строк.\n",
    "\n",
    "\n",
    "Коллекции array библиотеки NumPy поддерживают много других вычислительных методов. За полным списком обращайтесь по адресу:\n",
    "https://docs.scipy.org/doc/numpy/reference/arrays.ndarray.html"
   ]
  },
  {
   "cell_type": "markdown",
   "id": "1ca5c05b",
   "metadata": {},
   "source": [
    "## Универсальные функции\n",
    "NumPy предоставляет десятки автономных <i>универсальных функций</i> для выполнения различных поэлементных операций. Каждая функция выполняет свою задачу с использованием одного или двух аргументов, которыми могут быть коллекции array или аналогичные структуры (например, списки). Некоторые из этих функций вызываются при применении к array таких операторов, как + и *. Каждая функция возвращает новую коллекцию array с результатами."
   ]
  },
  {
   "cell_type": "markdown",
   "id": "d5501a36",
   "metadata": {},
   "source": [
    "Создадим коллекцию array и вычислим квадратный корень всех ее значений при помощи универсальной функции sqrt:"
   ]
  },
  {
   "cell_type": "code",
   "execution_count": 54,
   "id": "c2b80fdd",
   "metadata": {},
   "outputs": [
    {
     "data": {
      "text/plain": [
       "array([1., 2., 3., 4., 5., 6.])"
      ]
     },
     "execution_count": 54,
     "metadata": {},
     "output_type": "execute_result"
    }
   ],
   "source": [
    "import numpy as np\n",
    "numbers = np.array([1, 4, 9, 16, 25, 36])\n",
    "np.sqrt(numbers)"
   ]
  },
  {
   "cell_type": "markdown",
   "id": "0c5fc6ae",
   "metadata": {},
   "source": [
    "А теперь просуммируем две коллекции array одинакового размера при помощи универсальной функции add:"
   ]
  },
  {
   "cell_type": "code",
   "execution_count": 55,
   "id": "3c68862e",
   "metadata": {},
   "outputs": [
    {
     "data": {
      "text/plain": [
       "array([11, 24, 39, 56, 75, 96])"
      ]
     },
     "execution_count": 55,
     "metadata": {},
     "output_type": "execute_result"
    }
   ],
   "source": [
    "numbers2 = np.arange(1, 7) * 10\n",
    "np.add(numbers, numbers2) # всё равно что numbers + numbers2"
   ]
  },
  {
   "cell_type": "markdown",
   "id": "2f6a3178",
   "metadata": {},
   "source": [
    "## Индексирование и сегментация\n",
    "К одномерным коллекциям array могут применяться операции индексирования и сегментации; при этом используются синтаксис и приемы, продемонстрированные в первом занятии. В этом разделе мы сосредоточимся на средствах индексирования и сегментации, специфичных для array."
   ]
  },
  {
   "cell_type": "markdown",
   "id": "af59b557",
   "metadata": {},
   "source": [
    "### Индексирование с двумерными коллекциями array\n",
    "Чтобы выбрать элемент двумерной коллекции array, укажите кортеж с индексами строки и столбца элемента в квадратных скобках."
   ]
  },
  {
   "cell_type": "code",
   "execution_count": 56,
   "id": "01abc526",
   "metadata": {},
   "outputs": [
    {
     "data": {
      "text/plain": [
       "96"
      ]
     },
     "execution_count": 56,
     "metadata": {},
     "output_type": "execute_result"
    }
   ],
   "source": [
    "import numpy as np\n",
    "grades = np.array([[87, 96, 70], [100, 87, 90],\n",
    "                   [94, 77, 90], [100, 81, 82]])\n",
    "grades[0, 1] # строка 0, столбец 1"
   ]
  },
  {
   "cell_type": "markdown",
   "id": "1f19bf48",
   "metadata": {},
   "source": [
    "### Выбор подмножества строк двумерной коллекции array\n",
    "\n",
    "Чтобы выбрать одну строку, укажите только один индекс в квадратных скобках:"
   ]
  },
  {
   "cell_type": "code",
   "execution_count": 57,
   "id": "58a606ec",
   "metadata": {},
   "outputs": [
    {
     "data": {
      "text/plain": [
       "array([100,  87,  90])"
      ]
     },
     "execution_count": 57,
     "metadata": {},
     "output_type": "execute_result"
    }
   ],
   "source": [
    "grades[1]"
   ]
  },
  {
   "cell_type": "markdown",
   "id": "cedb2a64",
   "metadata": {},
   "source": [
    "Для выбора нескольких смежных строк используется синтаксис сегмента:"
   ]
  },
  {
   "cell_type": "code",
   "execution_count": 58,
   "id": "f1c48cc3",
   "metadata": {},
   "outputs": [
    {
     "data": {
      "text/plain": [
       "array([[ 87,  96,  70],\n",
       "       [100,  87,  90]])"
      ]
     },
     "execution_count": 58,
     "metadata": {},
     "output_type": "execute_result"
    }
   ],
   "source": [
    "grades[0:2]"
   ]
  },
  {
   "cell_type": "markdown",
   "id": "aa792192",
   "metadata": {},
   "source": [
    "Для выбора нескольких несмежных строк используется список индексов строк:"
   ]
  },
  {
   "cell_type": "code",
   "execution_count": 59,
   "id": "91832d96",
   "metadata": {},
   "outputs": [
    {
     "data": {
      "text/plain": [
       "array([[100,  87,  90],\n",
       "       [100,  81,  82]])"
      ]
     },
     "execution_count": 59,
     "metadata": {},
     "output_type": "execute_result"
    }
   ],
   "source": [
    "grades[[1, 3]]"
   ]
  },
  {
   "cell_type": "markdown",
   "id": "500a35bf",
   "metadata": {},
   "source": [
    "### Выбор подмножества столбцов двумерной коллекции array\n",
    "Чтобы выбрать подмножество столбцов, укажите кортеж, который определяет выбираемые строки и столбцы. Каждым элементом может быть конкретный индекс, сегмент или список. Выберем элементы только первого столбца:"
   ]
  },
  {
   "cell_type": "code",
   "execution_count": 60,
   "id": "441ab4ed",
   "metadata": {},
   "outputs": [
    {
     "data": {
      "text/plain": [
       "array([ 87, 100,  94, 100])"
      ]
     },
     "execution_count": 60,
     "metadata": {},
     "output_type": "execute_result"
    }
   ],
   "source": [
    "grades[:, 0]"
   ]
  },
  {
   "cell_type": "markdown",
   "id": "36c21c4a",
   "metadata": {},
   "source": [
    "Ноль после запятой указывает, что выбирается только столбец 0. Двоеточие (:) перед запятой указывает, какие строки в этом столбце должны выбираться. В данном случае : является сегментом, представляющим все строки. Здесь также может использоваться номер конкретной строки, сегмент, представляющий подмножество строк, или список индексов конкретных строк."
   ]
  },
  {
   "cell_type": "markdown",
   "id": "93f0b061",
   "metadata": {},
   "source": [
    "Для выбора нескольких смежных столбцов используется синтаксис сегмента:"
   ]
  },
  {
   "cell_type": "code",
   "execution_count": 61,
   "id": "5f1f85f7",
   "metadata": {},
   "outputs": [
    {
     "data": {
      "text/plain": [
       "array([[96, 70],\n",
       "       [87, 90],\n",
       "       [77, 90],\n",
       "       [81, 82]])"
      ]
     },
     "execution_count": 61,
     "metadata": {},
     "output_type": "execute_result"
    }
   ],
   "source": [
    "grades[:, 1:3]"
   ]
  },
  {
   "cell_type": "markdown",
   "id": "8a0ab260",
   "metadata": {},
   "source": [
    "Для выбора конкретных столбцов используется <i>список</i> индексов этих столбцов:"
   ]
  },
  {
   "cell_type": "code",
   "execution_count": 62,
   "id": "f5b558ea",
   "metadata": {},
   "outputs": [
    {
     "data": {
      "text/plain": [
       "array([[ 87,  70],\n",
       "       [100,  90],\n",
       "       [ 94,  90],\n",
       "       [100,  82]])"
      ]
     },
     "execution_count": 62,
     "metadata": {},
     "output_type": "execute_result"
    }
   ],
   "source": [
    "grades[:, [0, 2]]"
   ]
  },
  {
   "cell_type": "markdown",
   "id": "fab29ec5",
   "metadata": {},
   "source": [
    "## Изменение размеров и транспонирование\n",
    "Мы использовали метод reshape для получения двумерных коллекций array по одномерным диапазонам. NumPy предоставляет различные способы изменения размера массивов."
   ]
  },
  {
   "cell_type": "markdown",
   "id": "53171ba7",
   "metadata": {},
   "source": [
    "### Методы reshape и resize\n",
    "Методы reshape и resize коллекций array позволяют изменить размеры коллекции. Метод reshape возвращает представление (поверхностную копию) исходной коллекции array с новыми размерами. Исходная коллекция array при этом не изменяется:"
   ]
  },
  {
   "cell_type": "code",
   "execution_count": 63,
   "id": "2722fd54",
   "metadata": {},
   "outputs": [
    {
     "data": {
      "text/plain": [
       "array([[ 87,  96,  70],\n",
       "       [100,  87,  90]])"
      ]
     },
     "execution_count": 63,
     "metadata": {},
     "output_type": "execute_result"
    }
   ],
   "source": [
    "import numpy as np\n",
    "grades = np.array([[87, 96, 70], [100, 87, 90]])\n",
    "grades"
   ]
  },
  {
   "cell_type": "code",
   "execution_count": 64,
   "id": "5e46c5ad",
   "metadata": {},
   "outputs": [
    {
     "data": {
      "text/plain": [
       "array([[ 87,  96,  70, 100,  87,  90]])"
      ]
     },
     "execution_count": 64,
     "metadata": {},
     "output_type": "execute_result"
    }
   ],
   "source": [
    "grades.reshape(1, 6)"
   ]
  },
  {
   "cell_type": "code",
   "execution_count": 65,
   "id": "7d77da8f",
   "metadata": {},
   "outputs": [
    {
     "data": {
      "text/plain": [
       "array([[ 87,  96,  70],\n",
       "       [100,  87,  90]])"
      ]
     },
     "execution_count": 65,
     "metadata": {},
     "output_type": "execute_result"
    }
   ],
   "source": [
    "grades # массив не изменился"
   ]
  },
  {
   "cell_type": "markdown",
   "id": "a031fd7c",
   "metadata": {},
   "source": [
    "Метод resize изменяет размер исходной коллекции array:"
   ]
  },
  {
   "cell_type": "code",
   "execution_count": 66,
   "id": "2bd2acec",
   "metadata": {},
   "outputs": [],
   "source": [
    "grades.resize(1, 6)"
   ]
  },
  {
   "cell_type": "code",
   "execution_count": 67,
   "id": "eb2a77b4",
   "metadata": {},
   "outputs": [
    {
     "data": {
      "text/plain": [
       "array([[ 87,  96,  70, 100,  87,  90]])"
      ]
     },
     "execution_count": 67,
     "metadata": {},
     "output_type": "execute_result"
    }
   ],
   "source": [
    "grades # массив изменился: он стал одномерным"
   ]
  },
  {
   "cell_type": "markdown",
   "id": "e084f90a",
   "metadata": {},
   "source": [
    "### Горизонтальное и вертикальное добавление\n",
    "Коллекции array можно объединять, добавляя новые столбцы или новые строки, — эти два механизма называются горизонтальным или вертикальным дополнением. Создадим еще одну коллекцию array с размерами 2 × 3:"
   ]
  },
  {
   "cell_type": "code",
   "execution_count": 70,
   "id": "adf309f5",
   "metadata": {},
   "outputs": [],
   "source": [
    "grades = [[100, 96, 70], [100, 87, 90]]\n",
    "grades2 = np.array([[94, 77, 90], [100, 81, 82]])"
   ]
  },
  {
   "cell_type": "markdown",
   "id": "81fc5bd0",
   "metadata": {},
   "source": [
    "Допустим, содержимое grades2 представляет результаты еще трех экзаменов для двух студентов из коллекции grades. Мы можем объединить grades и grades2 функцией hstack из библиотеки NumPy; для этого функции передается кортеж с объединяемыми коллекциями. Дополнительные круглые скобки необходимы из-за того, что функция hstack ожидает получить один аргумент:"
   ]
  },
  {
   "cell_type": "code",
   "execution_count": 71,
   "id": "9fbda0d8",
   "metadata": {},
   "outputs": [
    {
     "data": {
      "text/plain": [
       "array([[100,  96,  70,  94,  77,  90],\n",
       "       [100,  87,  90, 100,  81,  82]])"
      ]
     },
     "execution_count": 71,
     "metadata": {},
     "output_type": "execute_result"
    }
   ],
   "source": [
    "np.hstack((grades, grades2))"
   ]
  },
  {
   "cell_type": "markdown",
   "id": "d2b0ac70",
   "metadata": {},
   "source": [
    "Теперь предположим, что grades2 представляет оценки двух других студентов на трех экзаменах. В этом случае grades и grades2 можно объединить функцией vstack библиотеки NumPy:"
   ]
  },
  {
   "cell_type": "code",
   "execution_count": 72,
   "id": "e2fac33d",
   "metadata": {},
   "outputs": [
    {
     "data": {
      "text/plain": [
       "array([[100,  96,  70],\n",
       "       [100,  87,  90],\n",
       "       [ 94,  77,  90],\n",
       "       [100,  81,  82]])"
      ]
     },
     "execution_count": 72,
     "metadata": {},
     "output_type": "execute_result"
    }
   ],
   "source": [
    "np.vstack((grades, grades2))"
   ]
  },
  {
   "cell_type": "markdown",
   "id": "c65202cc",
   "metadata": {},
   "source": [
    "## Введение в data science: коллекции Series и DataFrame библиотеки pandas"
   ]
  },
  {
   "cell_type": "markdown",
   "id": "09ac7699",
   "metadata": {},
   "source": [
    "Массив NumPy оптимизирован для однородных числовых данных, при обращении к которым используются целочисленные индексы. Область data science создает уникальные требования, для которых необходимы более специализированные структуры данных. Приложения больших данных должны поддерживать смешанные типы данных, нестандартное индексирование, отсутствующие данные, данные c нарушенной структурой и данные, которые должны быть приведены к форме, более подходящей для баз данных и пакетов анализа данных, с которыми вы работаете.\n",
    "\n",
    "<i>Pandas</i> — самая популярная библиотека для работы с такими данными. Она предоставляет две ключевые коллекции, которые мы будем использовать во всём курсе и в особенности на экзамене — Series для одномерных коллекций и DataFrame для двумерных коллекций. Коллекция MultiIndex библиотеки pandas может использоваться для работы с многомерными данными в контексте Series и DataFrame.\n",
    "\n",
    "<i>Уэс Маккинни</i> (Wes McKinney) создал pandas в 2008 году, пока он работал в отрасли. Название pandas происходит от термина «panel data», то есть данные измерений по времени (например, биржевые котировки или исторические температурные данные). Маккинни понадобилась библиотека, в которой одни и те же структуры данных могли бы обрабатывать как временные, так \n",
    "и не временные данные, с поддержкой выравнивания данных, отсутствующих данных, стандартных операций в стиле баз данных и т. д.\n",
    "\n",
    "Между NumPy иPandas существует тесная связь. Коллекции Series и DataFrame используют array в своей внутренней реализации. Series и DataFrame являются допустимыми аргументами для многих операций NumPy. С другой стороны, коллекции array являются допустимыми аргументами для многих операций Series и DataFrame."
   ]
  },
  {
   "cell_type": "markdown",
   "id": "70d1a614",
   "metadata": {},
   "source": [
    "## Коллекция Series\n",
    "Series представляет собой расширенную одномерную версию array. Если array использует только целочисленные индексы, начинающиеся с нуля, то коллекция Series поддерживает нестандартное индексирование, включая даже использование нецелочисленных индексов (например, строк). Коллекция Series также предоставляет дополнительные возможности, которые делают ее более удобной для многих задач, ориентированных на область data science. <br>\n",
    "Например, коллекция Series может содержать отсутствующие данные, которые по умолчанию игнорируются многими операциями Series.\n",
    "### Создание Series с индексами по умолчанию\n",
    "По умолчанию Series использует целочисленные индексы с последовательной нумерацией от 0. Следующий фрагмент создает коллекцию Series на базе списка целых чисел:"
   ]
  },
  {
   "cell_type": "code",
   "execution_count": 73,
   "id": "0d2943ca",
   "metadata": {},
   "outputs": [],
   "source": [
    "import pandas as pd\n",
    "grades = pd.Series([87, 100, 94])"
   ]
  },
  {
   "cell_type": "markdown",
   "id": "93670094",
   "metadata": {},
   "source": [
    "Инициализатором также может быть кортеж, словарь, array, другая коллекция Series или одиночное значение (последний случай продемонстрирован ниже).\n",
    "### Вывод коллекции Series\n",
    "Pandas выводит Series в формате из двух столбцов: индексы выравниваются по левому краю в левом столбце, а значения — по правому краю в правом столбце. <br>\n",
    "После элементов Series pandas выводит тип данных (dtype) элементов используемой коллекции array:"
   ]
  },
  {
   "cell_type": "code",
   "execution_count": 74,
   "id": "dbdb2405",
   "metadata": {},
   "outputs": [
    {
     "data": {
      "text/plain": [
       "0     87\n",
       "1    100\n",
       "2     94\n",
       "dtype: int64"
      ]
     },
     "execution_count": 74,
     "metadata": {},
     "output_type": "execute_result"
    }
   ],
   "source": [
    "grades"
   ]
  },
  {
   "cell_type": "markdown",
   "id": "6ec53a69",
   "metadata": {},
   "source": [
    "Обратите внимание, насколько просто выводится Series в этом формате по сравнению с соответствующим кодом вывода списка в двухстолбцовом формате."
   ]
  },
  {
   "cell_type": "markdown",
   "id": "ac587449",
   "metadata": {},
   "source": [
    "### Создание коллекции Series с одинаковыми значениями\n",
    "Вы можете создать коллекцию Series, все элементы которой имеют одинаковые значения:"
   ]
  },
  {
   "cell_type": "code",
   "execution_count": 75,
   "id": "d298ccf6",
   "metadata": {},
   "outputs": [
    {
     "data": {
      "text/plain": [
       "0    98.6\n",
       "1    98.6\n",
       "2    98.6\n",
       "dtype: float64"
      ]
     },
     "execution_count": 75,
     "metadata": {},
     "output_type": "execute_result"
    }
   ],
   "source": [
    "pd.Series(98.6, range(3))"
   ]
  },
  {
   "cell_type": "markdown",
   "id": "2e31ed9a",
   "metadata": {},
   "source": [
    "Второй аргумент представляет собой одномерный итерируемый объект (такой как список, массив или диапазон) с индексами Series. Количество индексов определяет количество элементов."
   ]
  },
  {
   "cell_type": "markdown",
   "id": "4755c77d",
   "metadata": {},
   "source": [
    "### Обращение к элементам Series\n",
    "Чтобы обратиться к элементу Series, укажите его индекс в квадратных скобках:"
   ]
  },
  {
   "cell_type": "code",
   "execution_count": 76,
   "id": "6911e72c",
   "metadata": {},
   "outputs": [
    {
     "data": {
      "text/plain": [
       "87"
      ]
     },
     "execution_count": 76,
     "metadata": {},
     "output_type": "execute_result"
    }
   ],
   "source": [
    "grades[0]"
   ]
  },
  {
   "cell_type": "markdown",
   "id": "fa5ab8a6",
   "metadata": {},
   "source": [
    "### Вычисление описательных статистик для Series\n",
    "Коллекция Series предоставляет многочисленные методы для выполнения часто встречающихся операций, включая получение различных характеристик описательной статистики. В этом разделе продемонстрированы методы count, mean, min, max и std (стандартное отклонение):"
   ]
  },
  {
   "cell_type": "code",
   "execution_count": 78,
   "id": "bfe5dea9",
   "metadata": {},
   "outputs": [
    {
     "data": {
      "text/plain": [
       "3"
      ]
     },
     "execution_count": 78,
     "metadata": {},
     "output_type": "execute_result"
    }
   ],
   "source": [
    "# количество значений\n",
    "grades.count()"
   ]
  },
  {
   "cell_type": "code",
   "execution_count": 79,
   "id": "fe39bb8b",
   "metadata": {},
   "outputs": [
    {
     "data": {
      "text/plain": [
       "93.66666666666667"
      ]
     },
     "execution_count": 79,
     "metadata": {},
     "output_type": "execute_result"
    }
   ],
   "source": [
    "# среднее значение, или математическое ожидание\n",
    "grades.mean()"
   ]
  },
  {
   "cell_type": "code",
   "execution_count": 80,
   "id": "60a21cc3",
   "metadata": {},
   "outputs": [
    {
     "data": {
      "text/plain": [
       "87"
      ]
     },
     "execution_count": 80,
     "metadata": {},
     "output_type": "execute_result"
    }
   ],
   "source": [
    "grades.min()"
   ]
  },
  {
   "cell_type": "code",
   "execution_count": 81,
   "id": "6d86a1f9",
   "metadata": {},
   "outputs": [
    {
     "data": {
      "text/plain": [
       "100"
      ]
     },
     "execution_count": 81,
     "metadata": {},
     "output_type": "execute_result"
    }
   ],
   "source": [
    "grades.max()"
   ]
  },
  {
   "cell_type": "code",
   "execution_count": 82,
   "id": "c7e112bf",
   "metadata": {},
   "outputs": [
    {
     "data": {
      "text/plain": [
       "6.506407098647712"
      ]
     },
     "execution_count": 82,
     "metadata": {},
     "output_type": "execute_result"
    }
   ],
   "source": [
    "grades.std()"
   ]
  },
  {
   "cell_type": "markdown",
   "id": "51b57d14",
   "metadata": {},
   "source": [
    "Каждая из этих характеристик является сверткой в стиле функционального программирования. Вызов методов Series создает не только названные характеристики, но и многие другие:"
   ]
  },
  {
   "cell_type": "code",
   "execution_count": 83,
   "id": "2301d01c",
   "metadata": {},
   "outputs": [
    {
     "data": {
      "text/plain": [
       "count      3.000000\n",
       "mean      93.666667\n",
       "std        6.506407\n",
       "min       87.000000\n",
       "25%       90.500000\n",
       "50%       94.000000\n",
       "75%       97.000000\n",
       "max      100.000000\n",
       "dtype: float64"
      ]
     },
     "execution_count": 83,
     "metadata": {},
     "output_type": "execute_result"
    }
   ],
   "source": [
    "grades.describe()"
   ]
  },
  {
   "cell_type": "markdown",
   "id": "960ec771",
   "metadata": {},
   "source": [
    "Строки 25%, 50% и 75% содержат <b>квартили</b>:\n",
    "<ul>\n",
    "    <li>50% — медиана отсортированных значений;</li>\n",
    "    <li>25% — медиана первой половины отсортированных значений;</li>\n",
    "    <li>75% — медиана второй половины отсортированных значений.</li>\n",
    "</ul>\n",
    "Если в квартиле существуют два средних элемента, то медианой этого квартиля становится их среднее значение. <br>\n",
    "Наша коллекция Series состоит из трех значений, так что 25-процентным квартилем становится среднее значение 87 и 94, а 75-процентным квартилем — среднее значение 94 и 100. <br>\n",
    "Еще одной дисперсионной метрикой (наряду со стандартным отклонением и дисперсией) является <b>интерквартильный диапазон</b> — разность между 75-процентным квартилем и 25-процентным квартилем. Конечно, квартили и интерквартильный диапазон приносят больше пользы в больших наборах данных."
   ]
  },
  {
   "cell_type": "markdown",
   "id": "4531e503",
   "metadata": {},
   "source": [
    "### Создание коллекции Series с нестандартными индексами\n",
    "Для назначения <i>нестандартных</i> индексов используется ключевой аргумент index:"
   ]
  },
  {
   "cell_type": "code",
   "execution_count": 84,
   "id": "bf534534",
   "metadata": {},
   "outputs": [
    {
     "data": {
      "text/plain": [
       "Wally     87\n",
       "Eva      100\n",
       "Sam       94\n",
       "dtype: int64"
      ]
     },
     "execution_count": 84,
     "metadata": {},
     "output_type": "execute_result"
    }
   ],
   "source": [
    "grades = pd.Series([87, 100, 94], index=['Wally', 'Eva', 'Sam'])\n",
    "grades"
   ]
  },
  {
   "cell_type": "markdown",
   "id": "e18468bf",
   "metadata": {},
   "source": [
    "В данном случае используются строковые индексы, но можно использовать и другие неизменяемые типы, включая целые числа, не начинающиеся с 0, а также непоследовательные целые числа. Стоит при этом заметить, как удобно и компактно pandas форматирует коллекции Series для вывода."
   ]
  },
  {
   "cell_type": "markdown",
   "id": "08d4d48b",
   "metadata": {},
   "source": [
    "### Словари как инициализаторы\n",
    "Если коллекция Series инициализируется словарем, то ключи становятся индексами Series, а значения — значениями элементов Series:"
   ]
  },
  {
   "cell_type": "code",
   "execution_count": 85,
   "id": "275cc726",
   "metadata": {},
   "outputs": [],
   "source": [
    "grades = pd.Series({'Wally': 87, 'Eva': 100, 'Sam': 94})"
   ]
  },
  {
   "cell_type": "code",
   "execution_count": 86,
   "id": "761e38ee",
   "metadata": {},
   "outputs": [
    {
     "data": {
      "text/plain": [
       "Wally     87\n",
       "Eva      100\n",
       "Sam       94\n",
       "dtype: int64"
      ]
     },
     "execution_count": 86,
     "metadata": {},
     "output_type": "execute_result"
    }
   ],
   "source": [
    "grades"
   ]
  },
  {
   "cell_type": "markdown",
   "id": "4333e7c7",
   "metadata": {},
   "source": [
    "### Обращение к элементам Series с использованием нестандартных индексов\n",
    "Чтобы обратиться к отдельному элементу в коллекции Series с нестандартными индексами, укажите значение нестандартного индекса в квадратных скобках:"
   ]
  },
  {
   "cell_type": "code",
   "execution_count": 87,
   "id": "cdeb8e95",
   "metadata": {},
   "outputs": [
    {
     "data": {
      "text/plain": [
       "100"
      ]
     },
     "execution_count": 87,
     "metadata": {},
     "output_type": "execute_result"
    }
   ],
   "source": [
    "grades['Eva']"
   ]
  },
  {
   "cell_type": "markdown",
   "id": "a8315294",
   "metadata": {},
   "source": [
    "Если нестандартными индексами являются строки, которые могут представлять допустимые идентификаторы Python, то pandas автоматически добавляет их в Series как атрибуты, к которым можно обращаться через точку (.):"
   ]
  },
  {
   "cell_type": "code",
   "execution_count": 88,
   "id": "858fb924",
   "metadata": {},
   "outputs": [
    {
     "data": {
      "text/plain": [
       "87"
      ]
     },
     "execution_count": 88,
     "metadata": {},
     "output_type": "execute_result"
    }
   ],
   "source": [
    "grades.Wally"
   ]
  },
  {
   "cell_type": "markdown",
   "id": "b8ae9255",
   "metadata": {},
   "source": [
    "Коллекция Series также содержит встроенные атрибуты. Например, атрибут dtype возвращает тип элемента базовой коллекции array:"
   ]
  },
  {
   "cell_type": "code",
   "execution_count": 89,
   "id": "7b75a23c",
   "metadata": {},
   "outputs": [
    {
     "data": {
      "text/plain": [
       "dtype('int64')"
      ]
     },
     "execution_count": 89,
     "metadata": {},
     "output_type": "execute_result"
    }
   ],
   "source": [
    "grades.dtype"
   ]
  },
  {
   "cell_type": "markdown",
   "id": "f67cb650",
   "metadata": {},
   "source": [
    "Атрибут values возвращает базовую коллекцию array:"
   ]
  },
  {
   "cell_type": "code",
   "execution_count": 90,
   "id": "25be9871",
   "metadata": {},
   "outputs": [
    {
     "data": {
      "text/plain": [
       "array([ 87, 100,  94], dtype=int64)"
      ]
     },
     "execution_count": 90,
     "metadata": {},
     "output_type": "execute_result"
    }
   ],
   "source": [
    "grades.values"
   ]
  },
  {
   "cell_type": "markdown",
   "id": "e48dde14",
   "metadata": {},
   "source": [
    "### Создание коллекции Series со строковыми элементами\n",
    "Если коллекция Series содержит строки, то можно воспользоваться ее атри\u0002бутом str для вызова методов строк элементов. Сначала создадим коллекцию Series со строками:"
   ]
  },
  {
   "cell_type": "code",
   "execution_count": 91,
   "id": "b004e442",
   "metadata": {},
   "outputs": [
    {
     "data": {
      "text/plain": [
       "0    Hammer\n",
       "1       Saw\n",
       "2    Wrench\n",
       "dtype: object"
      ]
     },
     "execution_count": 91,
     "metadata": {},
     "output_type": "execute_result"
    }
   ],
   "source": [
    "hardware = pd.Series(['Hammer', 'Saw', 'Wrench'])\n",
    "hardware"
   ]
  },
  {
   "cell_type": "markdown",
   "id": "f6a41c62",
   "metadata": {},
   "source": [
    "Обратите внимание: pandas также выравнивает по правому краю строковые значения элементов, а типом данных (dtype) для строк является object.\n",
    "\n",
    "Теперь вызовем метод contains для каждого элемента, чтобы определить, содержит ли значение каждого элемента букву 'a' нижнего регистра:"
   ]
  },
  {
   "cell_type": "code",
   "execution_count": 92,
   "id": "063eb5a9",
   "metadata": {},
   "outputs": [
    {
     "data": {
      "text/plain": [
       "0     True\n",
       "1     True\n",
       "2    False\n",
       "dtype: bool"
      ]
     },
     "execution_count": 92,
     "metadata": {},
     "output_type": "execute_result"
    }
   ],
   "source": [
    "hardware.str.contains('a')"
   ]
  },
  {
   "cell_type": "markdown",
   "id": "78d767b5",
   "metadata": {},
   "source": [
    "## DataFrame\n",
    "<i>DataFrame</i> — расширенная двумерная версия array. Как и Series, DataFrame может иметь нестандартные индексы строк и столбцов и предоставляет дополнительные операции и средства, с которыми удобнее использовать коллекцию DataFrame для многих задач, ориентированных на специфику data science. DataFrame также поддерживает пропущенные данные. Каждый столбец DataFrame является коллекцией Series. Коллекция Series, представляющая каждый столбец, может содержать элементы разных типов, как будет вскоре \n",
    "показано при рассмотрении загрузки наборов данных в DataFrame."
   ]
  },
  {
   "cell_type": "markdown",
   "id": "f73aae0e",
   "metadata": {},
   "source": [
    "### Создание DataFrame на базе словаря\n",
    "Создадим коллекцию DataFrame на базе словаря, представляющего оценки студентов на трех экзаменах:"
   ]
  },
  {
   "cell_type": "code",
   "execution_count": 93,
   "id": "e16bd40e",
   "metadata": {},
   "outputs": [
    {
     "data": {
      "text/html": [
       "<div>\n",
       "<style scoped>\n",
       "    .dataframe tbody tr th:only-of-type {\n",
       "        vertical-align: middle;\n",
       "    }\n",
       "\n",
       "    .dataframe tbody tr th {\n",
       "        vertical-align: top;\n",
       "    }\n",
       "\n",
       "    .dataframe thead th {\n",
       "        text-align: right;\n",
       "    }\n",
       "</style>\n",
       "<table border=\"1\" class=\"dataframe\">\n",
       "  <thead>\n",
       "    <tr style=\"text-align: right;\">\n",
       "      <th></th>\n",
       "      <th>Wally</th>\n",
       "      <th>Eva</th>\n",
       "      <th>Sam</th>\n",
       "      <th>Katie</th>\n",
       "      <th>Bob</th>\n",
       "    </tr>\n",
       "  </thead>\n",
       "  <tbody>\n",
       "    <tr>\n",
       "      <th>0</th>\n",
       "      <td>87</td>\n",
       "      <td>100</td>\n",
       "      <td>94</td>\n",
       "      <td>100</td>\n",
       "      <td>83</td>\n",
       "    </tr>\n",
       "    <tr>\n",
       "      <th>1</th>\n",
       "      <td>96</td>\n",
       "      <td>87</td>\n",
       "      <td>77</td>\n",
       "      <td>81</td>\n",
       "      <td>65</td>\n",
       "    </tr>\n",
       "    <tr>\n",
       "      <th>2</th>\n",
       "      <td>70</td>\n",
       "      <td>90</td>\n",
       "      <td>90</td>\n",
       "      <td>82</td>\n",
       "      <td>85</td>\n",
       "    </tr>\n",
       "  </tbody>\n",
       "</table>\n",
       "</div>"
      ],
      "text/plain": [
       "   Wally  Eva  Sam  Katie  Bob\n",
       "0     87  100   94    100   83\n",
       "1     96   87   77     81   65\n",
       "2     70   90   90     82   85"
      ]
     },
     "execution_count": 93,
     "metadata": {},
     "output_type": "execute_result"
    }
   ],
   "source": [
    "import pandas as pd\n",
    "grades_dict = {'Wally': [87, 96, 70], 'Eva': [100, 87, 90],\n",
    "               'Sam': [94, 77, 90], 'Katie': [100, 81, 82],\n",
    "               'Bob': [83, 65, 85]}\n",
    "grades = pd.DataFrame(grades_dict)\n",
    "grades"
   ]
  },
  {
   "cell_type": "markdown",
   "id": "952b9d58",
   "metadata": {},
   "source": [
    "Pandas выводит содержимое DataFrame в табличном формате с индексами, выровненными по левому краю в столбце индексов, а значения остальных столбцов выравниваются по правому краю. Ключи словаря становятся именами столбцов, а значения, связанные с каждым ключом, становятся значениями элементов соответствующего столбца. Вскоре мы покажем, как поменять местами строки и столбцы. По умолчанию индексы строк задаются автоматически сгенерированными целыми числами, начиная с 0."
   ]
  },
  {
   "cell_type": "markdown",
   "id": "cfe9581e",
   "metadata": {},
   "source": [
    "### Настройка индексов DataFrame с использованием атрибута index\n",
    "При создании DataFrame можно задать нестандартные индексы при помощи ключевого аргумента index:"
   ]
  },
  {
   "cell_type": "code",
   "execution_count": 94,
   "id": "77351beb",
   "metadata": {},
   "outputs": [
    {
     "data": {
      "text/html": [
       "<div>\n",
       "<style scoped>\n",
       "    .dataframe tbody tr th:only-of-type {\n",
       "        vertical-align: middle;\n",
       "    }\n",
       "\n",
       "    .dataframe tbody tr th {\n",
       "        vertical-align: top;\n",
       "    }\n",
       "\n",
       "    .dataframe thead th {\n",
       "        text-align: right;\n",
       "    }\n",
       "</style>\n",
       "<table border=\"1\" class=\"dataframe\">\n",
       "  <thead>\n",
       "    <tr style=\"text-align: right;\">\n",
       "      <th></th>\n",
       "      <th>Wally</th>\n",
       "      <th>Eva</th>\n",
       "      <th>Sam</th>\n",
       "      <th>Katie</th>\n",
       "      <th>Bob</th>\n",
       "    </tr>\n",
       "  </thead>\n",
       "  <tbody>\n",
       "    <tr>\n",
       "      <th>Test1</th>\n",
       "      <td>87</td>\n",
       "      <td>100</td>\n",
       "      <td>94</td>\n",
       "      <td>100</td>\n",
       "      <td>83</td>\n",
       "    </tr>\n",
       "    <tr>\n",
       "      <th>Test2</th>\n",
       "      <td>96</td>\n",
       "      <td>87</td>\n",
       "      <td>77</td>\n",
       "      <td>81</td>\n",
       "      <td>65</td>\n",
       "    </tr>\n",
       "    <tr>\n",
       "      <th>Test3</th>\n",
       "      <td>70</td>\n",
       "      <td>90</td>\n",
       "      <td>90</td>\n",
       "      <td>82</td>\n",
       "      <td>85</td>\n",
       "    </tr>\n",
       "  </tbody>\n",
       "</table>\n",
       "</div>"
      ],
      "text/plain": [
       "       Wally  Eva  Sam  Katie  Bob\n",
       "Test1     87  100   94    100   83\n",
       "Test2     96   87   77     81   65\n",
       "Test3     70   90   90     82   85"
      ]
     },
     "execution_count": 94,
     "metadata": {},
     "output_type": "execute_result"
    }
   ],
   "source": [
    "pd.DataFrame(grades_dict, index=['Test1', 'Test2', 'Test3'])"
   ]
  },
  {
   "cell_type": "markdown",
   "id": "ee31e95b",
   "metadata": {},
   "source": [
    "Воспользуемся атрибутом index для преобразования индексов DataFrame из последовательных целых чисел в текстовые метки:"
   ]
  },
  {
   "cell_type": "code",
   "execution_count": 96,
   "id": "ec0c1790",
   "metadata": {},
   "outputs": [
    {
     "data": {
      "text/html": [
       "<div>\n",
       "<style scoped>\n",
       "    .dataframe tbody tr th:only-of-type {\n",
       "        vertical-align: middle;\n",
       "    }\n",
       "\n",
       "    .dataframe tbody tr th {\n",
       "        vertical-align: top;\n",
       "    }\n",
       "\n",
       "    .dataframe thead th {\n",
       "        text-align: right;\n",
       "    }\n",
       "</style>\n",
       "<table border=\"1\" class=\"dataframe\">\n",
       "  <thead>\n",
       "    <tr style=\"text-align: right;\">\n",
       "      <th></th>\n",
       "      <th>Wally</th>\n",
       "      <th>Eva</th>\n",
       "      <th>Sam</th>\n",
       "      <th>Katie</th>\n",
       "      <th>Bob</th>\n",
       "    </tr>\n",
       "  </thead>\n",
       "  <tbody>\n",
       "    <tr>\n",
       "      <th>Test1</th>\n",
       "      <td>87</td>\n",
       "      <td>100</td>\n",
       "      <td>94</td>\n",
       "      <td>100</td>\n",
       "      <td>83</td>\n",
       "    </tr>\n",
       "    <tr>\n",
       "      <th>Test2</th>\n",
       "      <td>96</td>\n",
       "      <td>87</td>\n",
       "      <td>77</td>\n",
       "      <td>81</td>\n",
       "      <td>65</td>\n",
       "    </tr>\n",
       "    <tr>\n",
       "      <th>Test3</th>\n",
       "      <td>70</td>\n",
       "      <td>90</td>\n",
       "      <td>90</td>\n",
       "      <td>82</td>\n",
       "      <td>85</td>\n",
       "    </tr>\n",
       "  </tbody>\n",
       "</table>\n",
       "</div>"
      ],
      "text/plain": [
       "       Wally  Eva  Sam  Katie  Bob\n",
       "Test1     87  100   94    100   83\n",
       "Test2     96   87   77     81   65\n",
       "Test3     70   90   90     82   85"
      ]
     },
     "execution_count": 96,
     "metadata": {},
     "output_type": "execute_result"
    }
   ],
   "source": [
    "grades.index = ['Test1', 'Test2', 'Test3']\n",
    "grades"
   ]
  },
  {
   "cell_type": "markdown",
   "id": "2ba70a13",
   "metadata": {},
   "source": [
    "При задании индексов необходимо передать одномерную коллекцию, количество элементов в которой совпадает с количеством строк данных в DataFrame; в противном случае происходит ошибка ValueError. Series также предоставляет атрибут index для изменения существующих индексов Series."
   ]
  },
  {
   "cell_type": "markdown",
   "id": "ad209e38",
   "metadata": {},
   "source": [
    "### Обращение к столбцам DataFrame\n",
    "Одна из сильных сторон pandas — возможность быстро и удобно просматривать данные многими разными способами, включая отдельные части данных. <br>\n",
    "Начнем с получения оценок студента Eva по имени и вывода столбца в формате Series:"
   ]
  },
  {
   "cell_type": "markdown",
   "id": "5656c878",
   "metadata": {},
   "source": [
    "Если строки с именами столбцов DataFrame являются допустимыми идентификаторами Python, они могут использоваться как атрибуты. Получим оценки студента Sam при помощи атрибута Sam:"
   ]
  },
  {
   "cell_type": "code",
   "execution_count": 97,
   "id": "e23563f0",
   "metadata": {},
   "outputs": [
    {
     "data": {
      "text/plain": [
       "Test1    94\n",
       "Test2    77\n",
       "Test3    90\n",
       "Name: Sam, dtype: int64"
      ]
     },
     "execution_count": 97,
     "metadata": {},
     "output_type": "execute_result"
    }
   ],
   "source": [
    "grades['Sam']"
   ]
  },
  {
   "cell_type": "markdown",
   "id": "8b317412",
   "metadata": {},
   "source": [
    "### Выбор строк с использованием атрибутов loc и iloc\n",
    "Хотя коллекции DataFrame поддерживают возможность индексирования в синтаксисе [], документация pandas рекомендует использовать атрибуты loc, iloc, at и iat, которые оптимизированы для обращения к DataFrame и предоставляют дополнительные средства, выходящие за рамки того, что можно сделать исключительно с []. В документации указано, что при индексировании [] часто создается копия данных, что может привести к логической ошибке, если вы попытаетесь присвоить новые значения DataFrame результату операции []. \n",
    "\n",
    "Чтобы обратиться к строке по ее текстовой метке, воспользуйтесь атрибутом loc коллекции DataFrame. Ниже выводятся все оценки из строки 'Test1': "
   ]
  },
  {
   "cell_type": "code",
   "execution_count": 98,
   "id": "f8410344",
   "metadata": {},
   "outputs": [
    {
     "data": {
      "text/plain": [
       "Wally     87\n",
       "Eva      100\n",
       "Sam       94\n",
       "Katie    100\n",
       "Bob       83\n",
       "Name: Test1, dtype: int64"
      ]
     },
     "execution_count": 98,
     "metadata": {},
     "output_type": "execute_result"
    }
   ],
   "source": [
    "grades.loc['Test1']"
   ]
  },
  {
   "cell_type": "markdown",
   "id": "33e1d0c1",
   "metadata": {},
   "source": [
    "К строкам также можно обращаться по целочисленным индексам, начинающимся с 0, при помощи атрибута iloc (буква i в iloc означает, что атрибут используется с целочисленными индексами). Следующий пример выводит все оценки из второй строки:"
   ]
  },
  {
   "cell_type": "code",
   "execution_count": 99,
   "id": "d4b62814",
   "metadata": {},
   "outputs": [
    {
     "data": {
      "text/plain": [
       "Wally    96\n",
       "Eva      87\n",
       "Sam      77\n",
       "Katie    81\n",
       "Bob      65\n",
       "Name: Test2, dtype: int64"
      ]
     },
     "execution_count": 99,
     "metadata": {},
     "output_type": "execute_result"
    }
   ],
   "source": [
    "grades.iloc[1]"
   ]
  },
  {
   "cell_type": "markdown",
   "id": "bf2e4a73",
   "metadata": {},
   "source": [
    "### Выбор строк с использованием атрибутов loc и iloc\n",
    "Индексом может быть и <i>сегмент</i>. При использовании с атрибутом loc сегментов, содержащих метки, заданный диапазон <i>включает</i> верхний индекс ('Test3'):"
   ]
  },
  {
   "cell_type": "code",
   "execution_count": 100,
   "id": "61303d7a",
   "metadata": {},
   "outputs": [
    {
     "data": {
      "text/html": [
       "<div>\n",
       "<style scoped>\n",
       "    .dataframe tbody tr th:only-of-type {\n",
       "        vertical-align: middle;\n",
       "    }\n",
       "\n",
       "    .dataframe tbody tr th {\n",
       "        vertical-align: top;\n",
       "    }\n",
       "\n",
       "    .dataframe thead th {\n",
       "        text-align: right;\n",
       "    }\n",
       "</style>\n",
       "<table border=\"1\" class=\"dataframe\">\n",
       "  <thead>\n",
       "    <tr style=\"text-align: right;\">\n",
       "      <th></th>\n",
       "      <th>Wally</th>\n",
       "      <th>Eva</th>\n",
       "      <th>Sam</th>\n",
       "      <th>Katie</th>\n",
       "      <th>Bob</th>\n",
       "    </tr>\n",
       "  </thead>\n",
       "  <tbody>\n",
       "    <tr>\n",
       "      <th>Test1</th>\n",
       "      <td>87</td>\n",
       "      <td>100</td>\n",
       "      <td>94</td>\n",
       "      <td>100</td>\n",
       "      <td>83</td>\n",
       "    </tr>\n",
       "    <tr>\n",
       "      <th>Test2</th>\n",
       "      <td>96</td>\n",
       "      <td>87</td>\n",
       "      <td>77</td>\n",
       "      <td>81</td>\n",
       "      <td>65</td>\n",
       "    </tr>\n",
       "    <tr>\n",
       "      <th>Test3</th>\n",
       "      <td>70</td>\n",
       "      <td>90</td>\n",
       "      <td>90</td>\n",
       "      <td>82</td>\n",
       "      <td>85</td>\n",
       "    </tr>\n",
       "  </tbody>\n",
       "</table>\n",
       "</div>"
      ],
      "text/plain": [
       "       Wally  Eva  Sam  Katie  Bob\n",
       "Test1     87  100   94    100   83\n",
       "Test2     96   87   77     81   65\n",
       "Test3     70   90   90     82   85"
      ]
     },
     "execution_count": 100,
     "metadata": {},
     "output_type": "execute_result"
    }
   ],
   "source": [
    "grades.loc['Test1':'Test3']"
   ]
  },
  {
   "cell_type": "markdown",
   "id": "e1f147f3",
   "metadata": {},
   "source": [
    "При использовании с атрибутом iloc сегментов, содержащих целочисленные индексы, заданный диапазон <i>не включает</i> верхний индекс (2):"
   ]
  },
  {
   "cell_type": "code",
   "execution_count": 101,
   "id": "1004282f",
   "metadata": {},
   "outputs": [
    {
     "data": {
      "text/html": [
       "<div>\n",
       "<style scoped>\n",
       "    .dataframe tbody tr th:only-of-type {\n",
       "        vertical-align: middle;\n",
       "    }\n",
       "\n",
       "    .dataframe tbody tr th {\n",
       "        vertical-align: top;\n",
       "    }\n",
       "\n",
       "    .dataframe thead th {\n",
       "        text-align: right;\n",
       "    }\n",
       "</style>\n",
       "<table border=\"1\" class=\"dataframe\">\n",
       "  <thead>\n",
       "    <tr style=\"text-align: right;\">\n",
       "      <th></th>\n",
       "      <th>Wally</th>\n",
       "      <th>Eva</th>\n",
       "      <th>Sam</th>\n",
       "      <th>Katie</th>\n",
       "      <th>Bob</th>\n",
       "    </tr>\n",
       "  </thead>\n",
       "  <tbody>\n",
       "    <tr>\n",
       "      <th>Test1</th>\n",
       "      <td>87</td>\n",
       "      <td>100</td>\n",
       "      <td>94</td>\n",
       "      <td>100</td>\n",
       "      <td>83</td>\n",
       "    </tr>\n",
       "    <tr>\n",
       "      <th>Test2</th>\n",
       "      <td>96</td>\n",
       "      <td>87</td>\n",
       "      <td>77</td>\n",
       "      <td>81</td>\n",
       "      <td>65</td>\n",
       "    </tr>\n",
       "  </tbody>\n",
       "</table>\n",
       "</div>"
      ],
      "text/plain": [
       "       Wally  Eva  Sam  Katie  Bob\n",
       "Test1     87  100   94    100   83\n",
       "Test2     96   87   77     81   65"
      ]
     },
     "execution_count": 101,
     "metadata": {},
     "output_type": "execute_result"
    }
   ],
   "source": [
    "grades.iloc[0:2]"
   ]
  },
  {
   "cell_type": "markdown",
   "id": "dcccf2a8",
   "metadata": {},
   "source": [
    "### Выбор подмножеств строк и столбцов\n",
    "До настоящего момента мы выбирали только целые строки. Вы также можете ограничиться меньшими подмножествами DataFrame и выбирать строки и столбцы с использованием двух сегментов, двух списков или сочетания сегментов и списков. \n",
    "\n",
    "Предположим, вы хотите просмотреть только оценки студентов Eva и Katie для экзаменов Test1 и Test2. Для этого можно воспользоваться атрибутом loc с сегментом для двух последовательных строк и списком для двух непоследовательных столбцов:"
   ]
  },
  {
   "cell_type": "code",
   "execution_count": 102,
   "id": "e816ee66",
   "metadata": {},
   "outputs": [
    {
     "data": {
      "text/html": [
       "<div>\n",
       "<style scoped>\n",
       "    .dataframe tbody tr th:only-of-type {\n",
       "        vertical-align: middle;\n",
       "    }\n",
       "\n",
       "    .dataframe tbody tr th {\n",
       "        vertical-align: top;\n",
       "    }\n",
       "\n",
       "    .dataframe thead th {\n",
       "        text-align: right;\n",
       "    }\n",
       "</style>\n",
       "<table border=\"1\" class=\"dataframe\">\n",
       "  <thead>\n",
       "    <tr style=\"text-align: right;\">\n",
       "      <th></th>\n",
       "      <th>Eva</th>\n",
       "      <th>Katie</th>\n",
       "    </tr>\n",
       "  </thead>\n",
       "  <tbody>\n",
       "    <tr>\n",
       "      <th>Test1</th>\n",
       "      <td>100</td>\n",
       "      <td>100</td>\n",
       "    </tr>\n",
       "    <tr>\n",
       "      <th>Test2</th>\n",
       "      <td>87</td>\n",
       "      <td>81</td>\n",
       "    </tr>\n",
       "  </tbody>\n",
       "</table>\n",
       "</div>"
      ],
      "text/plain": [
       "       Eva  Katie\n",
       "Test1  100    100\n",
       "Test2   87     81"
      ]
     },
     "execution_count": 102,
     "metadata": {},
     "output_type": "execute_result"
    }
   ],
   "source": [
    "grades.loc['Test1':'Test2', ['Eva', 'Katie']]"
   ]
  },
  {
   "cell_type": "markdown",
   "id": "eff4e224",
   "metadata": {},
   "source": [
    "Сегмент 'Test1':'Test2' выбирает строки для Test1 и Test2. Список ['Eva', 'Katie'] выбирает только соответствующие оценки из этих двух столбцов.\n",
    "\n",
    "Воспользуемся iloc со списком и сегментом, чтобы выбрать первый и третий экзамены и первые три столбца для этих экзаменов:"
   ]
  },
  {
   "cell_type": "code",
   "execution_count": 103,
   "id": "ba9428af",
   "metadata": {},
   "outputs": [
    {
     "data": {
      "text/html": [
       "<div>\n",
       "<style scoped>\n",
       "    .dataframe tbody tr th:only-of-type {\n",
       "        vertical-align: middle;\n",
       "    }\n",
       "\n",
       "    .dataframe tbody tr th {\n",
       "        vertical-align: top;\n",
       "    }\n",
       "\n",
       "    .dataframe thead th {\n",
       "        text-align: right;\n",
       "    }\n",
       "</style>\n",
       "<table border=\"1\" class=\"dataframe\">\n",
       "  <thead>\n",
       "    <tr style=\"text-align: right;\">\n",
       "      <th></th>\n",
       "      <th>Wally</th>\n",
       "      <th>Eva</th>\n",
       "      <th>Sam</th>\n",
       "    </tr>\n",
       "  </thead>\n",
       "  <tbody>\n",
       "    <tr>\n",
       "      <th>Test1</th>\n",
       "      <td>87</td>\n",
       "      <td>100</td>\n",
       "      <td>94</td>\n",
       "    </tr>\n",
       "    <tr>\n",
       "      <th>Test3</th>\n",
       "      <td>70</td>\n",
       "      <td>90</td>\n",
       "      <td>90</td>\n",
       "    </tr>\n",
       "  </tbody>\n",
       "</table>\n",
       "</div>"
      ],
      "text/plain": [
       "       Wally  Eva  Sam\n",
       "Test1     87  100   94\n",
       "Test3     70   90   90"
      ]
     },
     "execution_count": 103,
     "metadata": {},
     "output_type": "execute_result"
    }
   ],
   "source": [
    "grades.iloc[[0, 2], 0:3]"
   ]
  },
  {
   "cell_type": "markdown",
   "id": "f8c60b1d",
   "metadata": {},
   "source": [
    "### Логическое индексирование\n",
    "Одним из самых мощных средств выбора в pandas является логическое индексирование. Для примера выберем все оценки, большие или равные 90:"
   ]
  },
  {
   "cell_type": "code",
   "execution_count": 104,
   "id": "12861366",
   "metadata": {},
   "outputs": [
    {
     "data": {
      "text/html": [
       "<div>\n",
       "<style scoped>\n",
       "    .dataframe tbody tr th:only-of-type {\n",
       "        vertical-align: middle;\n",
       "    }\n",
       "\n",
       "    .dataframe tbody tr th {\n",
       "        vertical-align: top;\n",
       "    }\n",
       "\n",
       "    .dataframe thead th {\n",
       "        text-align: right;\n",
       "    }\n",
       "</style>\n",
       "<table border=\"1\" class=\"dataframe\">\n",
       "  <thead>\n",
       "    <tr style=\"text-align: right;\">\n",
       "      <th></th>\n",
       "      <th>Wally</th>\n",
       "      <th>Eva</th>\n",
       "      <th>Sam</th>\n",
       "      <th>Katie</th>\n",
       "      <th>Bob</th>\n",
       "    </tr>\n",
       "  </thead>\n",
       "  <tbody>\n",
       "    <tr>\n",
       "      <th>Test1</th>\n",
       "      <td>NaN</td>\n",
       "      <td>100.0</td>\n",
       "      <td>94.0</td>\n",
       "      <td>100.0</td>\n",
       "      <td>NaN</td>\n",
       "    </tr>\n",
       "    <tr>\n",
       "      <th>Test2</th>\n",
       "      <td>96.0</td>\n",
       "      <td>NaN</td>\n",
       "      <td>NaN</td>\n",
       "      <td>NaN</td>\n",
       "      <td>NaN</td>\n",
       "    </tr>\n",
       "    <tr>\n",
       "      <th>Test3</th>\n",
       "      <td>NaN</td>\n",
       "      <td>90.0</td>\n",
       "      <td>90.0</td>\n",
       "      <td>NaN</td>\n",
       "      <td>NaN</td>\n",
       "    </tr>\n",
       "  </tbody>\n",
       "</table>\n",
       "</div>"
      ],
      "text/plain": [
       "       Wally    Eva   Sam  Katie  Bob\n",
       "Test1    NaN  100.0  94.0  100.0  NaN\n",
       "Test2   96.0    NaN   NaN    NaN  NaN\n",
       "Test3    NaN   90.0  90.0    NaN  NaN"
      ]
     },
     "execution_count": 104,
     "metadata": {},
     "output_type": "execute_result"
    }
   ],
   "source": [
    "grades[grades >= 90]"
   ]
  },
  {
   "cell_type": "markdown",
   "id": "8f30ec85",
   "metadata": {},
   "source": [
    "Pandas проверяет каждую оценку и, если она больше или равна 90, включает ее в новую коллекцию DataFrame. Оценки, для которых условие равно False, представлены в новой коллекции DataFrame значением NaN («Not A Number», то есть «не число».) NaN используется pandas для обозначения отсутствующих значений."
   ]
  },
  {
   "cell_type": "markdown",
   "id": "25c9c10f",
   "metadata": {},
   "source": [
    "Выберем все оценки в диапазоне 80–89:"
   ]
  },
  {
   "cell_type": "code",
   "execution_count": 105,
   "id": "f2071efe",
   "metadata": {},
   "outputs": [
    {
     "data": {
      "text/html": [
       "<div>\n",
       "<style scoped>\n",
       "    .dataframe tbody tr th:only-of-type {\n",
       "        vertical-align: middle;\n",
       "    }\n",
       "\n",
       "    .dataframe tbody tr th {\n",
       "        vertical-align: top;\n",
       "    }\n",
       "\n",
       "    .dataframe thead th {\n",
       "        text-align: right;\n",
       "    }\n",
       "</style>\n",
       "<table border=\"1\" class=\"dataframe\">\n",
       "  <thead>\n",
       "    <tr style=\"text-align: right;\">\n",
       "      <th></th>\n",
       "      <th>Wally</th>\n",
       "      <th>Eva</th>\n",
       "      <th>Sam</th>\n",
       "      <th>Katie</th>\n",
       "      <th>Bob</th>\n",
       "    </tr>\n",
       "  </thead>\n",
       "  <tbody>\n",
       "    <tr>\n",
       "      <th>Test1</th>\n",
       "      <td>87.0</td>\n",
       "      <td>NaN</td>\n",
       "      <td>NaN</td>\n",
       "      <td>NaN</td>\n",
       "      <td>83.0</td>\n",
       "    </tr>\n",
       "    <tr>\n",
       "      <th>Test2</th>\n",
       "      <td>NaN</td>\n",
       "      <td>87.0</td>\n",
       "      <td>NaN</td>\n",
       "      <td>81.0</td>\n",
       "      <td>NaN</td>\n",
       "    </tr>\n",
       "    <tr>\n",
       "      <th>Test3</th>\n",
       "      <td>NaN</td>\n",
       "      <td>NaN</td>\n",
       "      <td>NaN</td>\n",
       "      <td>82.0</td>\n",
       "      <td>85.0</td>\n",
       "    </tr>\n",
       "  </tbody>\n",
       "</table>\n",
       "</div>"
      ],
      "text/plain": [
       "       Wally   Eva  Sam  Katie   Bob\n",
       "Test1   87.0   NaN  NaN    NaN  83.0\n",
       "Test2    NaN  87.0  NaN   81.0   NaN\n",
       "Test3    NaN   NaN  NaN   82.0  85.0"
      ]
     },
     "execution_count": 105,
     "metadata": {},
     "output_type": "execute_result"
    }
   ],
   "source": [
    "grades[(grades >= 80) & (grades < 90)]"
   ]
  },
  {
   "cell_type": "markdown",
   "id": "119dfcc6",
   "metadata": {},
   "source": [
    "Логические индексы Pandas объединяют несколько условий оператором Python & (поразрядная операция И) — не путайте с логическим оператором and. Для условий or используется оператор | (поразрядная операция ИЛИ). NumPy также поддерживает логическое индексирование для массивов, но всегда возвращает одномерный массив, содержащий только те значения, для которых выполняется условие."
   ]
  },
  {
   "cell_type": "markdown",
   "id": "817ea583",
   "metadata": {},
   "source": [
    "### Описательная статистика\n",
    "Коллекции Series и DataFrame содержат метод describe, который вычисляет основные характеристики описательной статистики для данных и возвращает их в форме DataFrame. В DataFrame статистики вычисляются по столбцам."
   ]
  },
  {
   "cell_type": "code",
   "execution_count": 106,
   "id": "f8f204cc",
   "metadata": {},
   "outputs": [
    {
     "data": {
      "text/html": [
       "<div>\n",
       "<style scoped>\n",
       "    .dataframe tbody tr th:only-of-type {\n",
       "        vertical-align: middle;\n",
       "    }\n",
       "\n",
       "    .dataframe tbody tr th {\n",
       "        vertical-align: top;\n",
       "    }\n",
       "\n",
       "    .dataframe thead th {\n",
       "        text-align: right;\n",
       "    }\n",
       "</style>\n",
       "<table border=\"1\" class=\"dataframe\">\n",
       "  <thead>\n",
       "    <tr style=\"text-align: right;\">\n",
       "      <th></th>\n",
       "      <th>Wally</th>\n",
       "      <th>Eva</th>\n",
       "      <th>Sam</th>\n",
       "      <th>Katie</th>\n",
       "      <th>Bob</th>\n",
       "    </tr>\n",
       "  </thead>\n",
       "  <tbody>\n",
       "    <tr>\n",
       "      <th>count</th>\n",
       "      <td>3.000000</td>\n",
       "      <td>3.000000</td>\n",
       "      <td>3.000000</td>\n",
       "      <td>3.000000</td>\n",
       "      <td>3.000000</td>\n",
       "    </tr>\n",
       "    <tr>\n",
       "      <th>mean</th>\n",
       "      <td>84.333333</td>\n",
       "      <td>92.333333</td>\n",
       "      <td>87.000000</td>\n",
       "      <td>87.666667</td>\n",
       "      <td>77.666667</td>\n",
       "    </tr>\n",
       "    <tr>\n",
       "      <th>std</th>\n",
       "      <td>13.203535</td>\n",
       "      <td>6.806859</td>\n",
       "      <td>8.888194</td>\n",
       "      <td>10.692677</td>\n",
       "      <td>11.015141</td>\n",
       "    </tr>\n",
       "    <tr>\n",
       "      <th>min</th>\n",
       "      <td>70.000000</td>\n",
       "      <td>87.000000</td>\n",
       "      <td>77.000000</td>\n",
       "      <td>81.000000</td>\n",
       "      <td>65.000000</td>\n",
       "    </tr>\n",
       "    <tr>\n",
       "      <th>25%</th>\n",
       "      <td>78.500000</td>\n",
       "      <td>88.500000</td>\n",
       "      <td>83.500000</td>\n",
       "      <td>81.500000</td>\n",
       "      <td>74.000000</td>\n",
       "    </tr>\n",
       "    <tr>\n",
       "      <th>50%</th>\n",
       "      <td>87.000000</td>\n",
       "      <td>90.000000</td>\n",
       "      <td>90.000000</td>\n",
       "      <td>82.000000</td>\n",
       "      <td>83.000000</td>\n",
       "    </tr>\n",
       "    <tr>\n",
       "      <th>75%</th>\n",
       "      <td>91.500000</td>\n",
       "      <td>95.000000</td>\n",
       "      <td>92.000000</td>\n",
       "      <td>91.000000</td>\n",
       "      <td>84.000000</td>\n",
       "    </tr>\n",
       "    <tr>\n",
       "      <th>max</th>\n",
       "      <td>96.000000</td>\n",
       "      <td>100.000000</td>\n",
       "      <td>94.000000</td>\n",
       "      <td>100.000000</td>\n",
       "      <td>85.000000</td>\n",
       "    </tr>\n",
       "  </tbody>\n",
       "</table>\n",
       "</div>"
      ],
      "text/plain": [
       "           Wally         Eva        Sam       Katie        Bob\n",
       "count   3.000000    3.000000   3.000000    3.000000   3.000000\n",
       "mean   84.333333   92.333333  87.000000   87.666667  77.666667\n",
       "std    13.203535    6.806859   8.888194   10.692677  11.015141\n",
       "min    70.000000   87.000000  77.000000   81.000000  65.000000\n",
       "25%    78.500000   88.500000  83.500000   81.500000  74.000000\n",
       "50%    87.000000   90.000000  90.000000   82.000000  83.000000\n",
       "75%    91.500000   95.000000  92.000000   91.000000  84.000000\n",
       "max    96.000000  100.000000  94.000000  100.000000  85.000000"
      ]
     },
     "execution_count": 106,
     "metadata": {},
     "output_type": "execute_result"
    }
   ],
   "source": [
    "grades.describe()"
   ]
  },
  {
   "cell_type": "markdown",
   "id": "b4db8fe8",
   "metadata": {},
   "source": [
    "Как видно из вывода, метод describe позволяет быстро получить сводную картину данных. Он неплохо демонстрирует мощь программирования, ориентированного на массивы, на примере понятного, компактного вызова в функциональном стиле. Pandas берет на себя все подробности вычисления этих статистик для каждого столбца. Возможно, вам захочется получить аналогичную статистику для экзаменов, чтобы уяснить, какие результаты показали студенты на экзаменах Test1, Test2 и Test3, — вскоре мы покажем, \n",
    "как это делается.\n",
    "\n",
    "По умолчанию pandas вычисляет характеристики описательной статистики в формате чисел с плавающей точкой и выводит их с шестью знаками точности. Для управления точностью и другими настройками по умолчанию может использоваться функция pandas set_option:"
   ]
  },
  {
   "cell_type": "code",
   "execution_count": 108,
   "id": "e16aa7fa",
   "metadata": {},
   "outputs": [
    {
     "data": {
      "text/html": [
       "<div>\n",
       "<style scoped>\n",
       "    .dataframe tbody tr th:only-of-type {\n",
       "        vertical-align: middle;\n",
       "    }\n",
       "\n",
       "    .dataframe tbody tr th {\n",
       "        vertical-align: top;\n",
       "    }\n",
       "\n",
       "    .dataframe thead th {\n",
       "        text-align: right;\n",
       "    }\n",
       "</style>\n",
       "<table border=\"1\" class=\"dataframe\">\n",
       "  <thead>\n",
       "    <tr style=\"text-align: right;\">\n",
       "      <th></th>\n",
       "      <th>Wally</th>\n",
       "      <th>Eva</th>\n",
       "      <th>Sam</th>\n",
       "      <th>Katie</th>\n",
       "      <th>Bob</th>\n",
       "    </tr>\n",
       "  </thead>\n",
       "  <tbody>\n",
       "    <tr>\n",
       "      <th>count</th>\n",
       "      <td>3.00</td>\n",
       "      <td>3.00</td>\n",
       "      <td>3.00</td>\n",
       "      <td>3.00</td>\n",
       "      <td>3.00</td>\n",
       "    </tr>\n",
       "    <tr>\n",
       "      <th>mean</th>\n",
       "      <td>84.33</td>\n",
       "      <td>92.33</td>\n",
       "      <td>87.00</td>\n",
       "      <td>87.67</td>\n",
       "      <td>77.67</td>\n",
       "    </tr>\n",
       "    <tr>\n",
       "      <th>std</th>\n",
       "      <td>13.20</td>\n",
       "      <td>6.81</td>\n",
       "      <td>8.89</td>\n",
       "      <td>10.69</td>\n",
       "      <td>11.02</td>\n",
       "    </tr>\n",
       "    <tr>\n",
       "      <th>min</th>\n",
       "      <td>70.00</td>\n",
       "      <td>87.00</td>\n",
       "      <td>77.00</td>\n",
       "      <td>81.00</td>\n",
       "      <td>65.00</td>\n",
       "    </tr>\n",
       "    <tr>\n",
       "      <th>25%</th>\n",
       "      <td>78.50</td>\n",
       "      <td>88.50</td>\n",
       "      <td>83.50</td>\n",
       "      <td>81.50</td>\n",
       "      <td>74.00</td>\n",
       "    </tr>\n",
       "    <tr>\n",
       "      <th>50%</th>\n",
       "      <td>87.00</td>\n",
       "      <td>90.00</td>\n",
       "      <td>90.00</td>\n",
       "      <td>82.00</td>\n",
       "      <td>83.00</td>\n",
       "    </tr>\n",
       "    <tr>\n",
       "      <th>75%</th>\n",
       "      <td>91.50</td>\n",
       "      <td>95.00</td>\n",
       "      <td>92.00</td>\n",
       "      <td>91.00</td>\n",
       "      <td>84.00</td>\n",
       "    </tr>\n",
       "    <tr>\n",
       "      <th>max</th>\n",
       "      <td>96.00</td>\n",
       "      <td>100.00</td>\n",
       "      <td>94.00</td>\n",
       "      <td>100.00</td>\n",
       "      <td>85.00</td>\n",
       "    </tr>\n",
       "  </tbody>\n",
       "</table>\n",
       "</div>"
      ],
      "text/plain": [
       "       Wally     Eva    Sam   Katie    Bob\n",
       "count   3.00    3.00   3.00    3.00   3.00\n",
       "mean   84.33   92.33  87.00   87.67  77.67\n",
       "std    13.20    6.81   8.89   10.69  11.02\n",
       "min    70.00   87.00  77.00   81.00  65.00\n",
       "25%    78.50   88.50  83.50   81.50  74.00\n",
       "50%    87.00   90.00  90.00   82.00  83.00\n",
       "75%    91.50   95.00  92.00   91.00  84.00\n",
       "max    96.00  100.00  94.00  100.00  85.00"
      ]
     },
     "execution_count": 108,
     "metadata": {},
     "output_type": "execute_result"
    }
   ],
   "source": [
    "pd.set_option('precision', 2)\n",
    "grades.describe()"
   ]
  },
  {
   "cell_type": "markdown",
   "id": "5dfda0c0",
   "metadata": {},
   "source": [
    "Вероятно, для оценок самой важной характеристикой является математическое ожидание. Чтобы вычислить его для каждого студента, достаточно вызвать mean для коллекции DataFrame:"
   ]
  },
  {
   "cell_type": "code",
   "execution_count": 109,
   "id": "59bf7ddf",
   "metadata": {},
   "outputs": [
    {
     "data": {
      "text/plain": [
       "Wally    84.33\n",
       "Eva      92.33\n",
       "Sam      87.00\n",
       "Katie    87.67\n",
       "Bob      77.67\n",
       "dtype: float64"
      ]
     },
     "execution_count": 109,
     "metadata": {},
     "output_type": "execute_result"
    }
   ],
   "source": [
    "grades.mean()"
   ]
  },
  {
   "cell_type": "markdown",
   "id": "0fe12068",
   "metadata": {},
   "source": [
    "### Сортировка строк по индексам\n",
    "Данные часто сортируются для удобства чтения. DataFrame можно сортировать по строкам и по столбцам как по индексам, так и по значениям. Отсортируем строки по убыванию индексов при помощи функции sort_index, которой передается ключевой аргумент <b>ascending=False</b> (по умолчанию сортировка выполняется по возрастанию). Функция возвращает новую коллекцию DataFrame\n",
    "с отсортированными данными:"
   ]
  },
  {
   "cell_type": "code",
   "execution_count": 110,
   "id": "7623422a",
   "metadata": {},
   "outputs": [
    {
     "data": {
      "text/html": [
       "<div>\n",
       "<style scoped>\n",
       "    .dataframe tbody tr th:only-of-type {\n",
       "        vertical-align: middle;\n",
       "    }\n",
       "\n",
       "    .dataframe tbody tr th {\n",
       "        vertical-align: top;\n",
       "    }\n",
       "\n",
       "    .dataframe thead th {\n",
       "        text-align: right;\n",
       "    }\n",
       "</style>\n",
       "<table border=\"1\" class=\"dataframe\">\n",
       "  <thead>\n",
       "    <tr style=\"text-align: right;\">\n",
       "      <th></th>\n",
       "      <th>Wally</th>\n",
       "      <th>Eva</th>\n",
       "      <th>Sam</th>\n",
       "      <th>Katie</th>\n",
       "      <th>Bob</th>\n",
       "    </tr>\n",
       "  </thead>\n",
       "  <tbody>\n",
       "    <tr>\n",
       "      <th>Test3</th>\n",
       "      <td>70</td>\n",
       "      <td>90</td>\n",
       "      <td>90</td>\n",
       "      <td>82</td>\n",
       "      <td>85</td>\n",
       "    </tr>\n",
       "    <tr>\n",
       "      <th>Test2</th>\n",
       "      <td>96</td>\n",
       "      <td>87</td>\n",
       "      <td>77</td>\n",
       "      <td>81</td>\n",
       "      <td>65</td>\n",
       "    </tr>\n",
       "    <tr>\n",
       "      <th>Test1</th>\n",
       "      <td>87</td>\n",
       "      <td>100</td>\n",
       "      <td>94</td>\n",
       "      <td>100</td>\n",
       "      <td>83</td>\n",
       "    </tr>\n",
       "  </tbody>\n",
       "</table>\n",
       "</div>"
      ],
      "text/plain": [
       "       Wally  Eva  Sam  Katie  Bob\n",
       "Test3     70   90   90     82   85\n",
       "Test2     96   87   77     81   65\n",
       "Test1     87  100   94    100   83"
      ]
     },
     "execution_count": 110,
     "metadata": {},
     "output_type": "execute_result"
    }
   ],
   "source": [
    "grades.sort_index(ascending=False)"
   ]
  },
  {
   "cell_type": "markdown",
   "id": "4b4b8cef",
   "metadata": {},
   "source": [
    "### Сортировка по индексам столбцов\n",
    "Теперь отсортируем столбцы по возрастанию (слева направо) по именам столбцов. Ключевой аргумент <b>axis=1</b> означает, что сортировка должна выполняться по индексам столбцов, а не по индексам строк — аргумент <b>axis=0</b> (по умолчанию) сортирует индексы строк:"
   ]
  },
  {
   "cell_type": "code",
   "execution_count": 111,
   "id": "7a650e59",
   "metadata": {},
   "outputs": [
    {
     "data": {
      "text/html": [
       "<div>\n",
       "<style scoped>\n",
       "    .dataframe tbody tr th:only-of-type {\n",
       "        vertical-align: middle;\n",
       "    }\n",
       "\n",
       "    .dataframe tbody tr th {\n",
       "        vertical-align: top;\n",
       "    }\n",
       "\n",
       "    .dataframe thead th {\n",
       "        text-align: right;\n",
       "    }\n",
       "</style>\n",
       "<table border=\"1\" class=\"dataframe\">\n",
       "  <thead>\n",
       "    <tr style=\"text-align: right;\">\n",
       "      <th></th>\n",
       "      <th>Bob</th>\n",
       "      <th>Eva</th>\n",
       "      <th>Katie</th>\n",
       "      <th>Sam</th>\n",
       "      <th>Wally</th>\n",
       "    </tr>\n",
       "  </thead>\n",
       "  <tbody>\n",
       "    <tr>\n",
       "      <th>Test1</th>\n",
       "      <td>83</td>\n",
       "      <td>100</td>\n",
       "      <td>100</td>\n",
       "      <td>94</td>\n",
       "      <td>87</td>\n",
       "    </tr>\n",
       "    <tr>\n",
       "      <th>Test2</th>\n",
       "      <td>65</td>\n",
       "      <td>87</td>\n",
       "      <td>81</td>\n",
       "      <td>77</td>\n",
       "      <td>96</td>\n",
       "    </tr>\n",
       "    <tr>\n",
       "      <th>Test3</th>\n",
       "      <td>85</td>\n",
       "      <td>90</td>\n",
       "      <td>82</td>\n",
       "      <td>90</td>\n",
       "      <td>70</td>\n",
       "    </tr>\n",
       "  </tbody>\n",
       "</table>\n",
       "</div>"
      ],
      "text/plain": [
       "       Bob  Eva  Katie  Sam  Wally\n",
       "Test1   83  100    100   94     87\n",
       "Test2   65   87     81   77     96\n",
       "Test3   85   90     82   90     70"
      ]
     },
     "execution_count": 111,
     "metadata": {},
     "output_type": "execute_result"
    }
   ],
   "source": [
    "grades.sort_index(axis=1)"
   ]
  },
  {
   "cell_type": "markdown",
   "id": "ba41e4bd",
   "metadata": {},
   "source": [
    "### Сортировка по значениям столбцов\n",
    "Предположим, вы хотите просмотреть оценки Test1 по убыванию, чтобы имена студентов следовали от наибольшей оценки к наименьшей. Вызов метода sort_values выглядит так:"
   ]
  },
  {
   "cell_type": "code",
   "execution_count": 112,
   "id": "4219904e",
   "metadata": {},
   "outputs": [
    {
     "data": {
      "text/html": [
       "<div>\n",
       "<style scoped>\n",
       "    .dataframe tbody tr th:only-of-type {\n",
       "        vertical-align: middle;\n",
       "    }\n",
       "\n",
       "    .dataframe tbody tr th {\n",
       "        vertical-align: top;\n",
       "    }\n",
       "\n",
       "    .dataframe thead th {\n",
       "        text-align: right;\n",
       "    }\n",
       "</style>\n",
       "<table border=\"1\" class=\"dataframe\">\n",
       "  <thead>\n",
       "    <tr style=\"text-align: right;\">\n",
       "      <th></th>\n",
       "      <th>Eva</th>\n",
       "      <th>Katie</th>\n",
       "      <th>Sam</th>\n",
       "      <th>Wally</th>\n",
       "      <th>Bob</th>\n",
       "    </tr>\n",
       "  </thead>\n",
       "  <tbody>\n",
       "    <tr>\n",
       "      <th>Test1</th>\n",
       "      <td>100</td>\n",
       "      <td>100</td>\n",
       "      <td>94</td>\n",
       "      <td>87</td>\n",
       "      <td>83</td>\n",
       "    </tr>\n",
       "    <tr>\n",
       "      <th>Test2</th>\n",
       "      <td>87</td>\n",
       "      <td>81</td>\n",
       "      <td>77</td>\n",
       "      <td>96</td>\n",
       "      <td>65</td>\n",
       "    </tr>\n",
       "    <tr>\n",
       "      <th>Test3</th>\n",
       "      <td>90</td>\n",
       "      <td>82</td>\n",
       "      <td>90</td>\n",
       "      <td>70</td>\n",
       "      <td>85</td>\n",
       "    </tr>\n",
       "  </tbody>\n",
       "</table>\n",
       "</div>"
      ],
      "text/plain": [
       "       Eva  Katie  Sam  Wally  Bob\n",
       "Test1  100    100   94     87   83\n",
       "Test2   87     81   77     96   65\n",
       "Test3   90     82   90     70   85"
      ]
     },
     "execution_count": 112,
     "metadata": {},
     "output_type": "execute_result"
    }
   ],
   "source": [
    "grades.sort_values(by='Test1', axis=1, ascending=False)"
   ]
  },
  {
   "cell_type": "markdown",
   "id": "f0baca4f",
   "metadata": {},
   "source": [
    "Ключевые аргументы by и axis совместно работают для определения того, какие значения будут сортироваться. В данном случае сортировка осуществляется по значениям столбцов (axis=1) для Test1."
   ]
  },
  {
   "cell_type": "markdown",
   "id": "c7759fda",
   "metadata": {},
   "source": [
    "Возможно, имена студентов и оценки станет удобнее читать при выводе в столбец, так что отсортировать можно и транспонированную коллекцию DataFrame. <br>\n",
    "В следующем примере указывать ключевой аргумент axis не нужно, потому что sort_values по умолчанию сортирует данные в заданном столбце:"
   ]
  },
  {
   "cell_type": "code",
   "execution_count": 113,
   "id": "da76accd",
   "metadata": {},
   "outputs": [
    {
     "data": {
      "text/html": [
       "<div>\n",
       "<style scoped>\n",
       "    .dataframe tbody tr th:only-of-type {\n",
       "        vertical-align: middle;\n",
       "    }\n",
       "\n",
       "    .dataframe tbody tr th {\n",
       "        vertical-align: top;\n",
       "    }\n",
       "\n",
       "    .dataframe thead th {\n",
       "        text-align: right;\n",
       "    }\n",
       "</style>\n",
       "<table border=\"1\" class=\"dataframe\">\n",
       "  <thead>\n",
       "    <tr style=\"text-align: right;\">\n",
       "      <th></th>\n",
       "      <th>Test1</th>\n",
       "      <th>Test2</th>\n",
       "      <th>Test3</th>\n",
       "    </tr>\n",
       "  </thead>\n",
       "  <tbody>\n",
       "    <tr>\n",
       "      <th>Eva</th>\n",
       "      <td>100</td>\n",
       "      <td>87</td>\n",
       "      <td>90</td>\n",
       "    </tr>\n",
       "    <tr>\n",
       "      <th>Katie</th>\n",
       "      <td>100</td>\n",
       "      <td>81</td>\n",
       "      <td>82</td>\n",
       "    </tr>\n",
       "    <tr>\n",
       "      <th>Sam</th>\n",
       "      <td>94</td>\n",
       "      <td>77</td>\n",
       "      <td>90</td>\n",
       "    </tr>\n",
       "    <tr>\n",
       "      <th>Wally</th>\n",
       "      <td>87</td>\n",
       "      <td>96</td>\n",
       "      <td>70</td>\n",
       "    </tr>\n",
       "    <tr>\n",
       "      <th>Bob</th>\n",
       "      <td>83</td>\n",
       "      <td>65</td>\n",
       "      <td>85</td>\n",
       "    </tr>\n",
       "  </tbody>\n",
       "</table>\n",
       "</div>"
      ],
      "text/plain": [
       "       Test1  Test2  Test3\n",
       "Eva      100     87     90\n",
       "Katie    100     81     82\n",
       "Sam       94     77     90\n",
       "Wally     87     96     70\n",
       "Bob       83     65     85"
      ]
     },
     "execution_count": 113,
     "metadata": {},
     "output_type": "execute_result"
    }
   ],
   "source": [
    "grades.T.sort_values(by='Test1', ascending=False)"
   ]
  },
  {
   "cell_type": "markdown",
   "id": "ae4965db",
   "metadata": {},
   "source": [
    "Наконец, поскольку сортируются только оценки экзамена Test1, не исключено, что другие экзамены выводить вообще не нужно. Объединим операцию выбора с сортировкой:"
   ]
  },
  {
   "cell_type": "code",
   "execution_count": 114,
   "id": "b7122d04",
   "metadata": {},
   "outputs": [
    {
     "data": {
      "text/plain": [
       "Eva      100\n",
       "Katie    100\n",
       "Sam       94\n",
       "Wally     87\n",
       "Bob       83\n",
       "Name: Test1, dtype: int64"
      ]
     },
     "execution_count": 114,
     "metadata": {},
     "output_type": "execute_result"
    }
   ],
   "source": [
    "grades.loc['Test1'].sort_values(ascending=False)"
   ]
  },
  {
   "cell_type": "markdown",
   "id": "21fe2c11",
   "metadata": {},
   "source": [
    "## Задачи на закрепление"
   ]
  },
  {
   "cell_type": "markdown",
   "id": "2bf3c583",
   "metadata": {},
   "source": [
    "### Упражнения на методы numpy\n",
    "При работе можно (и даже нужно пользоваться документацией библиотеки numpy).\n",
    "<ol>\n",
    "    <li>Создайте нулевой вектор размера 10;</li>\n",
    "    <li>Как найти размер памяти занимаемый вектором?</li>\n",
    "    <li>Как создать вектор размера 10, пятый элемент которого = 1?</li>\n",
    "    <li>Как инвертировать вектор (первый элемент становится последним)?</li>\n",
    "    <li>Создайте матрицу 3x3 со значениями от 0 до 8.</li>\n",
    "    <li>Создайте массив 10x10 со случайными значениями и найдите минимальное и максимальное значения.</li>\n",
    "    <li>Создайте двумерный-массив с 1(единицами) на границе и 0(нулями) внутри.</li>\n",
    "    <li>Как добавить границу (заполненную нулями) вокруг существующего массива (например: массив 5 на 5 из единиц окружить нулями, чтобы он превратился в массив 7 на 7?</li>\n",
    "    <li>Умножьте матрицу 5x3 на матрицу 3x2 (матричное произведение).</li>\n",
    "    <li>Вычтите среднее значение каждой строки матрицы.\n",
    "Пояснение к заданию: необходимо вычислить среднее значение каждой строки матрицы и вычесть его из элементов соответствующей строки.</li>\n",
    "</ol>"
   ]
  },
  {
   "cell_type": "code",
   "execution_count": null,
   "id": "39873cab",
   "metadata": {},
   "outputs": [],
   "source": []
  },
  {
   "cell_type": "markdown",
   "id": "70898132",
   "metadata": {},
   "source": [
    "### Упражнения на методы pandas\n",
    "При выполнении создать свой DataFrame.\n",
    "<ol>\n",
    "    <li>Напишите программу для подсчета количества столбцов в DataFrame.</li>\n",
    "    <li>Напишите программу для преобразования заданного списка списков (как пример: [[2, 4], [1, 3]]) в Dataframe.</li>\n",
    "    <li>Напишите программу, чтобы проверить, присутствует ли данный столбец в DataFrame или нет.</li>\n",
    "    <li>Напишите программу для объединения двух Series в DataFrame.</li>\n",
    "    <li>Напишите программу для удаления списка строк из указанного DataFrame.</li>\n",
    "    <li>Напишите программу для подсчета значений NaN в одном или нескольких столбцах в DataFrame.</li>\n",
    "    <li>Напишите программу для добавления одной строки в существующий DataFrame.</li>\n",
    "</ol>"
   ]
  },
  {
   "cell_type": "code",
   "execution_count": null,
   "id": "4873d114",
   "metadata": {},
   "outputs": [],
   "source": []
  }
 ],
 "metadata": {
  "kernelspec": {
   "display_name": "Python 3 (ipykernel)",
   "language": "python",
   "name": "python3"
  },
  "language_info": {
   "codemirror_mode": {
    "name": "ipython",
    "version": 3
   },
   "file_extension": ".py",
   "mimetype": "text/x-python",
   "name": "python",
   "nbconvert_exporter": "python",
   "pygments_lexer": "ipython3",
   "version": "3.9.7"
  }
 },
 "nbformat": 4,
 "nbformat_minor": 5
}
