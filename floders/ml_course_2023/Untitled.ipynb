{
 "cells": [
  {
   "cell_type": "code",
   "execution_count": null,
   "metadata": {},
   "outputs": [],
   "source": [
    "import os\n",
    "import json\n",
    "import pandas as pd\n",
    "from zipfile import ZipFile\n",
    "\n",
    "zip_file = ZipFile('Data.zip')\n",
    "folders = [folder.filename for folder in zip_file.infolist()]\n",
    "\n",
    "file_contents_list = [] # сюда записываем всё содержимое файлов\n",
    "for filename in folders:\n",
    "    with ZipFile(\"Data.zip\", \"r\") as myzip:\n",
    "        text_content = myzip.read(filename).decode('utf-8')\n",
    "        if len(text_content):\n",
    "            dict_file_content = json.loads(myzip.read(filename).decode('utf-8'))\n",
    "        \n",
    "            for rewiew in dict_file_content['feed']:\n",
    "                file_contents_list.append(pd.DataFrame(rewiew, index=[0]))\n",
    "        else:\n",
    "            continue\n",
    "\n",
    "data = pd.concat(file_contents_list, ignore_index=True)\n",
    "\n",
    "data.head(5)"
   ]
  },
  {
   "cell_type": "code",
   "execution_count": null,
   "id": "12d79adc",
   "metadata": {
    "cellId": "lvp8ov4yvka1xc2gh5wskx"
   },
   "outputs": [],
   "source": [
    "# если ваш json похож на это\n",
    "{\n",
    "  \"id\": 2343223,\n",
    "  \"feed\": [\n",
    "      {\n",
    "      \"body\": \"Какой-то текст здесь для примера\",\n",
    "      \"smth\": \"бесполезные данные\",\n",
    "      \"category\": \"Радость\"\n",
    "     }\n",
    "  ]\n",
    "}"
   ]
  },
  {
   "cell_type": "code",
   "execution_count": 11,
   "id": "2897c3d2",
   "metadata": {
    "cellId": "03q057u1tlqcfo9h20zzqmv"
   },
   "outputs": [
    {
     "name": "stdout",
     "output_type": "stream",
     "text": [
      "2.txt\n",
      "1.txt\n",
      "3.txt\n"
     ]
    },
    {
     "data": {
      "text/html": [
       "<div>\n",
       "<style scoped>\n",
       "    .dataframe tbody tr th:only-of-type {\n",
       "        vertical-align: middle;\n",
       "    }\n",
       "\n",
       "    .dataframe tbody tr th {\n",
       "        vertical-align: top;\n",
       "    }\n",
       "\n",
       "    .dataframe thead th {\n",
       "        text-align: right;\n",
       "    }\n",
       "</style>\n",
       "<table border=\"1\" class=\"dataframe\">\n",
       "  <thead>\n",
       "    <tr style=\"text-align: right;\">\n",
       "      <th></th>\n",
       "      <th>body</th>\n",
       "      <th>smth</th>\n",
       "      <th>category</th>\n",
       "    </tr>\n",
       "  </thead>\n",
       "  <tbody>\n",
       "    <tr>\n",
       "      <th>0</th>\n",
       "      <td>Какой-то текст здесь для примера</td>\n",
       "      <td>бесполезные данные</td>\n",
       "      <td>Радость</td>\n",
       "    </tr>\n",
       "    <tr>\n",
       "      <th>1</th>\n",
       "      <td>Какой-то текст здесь для примера</td>\n",
       "      <td>бесполезные данные</td>\n",
       "      <td>Радость</td>\n",
       "    </tr>\n",
       "    <tr>\n",
       "      <th>2</th>\n",
       "      <td>Какой-то текст здесь для примера</td>\n",
       "      <td>бесполезные данные</td>\n",
       "      <td>Радость</td>\n",
       "    </tr>\n",
       "  </tbody>\n",
       "</table>\n",
       "</div>"
      ],
      "text/plain": [
       "                               body                smth category\n",
       "0  Какой-то текст здесь для примера  бесполезные данные  Радость\n",
       "1  Какой-то текст здесь для примера  бесполезные данные  Радость\n",
       "2  Какой-то текст здесь для примера  бесполезные данные  Радость"
      ]
     },
     "execution_count": 11,
     "metadata": {},
     "output_type": "execute_result"
    }
   ],
   "source": [
    "import os\n",
    "import json\n",
    "import pandas as pd\n",
    "\n",
    "PATH_TO_DATA = 'data_dir'\n",
    "\n",
    "\n",
    "file_contents_list = [] # сюда записываем всё содержимое файлов\n",
    "for filename in os.listdir(PATH_TO_DATA):\n",
    "    print(filename)\n",
    "    with open(f'{PATH_TO_DATA}/{filename}', 'r', encoding='utf-8') as f:\n",
    "        \n",
    "        \n",
    "        dict_file_content = json.loads(f.read())\n",
    "        for rewiew in dict_file_content['feed']:\n",
    "            file_contents_list.append(pd.DataFrame(rewiew, index=[0]))\n",
    "\n",
    "data = pd.concat(file_contents_list, ignore_index=True)\n",
    "\n",
    "data.head(5)"
   ]
  },
  {
   "cell_type": "code",
   "execution_count": 12,
   "id": "b15ae6f7",
   "metadata": {
    "cellId": "ur9zjpvs2jga5vy0w8837"
   },
   "outputs": [
    {
     "data": {
      "text/html": [
       "<div>\n",
       "<style scoped>\n",
       "    .dataframe tbody tr th:only-of-type {\n",
       "        vertical-align: middle;\n",
       "    }\n",
       "\n",
       "    .dataframe tbody tr th {\n",
       "        vertical-align: top;\n",
       "    }\n",
       "\n",
       "    .dataframe thead th {\n",
       "        text-align: right;\n",
       "    }\n",
       "</style>\n",
       "<table border=\"1\" class=\"dataframe\">\n",
       "  <thead>\n",
       "    <tr style=\"text-align: right;\">\n",
       "      <th></th>\n",
       "      <th>body</th>\n",
       "      <th>smth</th>\n",
       "      <th>category</th>\n",
       "    </tr>\n",
       "  </thead>\n",
       "  <tbody>\n",
       "    <tr>\n",
       "      <th>0</th>\n",
       "      <td>Какой-то текст здесь для примера</td>\n",
       "      <td>бесполезные данные</td>\n",
       "      <td>Радость</td>\n",
       "    </tr>\n",
       "    <tr>\n",
       "      <th>1</th>\n",
       "      <td>Какой-то текст здесь для примера</td>\n",
       "      <td>бесполезные данные</td>\n",
       "      <td>Радость</td>\n",
       "    </tr>\n",
       "    <tr>\n",
       "      <th>2</th>\n",
       "      <td>Какой-то текст здесь для примера</td>\n",
       "      <td>бесполезные данные</td>\n",
       "      <td>Радость</td>\n",
       "    </tr>\n",
       "  </tbody>\n",
       "</table>\n",
       "</div>"
      ],
      "text/plain": [
       "                               body                smth category\n",
       "0  Какой-то текст здесь для примера  бесполезные данные  Радость\n",
       "1  Какой-то текст здесь для примера  бесполезные данные  Радость\n",
       "2  Какой-то текст здесь для примера  бесполезные данные  Радость"
      ]
     },
     "execution_count": 12,
     "metadata": {},
     "output_type": "execute_result"
    }
   ],
   "source": [
    "# используем параллельное чтение\n",
    "from multiprocessing import Pool\n",
    "from time import time\n",
    "import os\n",
    "\n",
    "# функция для считывания в отдельном процессе \n",
    "# отдельного файла\n",
    "def read_file(filename):\n",
    "    # сюда вставить действие по считыванию одного файла в необходимом формате\n",
    "    path_to_file = PATH_TO_DATA+filename\n",
    "    file_contents_list = list()\n",
    "    with open(f'{PATH_TO_DATA}/{filename}', 'r', encoding='utf-8') as f:\n",
    "        dict_file_content = json.loads(f.read())\n",
    "        for rewiew in dict_file_content['feed']:\n",
    "            file_contents_list.append(pd.DataFrame(rewiew, index=[0]))\n",
    "    result = pd.concat(file_contents_list, ignore_index=True)\n",
    "    return result\n",
    "\n",
    "# количество процессов - берется в количестве ядер вашего компьютера\n",
    "NUM_PROCESS = os.cpu_count()\n",
    "files_list = os.listdir(PATH_TO_DATA)\n",
    "\n",
    "with Pool(processes=NUM_PROCESS) as p:\n",
    "    data = p.map(read_file, files_list, chunksize=3)\n",
    "data = pd.concat(list(data), ignore_index=True)\n",
    "data.head(5)\n"
   ]
  },
  {
   "cell_type": "code",
   "execution_count": null,
   "id": "b1e57561",
   "metadata": {
    "cellId": "zb927q1bev4wk5htw5igp"
   },
   "outputs": [],
   "source": []
  },
  {
   "cell_type": "code",
   "execution_count": null,
   "id": "0d97dbbe",
   "metadata": {
    "cellId": "0yrdccq9pqcim0z51rqszi"
   },
   "outputs": [],
   "source": []
  },
  {
   "cell_type": "code",
   "execution_count": null,
   "id": "87aee16a",
   "metadata": {
    "cellId": "p6df4p9putxtq0nz2hju"
   },
   "outputs": [],
   "source": []
  },
  {
   "cell_type": "code",
   "execution_count": null,
   "id": "8bedafa6",
   "metadata": {
    "cellId": "gs8py5welgbddj4cqdc16k"
   },
   "outputs": [],
   "source": []
  },
  {
   "cell_type": "code",
   "execution_count": null,
   "id": "1b873944",
   "metadata": {
    "cellId": "1e4oe3gqya1flh5lcy53hh"
   },
   "outputs": [],
   "source": []
  }
 ],
 "metadata": {
  "language_info": {
   "codemirror_mode": {
    "name": "ipython",
    "version": 3
   },
   "file_extension": ".py",
   "mimetype": "text/x-python",
   "name": "python",
   "nbconvert_exporter": "python",
   "pygments_lexer": "ipython3",
   "version": "3.7.7"
  },
  "notebookId": "f30da993-2e2b-442a-8ddc-a7211657ed43",
  "notebookPath": "Untitled.ipynb"
 },
 "nbformat": 4,
 "nbformat_minor": 5
}
